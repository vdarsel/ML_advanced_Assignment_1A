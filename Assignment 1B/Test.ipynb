{
 "cells": [
  {
   "cell_type": "code",
   "execution_count": 2,
   "id": "75f35613",
   "metadata": {},
   "outputs": [],
   "source": [
    "import numpy as np"
   ]
  },
  {
   "cell_type": "code",
   "execution_count": 268,
   "id": "cc3d6ecf",
   "metadata": {},
   "outputs": [],
   "source": [
    "def next_table_group(current_table_group: int):\n",
    "    #current_table= 0 or 1\n",
    "    r = np.random.binomial(1,0.25)               #proba 0.25 to stay in the table => r = 0 => same table group\n",
    "    return (1-r)*current_table_group + r*(1-current_table_group) #  r=0 ? current_table_group : 1-current_table_group\n",
    "\n",
    "def next_table(current_table_group: int, K : int, k : int):\n",
    "    return current_table_group*K + k\n",
    "\n",
    "def coin_value(current_table : int, coin_tab_prob: np.ndarray):\n",
    "    return np.random.binomial(n=1,p=coin_tab_prob[current_table],size=2)\n",
    "\n",
    "def dice_value(coin_values: np.ndarray, player: int, dice_proba_tab: int):\n",
    "    res=np.zeros(2,int)\n",
    "    for i,coin in enumerate(coin_values):\n",
    "        res[i] = 1+np.random.choice(6,p=dice_proba_tab[player][coin])\n",
    "    return np.sum(res)\n",
    "\n",
    "def sum_values(dice_results: np.ndarray):\n",
    "    return np.sum(dice_results)\n",
    "\n",
    "def experiment_player(player: int, tab_dice : np.ndarray,tab_coin: np.ndarray):\n",
    "    r=1\n",
    "    K= int(len(tab_coin)/2)\n",
    "    res = np.zeros(K)\n",
    "    for k in range(K):\n",
    "        r=next_table_group(r)\n",
    "        table=next_table(r,K,k)\n",
    "        c = coin_value(table,tab_coin)\n",
    "        res[k] = dice_value(c,player,tab_dice)\n",
    "    return res\n",
    "\n",
    "def experiment(tab_dice : np.ndarray,tab_coin: np.ndarray):\n",
    "    K= int(len(tab_coin)/2)\n",
    "    N = len(tab_dice)\n",
    "    res = np.zeros((N,K),int)\n",
    "    for n in range(N):\n",
    "        res[n] = experiment_player(n,tab_dice,tab_coin)\n",
    "    return res"
   ]
  },
  {
   "cell_type": "code",
   "execution_count": 253,
   "id": "49c68fb7",
   "metadata": {},
   "outputs": [
    {
     "data": {
      "text/plain": [
       "array([[ 5.,  7.,  7., 10.,  3.,  6.,  9.],\n",
       "       [10.,  3.,  7.,  8.,  4.,  7.,  3.],\n",
       "       [ 7.,  4., 12., 11.,  5.,  4.,  5.],\n",
       "       [ 8.,  3., 11., 10.,  3.,  9.,  8.],\n",
       "       [10., 10., 12.,  2.,  9.,  7., 12.],\n",
       "       [ 9.,  8., 12., 12., 10.,  7.,  8.]])"
      ]
     },
     "execution_count": 253,
     "metadata": {},
     "output_type": "execute_result"
    }
   ],
   "source": [
    "bias_dice = 1\n",
    "player = 5\n",
    "tab_dice = generator_dice_proba_bias6_biasN(player+1,bias_dice)\n",
    "tab_coin = generator_coin_proba_uniform(K)\n",
    "s= experiment(tab_dice,tab_coin)\n",
    "s"
   ]
  },
  {
   "cell_type": "code",
   "execution_count": 34,
   "id": "efba3ec0",
   "metadata": {},
   "outputs": [],
   "source": [
    "def generator_coin_proba_uniform(K : int):\n",
    "    return 0.5*np.ones(2*K)\n",
    "\n",
    "def generator_coin_biais(K : int, pa: float):\n",
    "    return pa*np.ones(2*K)\n",
    "\n",
    "def generator_coin_biais_group0(K : int, pa: float):\n",
    "    return np.concatenate([pa*np.ones(K),0.5*np.ones(K)])\n",
    "\n",
    "def generator_dice_proba_uniform(N : int):\n",
    "    return 1/6*np.ones((N,2,6))\n",
    "\n",
    "def generator_dice_proba_uniform_bias6(N : int, k : int):\n",
    "    a = 1/6*np.ones((N,1,6))\n",
    "    b = np.array([[[1/(6+k),1/(6+k),1/(6+k),1/(6+k),1/(6+k),(1+k)/(6+k)]]]*N)\n",
    "    return np.concatenate([a,b],axis=1)\n",
    "\n",
    "def generator_dice_proba_bias6_biasN(N : int, k : int):\n",
    "    b=[]\n",
    "    a = np.array([[[1/(6+k),1/(6+k),1/(6+k),1/(6+k),1/(6+k),(1+k)/(6+k)]]]*N)\n",
    "    for i in range(N):\n",
    "        b.append([[1/(6+i),1/(6+i),1/(6+i),1/(6+i),1/(6+i),(1+i)/(6+i)]])\n",
    "    b = np.array(b)\n",
    "    return np.concatenate([a,b],axis=1)"
   ]
  },
  {
   "cell_type": "code",
   "execution_count": 63,
   "id": "29ca7d8e",
   "metadata": {},
   "outputs": [
    {
     "data": {
      "text/plain": [
       "array([0.5, 0.5, 0.5, 0.2, 0.2, 0.2])"
      ]
     },
     "execution_count": 63,
     "metadata": {},
     "output_type": "execute_result"
    }
   ],
   "source": [
    "generator_coin_biais_group0(3,0.2)"
   ]
  },
  {
   "cell_type": "code",
   "execution_count": 20,
   "id": "6a177112",
   "metadata": {},
   "outputs": [
    {
     "data": {
      "text/plain": [
       "array([[[0.16666667, 0.16666667, 0.16666667, 0.16666667, 0.16666667,\n",
       "         0.16666667],\n",
       "        [0.16666667, 0.16666667, 0.16666667, 0.16666667, 0.16666667,\n",
       "         0.16666667]],\n",
       "\n",
       "       [[0.16666667, 0.16666667, 0.16666667, 0.16666667, 0.16666667,\n",
       "         0.16666667],\n",
       "        [0.16666667, 0.16666667, 0.16666667, 0.16666667, 0.16666667,\n",
       "         0.16666667]]])"
      ]
     },
     "execution_count": 20,
     "metadata": {},
     "output_type": "execute_result"
    }
   ],
   "source": [
    "generator_dice_proba_uniform(2)"
   ]
  },
  {
   "cell_type": "code",
   "execution_count": 53,
   "id": "cfc005b5",
   "metadata": {},
   "outputs": [
    {
     "data": {
      "text/plain": [
       "array([[[0.16666667, 0.16666667, 0.16666667, 0.16666667, 0.16666667,\n",
       "         0.16666667],\n",
       "        [0.1       , 0.1       , 0.1       , 0.1       , 0.1       ,\n",
       "         0.5       ]],\n",
       "\n",
       "       [[0.16666667, 0.16666667, 0.16666667, 0.16666667, 0.16666667,\n",
       "         0.16666667],\n",
       "        [0.1       , 0.1       , 0.1       , 0.1       , 0.1       ,\n",
       "         0.5       ]]])"
      ]
     },
     "execution_count": 53,
     "metadata": {},
     "output_type": "execute_result"
    }
   ],
   "source": [
    "generator_dice_proba_uniform_bias6(2,4)"
   ]
  },
  {
   "cell_type": "code",
   "execution_count": 60,
   "id": "dfb32af3",
   "metadata": {},
   "outputs": [
    {
     "data": {
      "text/plain": [
       "array([[[0.1       , 0.1       , 0.1       , 0.1       , 0.1       ,\n",
       "         0.5       ],\n",
       "        [0.16666667, 0.16666667, 0.16666667, 0.16666667, 0.16666667,\n",
       "         0.16666667]],\n",
       "\n",
       "       [[0.1       , 0.1       , 0.1       , 0.1       , 0.1       ,\n",
       "         0.5       ],\n",
       "        [0.14285714, 0.14285714, 0.14285714, 0.14285714, 0.14285714,\n",
       "         0.28571429]]])"
      ]
     },
     "execution_count": 60,
     "metadata": {},
     "output_type": "execute_result"
    }
   ],
   "source": [
    "generator_dice_proba_bias6_biasN(2,4)"
   ]
  },
  {
   "cell_type": "code",
   "execution_count": 67,
   "id": "8f6f4edf",
   "metadata": {},
   "outputs": [
    {
     "data": {
      "text/plain": [
       "array([[0.14285714, 0.14285714, 0.14285714, 0.14285714, 0.14285714,\n",
       "        0.28571429],\n",
       "       [0.09090909, 0.09090909, 0.09090909, 0.09090909, 0.09090909,\n",
       "        0.54545455]])"
      ]
     },
     "execution_count": 67,
     "metadata": {},
     "output_type": "execute_result"
    }
   ],
   "source": [
    "tab_dice[player]"
   ]
  },
  {
   "cell_type": "code",
   "execution_count": 36,
   "id": "136e391c",
   "metadata": {},
   "outputs": [
    {
     "data": {
      "text/plain": [
       "array([[0.14285714, 0.14285714, 0.14285714, 0.14285714, 0.14285714,\n",
       "        0.28571429],\n",
       "       [0.14285714, 0.14285714, 0.14285714, 0.14285714, 0.14285714,\n",
       "        0.28571429],\n",
       "       [0.14285714, 0.14285714, 0.14285714, 0.14285714, 0.14285714,\n",
       "        0.28571429],\n",
       "       [0.14285714, 0.14285714, 5.        , 0.14285714, 0.14285714,\n",
       "        0.28571429],\n",
       "       [0.14285714, 0.14285714, 0.14285714, 0.14285714, 0.14285714,\n",
       "        0.28571429],\n",
       "       [0.14285714, 0.14285714, 0.14285714, 0.14285714, 0.14285714,\n",
       "        0.28571429]])"
      ]
     },
     "execution_count": 36,
     "metadata": {},
     "output_type": "execute_result"
    }
   ],
   "source": [
    "b = np.array([[1/7,1/7,1/7,1/7,1/7,2/7]]*6)\n",
    "b[3][2]=5\n",
    "b"
   ]
  },
  {
   "cell_type": "code",
   "execution_count": 68,
   "id": "05c1bbea",
   "metadata": {},
   "outputs": [
    {
     "data": {
      "text/plain": [
       "array([[[6.23042070e-307, 4.67296746e-307],\n",
       "        [1.69121096e-306, 7.56596412e-307]],\n",
       "\n",
       "       [[4.45066125e-308, 1.69121096e-306],\n",
       "        [7.56587585e-307, 1.37961302e-306]],\n",
       "\n",
       "       [[1.05699242e-307, 8.01097889e-307],\n",
       "        [1.78020169e-306, 7.56601165e-307]],\n",
       "\n",
       "       [[1.02359984e-306, 1.69118108e-306],\n",
       "        [1.69111725e-306, 1.69118923e-306]],\n",
       "\n",
       "       [[1.11260144e-306, 6.89812281e-307],\n",
       "        [2.22522596e-306, 1.50008880e+248]]])"
      ]
     },
     "execution_count": 68,
     "metadata": {},
     "output_type": "execute_result"
    }
   ],
   "source": [
    "np.empty((5,2,2))"
   ]
  },
  {
   "cell_type": "code",
   "execution_count": 197,
   "id": "8166b40a",
   "metadata": {},
   "outputs": [],
   "source": [
    "def p_one_dice_r(k: int, K: int, ri: int, player: int, tab_coin: np.ndarray, tab_dice: np.ndarray):\n",
    "    res = np.zeros(6)\n",
    "    pA = tab_coin[ri*K+k]\n",
    "    #ri*K+k=K+k or k\n",
    "    for i in range(6):\n",
    "        res[i] = pA*tab_dice[player][0][i]+(1-pA)*tab_dice[player][1][i]\n",
    "    return res\n",
    "\n",
    "def p_s_r(k: int, K: int, s: int, ri: int, player: int, tab_coin: np.ndarray, tab_dice: np.ndarray):\n",
    "    p=p_one_dice_r(k,K,ri,player,tab_coin,tab_dice)\n",
    "    res=0\n",
    "    sum_val = s[k]\n",
    "    for i in range(max(0,sum_val-7),min(6,sum_val-1)):\n",
    "        res+=p[i]*p[sum_val-i-2]\n",
    "    return res\n",
    "\n",
    "def p_r_r(ri: int, ri_previous: int):\n",
    "    if (ri==ri_previous):\n",
    "        return 0.25\n",
    "    else:\n",
    "        return 0.75\n",
    "    \n",
    "def alpha(ri : int, ri_previous : int, i: int, K: int, \n",
    "          tab_alpha: np.ndarray, player: int, tab_dice: np.ndarray,\n",
    "          tab_coin: np.ndarray, s : np.ndarray):\n",
    "          #tab_alpha[i][ri][ri_previous]=alpha_i(ri,ri_previous)\n",
    "    if(type(tab_alpha)==type(None)): # initiate if needed\n",
    "        tab_alpha = np.empty((K,2,2))\n",
    "        tab_alpha[:]=np.nan\n",
    "    # print(type(ri_previous))\n",
    "    if(np.isnan(tab_alpha[i][ri][ri_previous])):\n",
    "        p_s = p_s_r(i, K, s, ri, player, tab_coin,tab_dice)\n",
    "        p_r = p_r_r(ri,ri_previous)\n",
    "        if(i==(K-1)):\n",
    "            bonus = 1/(np.power(0.25,int(K/2))*1/6*1/6) \n",
    "            #to avoid to small value. Since we compute a ratio of alpha at the end, it is ok\n",
    "            tab_alpha[i][ri][ri_previous] = p_s*p_r*bonus\n",
    "        else:\n",
    "            tab_alpha, r_next_0 = alpha(0,ri,i+1,K,tab_alpha,player,tab_dice,tab_coin,s)\n",
    "            tab_alpha, r_next_1 = alpha(1,ri,i+1,K,tab_alpha,player,tab_dice,tab_coin,s)\n",
    "            tab_alpha[i][ri][ri_previous] = p_s*p_r*(r_next_0+r_next_1)\n",
    "    if(np.isnan(tab_alpha[i][ri][ri_previous])):\n",
    "        print(i,ri,ri_previous)\n",
    "    return tab_alpha,tab_alpha[i][ri][ri_previous]\n",
    "\n",
    "def p_ri(ri: int, ri_previous: int, i: int, s: np.ndarray, K: int, \n",
    "          tab_alpha: np.ndarray, player: int, tab_dice: np.ndarray,\n",
    "          tab_coin: np.ndarray):\n",
    "    tab_alpha,r = alpha(ri,ri_previous,i, K, tab_alpha, player,tab_dice,tab_coin,s)\n",
    "    tab_alpha,r_minus = alpha(1-ri,ri_previous,i, K, tab_alpha, player,tab_dice,tab_coin,s)\n",
    "    return tab_alpha,r/(r+r_minus)\n",
    "\n",
    "# def p_r1(r1: int, i: int, s: np.ndarray, K: int, \n",
    "#           tab_alpha: np.ndarray, player: int, tab_dice: np.ndarray,\n",
    "#           tab_coin: np.ndarray):\n",
    "#     tab_alpha,r = alpha(r1,1,i, K, tab_alpha, player,tab_dice,tab_coin,s)\n",
    "#     tab_alpha,r_minus = alpha(1-r1,1,i, K, tab_alpha, player,tab_dice,tab_coin,s)\n",
    "#     return tab_alpha,r/(r+r_minus)\n",
    "\n",
    "def p_all_r(r: np.ndarray, s: np.ndarray, player: int, tab_dice : np.ndarray, tab_coin: np.ndarray,  tab_alpha: np.ndarray=None):\n",
    "    K = int(len(tab_coin)/2)\n",
    "    if(type(tab_alpha)==type(None)): # initiate if needed\n",
    "        tab_alpha = np.empty((K,2,2))\n",
    "        tab_alpha[:]=np.nan\n",
    "    # suppose r0=1\n",
    "    tab_alpha,res = p_ri(r[0],1,0,s,K,tab_alpha,player,tab_dice,tab_coin)\n",
    "    for i in range(1,K):\n",
    "        tab_alpha,temp = p_ri(r[i],r[i-1],i,s,K,tab_alpha,player,tab_dice,tab_coin)\n",
    "        #update tab_alpha all the time in order to compute it only once\n",
    "        res=temp*res\n",
    "    return res,tab_alpha"
   ]
  },
  {
   "cell_type": "code",
   "execution_count": 162,
   "id": "5f562945",
   "metadata": {},
   "outputs": [
    {
     "data": {
      "text/plain": [
       "int"
      ]
     },
     "execution_count": 162,
     "metadata": {},
     "output_type": "execute_result"
    }
   ],
   "source": [
    "type(1-1)"
   ]
  },
  {
   "cell_type": "code",
   "execution_count": 198,
   "id": "2ec6daf6",
   "metadata": {},
   "outputs": [
    {
     "data": {
      "text/plain": [
       "0.9999999999999999"
      ]
     },
     "execution_count": 198,
     "metadata": {},
     "output_type": "execute_result"
    }
   ],
   "source": [
    "c= generator_coin_proba_uniform(3)\n",
    "d= generator_dice_proba_uniform(2)\n",
    "res=0\n",
    "tab_alpha=None\n",
    "for i in range(2):\n",
    "    for j in range(2):\n",
    "        for k in range(2):\n",
    "            a,tab_alpha =p_all_r(np.array([i,j,k]),np.array([3,5,8]),1,d,c,tab_alpha)\n",
    "            res+=a\n",
    "res"
   ]
  },
  {
   "cell_type": "code",
   "execution_count": 298,
   "id": "c4756164",
   "metadata": {},
   "outputs": [],
   "source": [
    "import plotly.graph_objects as go\n",
    "import numpy as np\n",
    "from itertools import product\n",
    "\n",
    "def generate_R_i(r_previous: int, i: int, K: int, tab_alpha:np.ndarray, s: np.ndarray, player: int, tab_dice : np.ndarray, tab_coin: np.ndarray):\n",
    "    tab_alpha, a_1 = alpha(1,r_previous,i,K,tab_alpha,player,tab_dice,tab_coin,s)\n",
    "    tab_alpha, a_0 = alpha(0,r_previous,i,K,tab_alpha,player,tab_dice,tab_coin,s)\n",
    "    p = a_1/(a_1+a_0)\n",
    "    res = np.random.binomial(1,p)\n",
    "    return tab_alpha,res\n",
    "\n",
    "def generate_random_value(s: np.ndarray, player: int, tab_dice : np.ndarray, tab_coin: np.ndarray, tab_alpha: np.ndarray=None):\n",
    "    K = int(len(tab_coin)/2)\n",
    "    r=np.empty(K,int)\n",
    "    if(type(tab_alpha)==type(None)): # initiate if needed\n",
    "        tab_alpha = np.empty((K,2,2))\n",
    "        tab_alpha[:]=np.nan\n",
    "    # suppose r0=1\n",
    "    tab_alpha,a = generate_R_i(1,0,K,tab_alpha,s,player,tab_dice,tab_coin)\n",
    "    r[0] = int(a)\n",
    "    for i in range(1,K):\n",
    "        tab_alpha,a = generate_R_i(r[i-1],i,K,tab_alpha,s,player,tab_dice,tab_coin)\n",
    "        #update tab_alpha all the time in order to compute it only once\n",
    "        r[i] = int(a)\n",
    "    return r,tab_alpha\n",
    "\n",
    "def decode(trans: np.ndarray):\n",
    "    res=0\n",
    "    pow =1\n",
    "    for i,a in enumerate(trans):\n",
    "        res= res + a*pow\n",
    "        pow=pow*2\n",
    "    return res\n",
    "\n",
    "def Verify_Model(attempt:int, s: np.ndarray, player: int, tab_dice : np.ndarray, tab_coin: np.ndarray, tab_alpha: np.ndarray=None, printage:bool=False):\n",
    "    K=int(len(tab_coin)/2)\n",
    "    possible = [np.array(i) for i in product(range(2), repeat=K)]\n",
    "    proba = np.empty(len(possible))\n",
    "    count = np.zeros(len(possible))\n",
    "    for i in range(attempt):\n",
    "        a,tab_alpha = generate_random_value(s,player,tab_dice,tab_coin,tab_alpha)\n",
    "        count[decode(a)]+=1\n",
    "    for poss in possible:\n",
    "        a, tab_alpha=p_all_r(poss,s,player,tab_dice,tab_coin,tab_alpha)\n",
    "        proba[decode(poss)] = a\n",
    "    print(\"Gap on \"+str(attempt)+\" attempts:\\t\",np.sum(np.abs(proba-count/attempt)))\n",
    "    if (printage):\n",
    "        fig = go.Figure(data=[go.Scatter(x=[decode(poss) for poss in possible],y=proba, customdata=possible, hovertemplate='Tables=%{customdata}<br>Probability=%{y}<extra></extra>', mode=\"markers\", name=\"Real probability\"),\n",
    "                        go.Scatter(x=[decode(poss) for poss in possible],y=count/attempt, customdata=possible, hovertemplate='Tables=%{customdata}<br>Probability=%{y}<extra></extra>', mode=\"markers\", name=\"Observed reality on \"+str(attempt)+\" tests\")])\n",
    "        fig.show()"
   ]
  },
  {
   "cell_type": "code",
   "execution_count": 304,
   "id": "1fdba95e",
   "metadata": {},
   "outputs": [
    {
     "name": "stdout",
     "output_type": "stream",
     "text": [
      "Gap on 3000 attempts:\t 0.06994748380262142\n"
     ]
    },
    {
     "data": {
      "application/vnd.plotly.v1+json": {
       "config": {
        "plotlyServerURL": "https://plot.ly"
       },
       "data": [
        {
         "customdata": [
          [
           0,
           0,
           0,
           0,
           0
          ],
          [
           0,
           0,
           0,
           0,
           1
          ],
          [
           0,
           0,
           0,
           1,
           0
          ],
          [
           0,
           0,
           0,
           1,
           1
          ],
          [
           0,
           0,
           1,
           0,
           0
          ],
          [
           0,
           0,
           1,
           0,
           1
          ],
          [
           0,
           0,
           1,
           1,
           0
          ],
          [
           0,
           0,
           1,
           1,
           1
          ],
          [
           0,
           1,
           0,
           0,
           0
          ],
          [
           0,
           1,
           0,
           0,
           1
          ],
          [
           0,
           1,
           0,
           1,
           0
          ],
          [
           0,
           1,
           0,
           1,
           1
          ],
          [
           0,
           1,
           1,
           0,
           0
          ],
          [
           0,
           1,
           1,
           0,
           1
          ],
          [
           0,
           1,
           1,
           1,
           0
          ],
          [
           0,
           1,
           1,
           1,
           1
          ],
          [
           1,
           0,
           0,
           0,
           0
          ],
          [
           1,
           0,
           0,
           0,
           1
          ],
          [
           1,
           0,
           0,
           1,
           0
          ],
          [
           1,
           0,
           0,
           1,
           1
          ],
          [
           1,
           0,
           1,
           0,
           0
          ],
          [
           1,
           0,
           1,
           0,
           1
          ],
          [
           1,
           0,
           1,
           1,
           0
          ],
          [
           1,
           0,
           1,
           1,
           1
          ],
          [
           1,
           1,
           0,
           0,
           0
          ],
          [
           1,
           1,
           0,
           0,
           1
          ],
          [
           1,
           1,
           0,
           1,
           0
          ],
          [
           1,
           1,
           0,
           1,
           1
          ],
          [
           1,
           1,
           1,
           0,
           0
          ],
          [
           1,
           1,
           1,
           0,
           1
          ],
          [
           1,
           1,
           1,
           1,
           0
          ],
          [
           1,
           1,
           1,
           1,
           1
          ]
         ],
         "hovertemplate": "Tables=%{customdata}<br>Probability=%{y}<extra></extra>",
         "mode": "markers",
         "name": "Real probability",
         "type": "scatter",
         "x": [
          0,
          16,
          8,
          24,
          4,
          20,
          12,
          28,
          2,
          18,
          10,
          26,
          6,
          22,
          14,
          30,
          1,
          17,
          9,
          25,
          5,
          21,
          13,
          29,
          3,
          19,
          11,
          27,
          7,
          23,
          15,
          31
         ],
         "y": [
          0.0019852864397604465,
          0.0029365997374104485,
          0.02642939763669403,
          0.004343765133861326,
          0.02642939763669403,
          0.03909388620475194,
          0.03909388620475194,
          0.006425218696909559,
          0.011435249893020173,
          0.016914814487484185,
          0.15223333038735762,
          0.025020087171041244,
          0.01691481448748418,
          0.025020087171041244,
          0.025020087171041244,
          0.004112139966022118,
          0.006449792117326143,
          0.00954041565930273,
          0.08586374093372456,
          0.014112010014673501,
          0.08586374093372456,
          0.12700809013206152,
          0.12700809013206152,
          0.020874229568819458,
          0.004127866955088732,
          0.0061058660219537484,
          0.05495279419758372,
          0.009031686409391042,
          0.006105866021953748,
          0.009031686409391042,
          0.009031686409391042,
          0.0014843896582271618
         ]
        },
        {
         "customdata": [
          [
           0,
           0,
           0,
           0,
           0
          ],
          [
           0,
           0,
           0,
           0,
           1
          ],
          [
           0,
           0,
           0,
           1,
           0
          ],
          [
           0,
           0,
           0,
           1,
           1
          ],
          [
           0,
           0,
           1,
           0,
           0
          ],
          [
           0,
           0,
           1,
           0,
           1
          ],
          [
           0,
           0,
           1,
           1,
           0
          ],
          [
           0,
           0,
           1,
           1,
           1
          ],
          [
           0,
           1,
           0,
           0,
           0
          ],
          [
           0,
           1,
           0,
           0,
           1
          ],
          [
           0,
           1,
           0,
           1,
           0
          ],
          [
           0,
           1,
           0,
           1,
           1
          ],
          [
           0,
           1,
           1,
           0,
           0
          ],
          [
           0,
           1,
           1,
           0,
           1
          ],
          [
           0,
           1,
           1,
           1,
           0
          ],
          [
           0,
           1,
           1,
           1,
           1
          ],
          [
           1,
           0,
           0,
           0,
           0
          ],
          [
           1,
           0,
           0,
           0,
           1
          ],
          [
           1,
           0,
           0,
           1,
           0
          ],
          [
           1,
           0,
           0,
           1,
           1
          ],
          [
           1,
           0,
           1,
           0,
           0
          ],
          [
           1,
           0,
           1,
           0,
           1
          ],
          [
           1,
           0,
           1,
           1,
           0
          ],
          [
           1,
           0,
           1,
           1,
           1
          ],
          [
           1,
           1,
           0,
           0,
           0
          ],
          [
           1,
           1,
           0,
           0,
           1
          ],
          [
           1,
           1,
           0,
           1,
           0
          ],
          [
           1,
           1,
           0,
           1,
           1
          ],
          [
           1,
           1,
           1,
           0,
           0
          ],
          [
           1,
           1,
           1,
           0,
           1
          ],
          [
           1,
           1,
           1,
           1,
           0
          ],
          [
           1,
           1,
           1,
           1,
           1
          ]
         ],
         "hovertemplate": "Tables=%{customdata}<br>Probability=%{y}<extra></extra>",
         "mode": "markers",
         "name": "Observed reality on 3000 tests",
         "type": "scatter",
         "x": [
          0,
          16,
          8,
          24,
          4,
          20,
          12,
          28,
          2,
          18,
          10,
          26,
          6,
          22,
          14,
          30,
          1,
          17,
          9,
          25,
          5,
          21,
          13,
          29,
          3,
          19,
          11,
          27,
          7,
          23,
          15,
          31
         ],
         "y": [
          0.0026666666666666666,
          0.0036666666666666666,
          0.026,
          0.004,
          0.025666666666666667,
          0.042333333333333334,
          0.03833333333333333,
          0.005,
          0.011666666666666667,
          0.02033333333333333,
          0.153,
          0.024333333333333332,
          0.017666666666666667,
          0.025333333333333333,
          0.025,
          0.004,
          0.004666666666666667,
          0.008666666666666666,
          0.08,
          0.015333333333333332,
          0.08,
          0.13366666666666666,
          0.11966666666666667,
          0.027666666666666666,
          0.0033333333333333335,
          0.009666666666666667,
          0.061,
          0.006666666666666667,
          0.006666666666666667,
          0.006,
          0.006666666666666667,
          0.0013333333333333333
         ]
        }
       ],
       "layout": {
        "template": {
         "data": {
          "bar": [
           {
            "error_x": {
             "color": "#2a3f5f"
            },
            "error_y": {
             "color": "#2a3f5f"
            },
            "marker": {
             "line": {
              "color": "#E5ECF6",
              "width": 0.5
             },
             "pattern": {
              "fillmode": "overlay",
              "size": 10,
              "solidity": 0.2
             }
            },
            "type": "bar"
           }
          ],
          "barpolar": [
           {
            "marker": {
             "line": {
              "color": "#E5ECF6",
              "width": 0.5
             },
             "pattern": {
              "fillmode": "overlay",
              "size": 10,
              "solidity": 0.2
             }
            },
            "type": "barpolar"
           }
          ],
          "carpet": [
           {
            "aaxis": {
             "endlinecolor": "#2a3f5f",
             "gridcolor": "white",
             "linecolor": "white",
             "minorgridcolor": "white",
             "startlinecolor": "#2a3f5f"
            },
            "baxis": {
             "endlinecolor": "#2a3f5f",
             "gridcolor": "white",
             "linecolor": "white",
             "minorgridcolor": "white",
             "startlinecolor": "#2a3f5f"
            },
            "type": "carpet"
           }
          ],
          "choropleth": [
           {
            "colorbar": {
             "outlinewidth": 0,
             "ticks": ""
            },
            "type": "choropleth"
           }
          ],
          "contour": [
           {
            "colorbar": {
             "outlinewidth": 0,
             "ticks": ""
            },
            "colorscale": [
             [
              0,
              "#0d0887"
             ],
             [
              0.1111111111111111,
              "#46039f"
             ],
             [
              0.2222222222222222,
              "#7201a8"
             ],
             [
              0.3333333333333333,
              "#9c179e"
             ],
             [
              0.4444444444444444,
              "#bd3786"
             ],
             [
              0.5555555555555556,
              "#d8576b"
             ],
             [
              0.6666666666666666,
              "#ed7953"
             ],
             [
              0.7777777777777778,
              "#fb9f3a"
             ],
             [
              0.8888888888888888,
              "#fdca26"
             ],
             [
              1,
              "#f0f921"
             ]
            ],
            "type": "contour"
           }
          ],
          "contourcarpet": [
           {
            "colorbar": {
             "outlinewidth": 0,
             "ticks": ""
            },
            "type": "contourcarpet"
           }
          ],
          "heatmap": [
           {
            "colorbar": {
             "outlinewidth": 0,
             "ticks": ""
            },
            "colorscale": [
             [
              0,
              "#0d0887"
             ],
             [
              0.1111111111111111,
              "#46039f"
             ],
             [
              0.2222222222222222,
              "#7201a8"
             ],
             [
              0.3333333333333333,
              "#9c179e"
             ],
             [
              0.4444444444444444,
              "#bd3786"
             ],
             [
              0.5555555555555556,
              "#d8576b"
             ],
             [
              0.6666666666666666,
              "#ed7953"
             ],
             [
              0.7777777777777778,
              "#fb9f3a"
             ],
             [
              0.8888888888888888,
              "#fdca26"
             ],
             [
              1,
              "#f0f921"
             ]
            ],
            "type": "heatmap"
           }
          ],
          "heatmapgl": [
           {
            "colorbar": {
             "outlinewidth": 0,
             "ticks": ""
            },
            "colorscale": [
             [
              0,
              "#0d0887"
             ],
             [
              0.1111111111111111,
              "#46039f"
             ],
             [
              0.2222222222222222,
              "#7201a8"
             ],
             [
              0.3333333333333333,
              "#9c179e"
             ],
             [
              0.4444444444444444,
              "#bd3786"
             ],
             [
              0.5555555555555556,
              "#d8576b"
             ],
             [
              0.6666666666666666,
              "#ed7953"
             ],
             [
              0.7777777777777778,
              "#fb9f3a"
             ],
             [
              0.8888888888888888,
              "#fdca26"
             ],
             [
              1,
              "#f0f921"
             ]
            ],
            "type": "heatmapgl"
           }
          ],
          "histogram": [
           {
            "marker": {
             "pattern": {
              "fillmode": "overlay",
              "size": 10,
              "solidity": 0.2
             }
            },
            "type": "histogram"
           }
          ],
          "histogram2d": [
           {
            "colorbar": {
             "outlinewidth": 0,
             "ticks": ""
            },
            "colorscale": [
             [
              0,
              "#0d0887"
             ],
             [
              0.1111111111111111,
              "#46039f"
             ],
             [
              0.2222222222222222,
              "#7201a8"
             ],
             [
              0.3333333333333333,
              "#9c179e"
             ],
             [
              0.4444444444444444,
              "#bd3786"
             ],
             [
              0.5555555555555556,
              "#d8576b"
             ],
             [
              0.6666666666666666,
              "#ed7953"
             ],
             [
              0.7777777777777778,
              "#fb9f3a"
             ],
             [
              0.8888888888888888,
              "#fdca26"
             ],
             [
              1,
              "#f0f921"
             ]
            ],
            "type": "histogram2d"
           }
          ],
          "histogram2dcontour": [
           {
            "colorbar": {
             "outlinewidth": 0,
             "ticks": ""
            },
            "colorscale": [
             [
              0,
              "#0d0887"
             ],
             [
              0.1111111111111111,
              "#46039f"
             ],
             [
              0.2222222222222222,
              "#7201a8"
             ],
             [
              0.3333333333333333,
              "#9c179e"
             ],
             [
              0.4444444444444444,
              "#bd3786"
             ],
             [
              0.5555555555555556,
              "#d8576b"
             ],
             [
              0.6666666666666666,
              "#ed7953"
             ],
             [
              0.7777777777777778,
              "#fb9f3a"
             ],
             [
              0.8888888888888888,
              "#fdca26"
             ],
             [
              1,
              "#f0f921"
             ]
            ],
            "type": "histogram2dcontour"
           }
          ],
          "mesh3d": [
           {
            "colorbar": {
             "outlinewidth": 0,
             "ticks": ""
            },
            "type": "mesh3d"
           }
          ],
          "parcoords": [
           {
            "line": {
             "colorbar": {
              "outlinewidth": 0,
              "ticks": ""
             }
            },
            "type": "parcoords"
           }
          ],
          "pie": [
           {
            "automargin": true,
            "type": "pie"
           }
          ],
          "scatter": [
           {
            "fillpattern": {
             "fillmode": "overlay",
             "size": 10,
             "solidity": 0.2
            },
            "type": "scatter"
           }
          ],
          "scatter3d": [
           {
            "line": {
             "colorbar": {
              "outlinewidth": 0,
              "ticks": ""
             }
            },
            "marker": {
             "colorbar": {
              "outlinewidth": 0,
              "ticks": ""
             }
            },
            "type": "scatter3d"
           }
          ],
          "scattercarpet": [
           {
            "marker": {
             "colorbar": {
              "outlinewidth": 0,
              "ticks": ""
             }
            },
            "type": "scattercarpet"
           }
          ],
          "scattergeo": [
           {
            "marker": {
             "colorbar": {
              "outlinewidth": 0,
              "ticks": ""
             }
            },
            "type": "scattergeo"
           }
          ],
          "scattergl": [
           {
            "marker": {
             "colorbar": {
              "outlinewidth": 0,
              "ticks": ""
             }
            },
            "type": "scattergl"
           }
          ],
          "scattermapbox": [
           {
            "marker": {
             "colorbar": {
              "outlinewidth": 0,
              "ticks": ""
             }
            },
            "type": "scattermapbox"
           }
          ],
          "scatterpolar": [
           {
            "marker": {
             "colorbar": {
              "outlinewidth": 0,
              "ticks": ""
             }
            },
            "type": "scatterpolar"
           }
          ],
          "scatterpolargl": [
           {
            "marker": {
             "colorbar": {
              "outlinewidth": 0,
              "ticks": ""
             }
            },
            "type": "scatterpolargl"
           }
          ],
          "scatterternary": [
           {
            "marker": {
             "colorbar": {
              "outlinewidth": 0,
              "ticks": ""
             }
            },
            "type": "scatterternary"
           }
          ],
          "surface": [
           {
            "colorbar": {
             "outlinewidth": 0,
             "ticks": ""
            },
            "colorscale": [
             [
              0,
              "#0d0887"
             ],
             [
              0.1111111111111111,
              "#46039f"
             ],
             [
              0.2222222222222222,
              "#7201a8"
             ],
             [
              0.3333333333333333,
              "#9c179e"
             ],
             [
              0.4444444444444444,
              "#bd3786"
             ],
             [
              0.5555555555555556,
              "#d8576b"
             ],
             [
              0.6666666666666666,
              "#ed7953"
             ],
             [
              0.7777777777777778,
              "#fb9f3a"
             ],
             [
              0.8888888888888888,
              "#fdca26"
             ],
             [
              1,
              "#f0f921"
             ]
            ],
            "type": "surface"
           }
          ],
          "table": [
           {
            "cells": {
             "fill": {
              "color": "#EBF0F8"
             },
             "line": {
              "color": "white"
             }
            },
            "header": {
             "fill": {
              "color": "#C8D4E3"
             },
             "line": {
              "color": "white"
             }
            },
            "type": "table"
           }
          ]
         },
         "layout": {
          "annotationdefaults": {
           "arrowcolor": "#2a3f5f",
           "arrowhead": 0,
           "arrowwidth": 1
          },
          "autotypenumbers": "strict",
          "coloraxis": {
           "colorbar": {
            "outlinewidth": 0,
            "ticks": ""
           }
          },
          "colorscale": {
           "diverging": [
            [
             0,
             "#8e0152"
            ],
            [
             0.1,
             "#c51b7d"
            ],
            [
             0.2,
             "#de77ae"
            ],
            [
             0.3,
             "#f1b6da"
            ],
            [
             0.4,
             "#fde0ef"
            ],
            [
             0.5,
             "#f7f7f7"
            ],
            [
             0.6,
             "#e6f5d0"
            ],
            [
             0.7,
             "#b8e186"
            ],
            [
             0.8,
             "#7fbc41"
            ],
            [
             0.9,
             "#4d9221"
            ],
            [
             1,
             "#276419"
            ]
           ],
           "sequential": [
            [
             0,
             "#0d0887"
            ],
            [
             0.1111111111111111,
             "#46039f"
            ],
            [
             0.2222222222222222,
             "#7201a8"
            ],
            [
             0.3333333333333333,
             "#9c179e"
            ],
            [
             0.4444444444444444,
             "#bd3786"
            ],
            [
             0.5555555555555556,
             "#d8576b"
            ],
            [
             0.6666666666666666,
             "#ed7953"
            ],
            [
             0.7777777777777778,
             "#fb9f3a"
            ],
            [
             0.8888888888888888,
             "#fdca26"
            ],
            [
             1,
             "#f0f921"
            ]
           ],
           "sequentialminus": [
            [
             0,
             "#0d0887"
            ],
            [
             0.1111111111111111,
             "#46039f"
            ],
            [
             0.2222222222222222,
             "#7201a8"
            ],
            [
             0.3333333333333333,
             "#9c179e"
            ],
            [
             0.4444444444444444,
             "#bd3786"
            ],
            [
             0.5555555555555556,
             "#d8576b"
            ],
            [
             0.6666666666666666,
             "#ed7953"
            ],
            [
             0.7777777777777778,
             "#fb9f3a"
            ],
            [
             0.8888888888888888,
             "#fdca26"
            ],
            [
             1,
             "#f0f921"
            ]
           ]
          },
          "colorway": [
           "#636efa",
           "#EF553B",
           "#00cc96",
           "#ab63fa",
           "#FFA15A",
           "#19d3f3",
           "#FF6692",
           "#B6E880",
           "#FF97FF",
           "#FECB52"
          ],
          "font": {
           "color": "#2a3f5f"
          },
          "geo": {
           "bgcolor": "white",
           "lakecolor": "white",
           "landcolor": "#E5ECF6",
           "showlakes": true,
           "showland": true,
           "subunitcolor": "white"
          },
          "hoverlabel": {
           "align": "left"
          },
          "hovermode": "closest",
          "mapbox": {
           "style": "light"
          },
          "paper_bgcolor": "white",
          "plot_bgcolor": "#E5ECF6",
          "polar": {
           "angularaxis": {
            "gridcolor": "white",
            "linecolor": "white",
            "ticks": ""
           },
           "bgcolor": "#E5ECF6",
           "radialaxis": {
            "gridcolor": "white",
            "linecolor": "white",
            "ticks": ""
           }
          },
          "scene": {
           "xaxis": {
            "backgroundcolor": "#E5ECF6",
            "gridcolor": "white",
            "gridwidth": 2,
            "linecolor": "white",
            "showbackground": true,
            "ticks": "",
            "zerolinecolor": "white"
           },
           "yaxis": {
            "backgroundcolor": "#E5ECF6",
            "gridcolor": "white",
            "gridwidth": 2,
            "linecolor": "white",
            "showbackground": true,
            "ticks": "",
            "zerolinecolor": "white"
           },
           "zaxis": {
            "backgroundcolor": "#E5ECF6",
            "gridcolor": "white",
            "gridwidth": 2,
            "linecolor": "white",
            "showbackground": true,
            "ticks": "",
            "zerolinecolor": "white"
           }
          },
          "shapedefaults": {
           "line": {
            "color": "#2a3f5f"
           }
          },
          "ternary": {
           "aaxis": {
            "gridcolor": "white",
            "linecolor": "white",
            "ticks": ""
           },
           "baxis": {
            "gridcolor": "white",
            "linecolor": "white",
            "ticks": ""
           },
           "bgcolor": "#E5ECF6",
           "caxis": {
            "gridcolor": "white",
            "linecolor": "white",
            "ticks": ""
           }
          },
          "title": {
           "x": 0.05
          },
          "xaxis": {
           "automargin": true,
           "gridcolor": "white",
           "linecolor": "white",
           "ticks": "",
           "title": {
            "standoff": 15
           },
           "zerolinecolor": "white",
           "zerolinewidth": 2
          },
          "yaxis": {
           "automargin": true,
           "gridcolor": "white",
           "linecolor": "white",
           "ticks": "",
           "title": {
            "standoff": 15
           },
           "zerolinecolor": "white",
           "zerolinewidth": 2
          }
         }
        }
       }
      }
     },
     "metadata": {},
     "output_type": "display_data"
    },
    {
     "name": "stdout",
     "output_type": "stream",
     "text": [
      "Gap on 3000 attempts:\t 0.061020205423038876\n"
     ]
    },
    {
     "data": {
      "application/vnd.plotly.v1+json": {
       "config": {
        "plotlyServerURL": "https://plot.ly"
       },
       "data": [
        {
         "customdata": [
          [
           0,
           0,
           0,
           0,
           0
          ],
          [
           0,
           0,
           0,
           0,
           1
          ],
          [
           0,
           0,
           0,
           1,
           0
          ],
          [
           0,
           0,
           0,
           1,
           1
          ],
          [
           0,
           0,
           1,
           0,
           0
          ],
          [
           0,
           0,
           1,
           0,
           1
          ],
          [
           0,
           0,
           1,
           1,
           0
          ],
          [
           0,
           0,
           1,
           1,
           1
          ],
          [
           0,
           1,
           0,
           0,
           0
          ],
          [
           0,
           1,
           0,
           0,
           1
          ],
          [
           0,
           1,
           0,
           1,
           0
          ],
          [
           0,
           1,
           0,
           1,
           1
          ],
          [
           0,
           1,
           1,
           0,
           0
          ],
          [
           0,
           1,
           1,
           0,
           1
          ],
          [
           0,
           1,
           1,
           1,
           0
          ],
          [
           0,
           1,
           1,
           1,
           1
          ],
          [
           1,
           0,
           0,
           0,
           0
          ],
          [
           1,
           0,
           0,
           0,
           1
          ],
          [
           1,
           0,
           0,
           1,
           0
          ],
          [
           1,
           0,
           0,
           1,
           1
          ],
          [
           1,
           0,
           1,
           0,
           0
          ],
          [
           1,
           0,
           1,
           0,
           1
          ],
          [
           1,
           0,
           1,
           1,
           0
          ],
          [
           1,
           0,
           1,
           1,
           1
          ],
          [
           1,
           1,
           0,
           0,
           0
          ],
          [
           1,
           1,
           0,
           0,
           1
          ],
          [
           1,
           1,
           0,
           1,
           0
          ],
          [
           1,
           1,
           0,
           1,
           1
          ],
          [
           1,
           1,
           1,
           0,
           0
          ],
          [
           1,
           1,
           1,
           0,
           1
          ],
          [
           1,
           1,
           1,
           1,
           0
          ],
          [
           1,
           1,
           1,
           1,
           1
          ]
         ],
         "hovertemplate": "Tables=%{customdata}<br>Probability=%{y}<extra></extra>",
         "mode": "markers",
         "name": "Real probability",
         "type": "scatter",
         "x": [
          0,
          16,
          8,
          24,
          4,
          20,
          12,
          28,
          2,
          18,
          10,
          26,
          6,
          22,
          14,
          30,
          1,
          17,
          9,
          25,
          5,
          21,
          13,
          29,
          3,
          19,
          11,
          27,
          7,
          23,
          15,
          31
         ],
         "y": [
          0.0021352627363851002,
          0.002246299320692502,
          0.028425977626456128,
          0.0033226852625290832,
          0.02081110386350897,
          0.02189330974351354,
          0.030783407833167034,
          0.003598243018473738,
          0.012299113361578178,
          0.012938684087188809,
          0.16373363112838732,
          0.01913866711216752,
          0.013319106472645744,
          0.014011718235848668,
          0.019701381013226906,
          0.0023028755318231925,
          0.009475325875485378,
          0.009968055787587252,
          0.12614157347021254,
          0.014744567545554551,
          0.0923502234995011,
          0.09715256149879091,
          0.13660277763804948,
          0.015967367667807125,
          0.006064208560310641,
          0.00637955570405584,
          0.08073060702093603,
          0.009436523229154913,
          0.006567127004408968,
          0.006908626595469577,
          0.009713975298705742,
          0.0011354572563773957
         ]
        },
        {
         "customdata": [
          [
           0,
           0,
           0,
           0,
           0
          ],
          [
           0,
           0,
           0,
           0,
           1
          ],
          [
           0,
           0,
           0,
           1,
           0
          ],
          [
           0,
           0,
           0,
           1,
           1
          ],
          [
           0,
           0,
           1,
           0,
           0
          ],
          [
           0,
           0,
           1,
           0,
           1
          ],
          [
           0,
           0,
           1,
           1,
           0
          ],
          [
           0,
           0,
           1,
           1,
           1
          ],
          [
           0,
           1,
           0,
           0,
           0
          ],
          [
           0,
           1,
           0,
           0,
           1
          ],
          [
           0,
           1,
           0,
           1,
           0
          ],
          [
           0,
           1,
           0,
           1,
           1
          ],
          [
           0,
           1,
           1,
           0,
           0
          ],
          [
           0,
           1,
           1,
           0,
           1
          ],
          [
           0,
           1,
           1,
           1,
           0
          ],
          [
           0,
           1,
           1,
           1,
           1
          ],
          [
           1,
           0,
           0,
           0,
           0
          ],
          [
           1,
           0,
           0,
           0,
           1
          ],
          [
           1,
           0,
           0,
           1,
           0
          ],
          [
           1,
           0,
           0,
           1,
           1
          ],
          [
           1,
           0,
           1,
           0,
           0
          ],
          [
           1,
           0,
           1,
           0,
           1
          ],
          [
           1,
           0,
           1,
           1,
           0
          ],
          [
           1,
           0,
           1,
           1,
           1
          ],
          [
           1,
           1,
           0,
           0,
           0
          ],
          [
           1,
           1,
           0,
           0,
           1
          ],
          [
           1,
           1,
           0,
           1,
           0
          ],
          [
           1,
           1,
           0,
           1,
           1
          ],
          [
           1,
           1,
           1,
           0,
           0
          ],
          [
           1,
           1,
           1,
           0,
           1
          ],
          [
           1,
           1,
           1,
           1,
           0
          ],
          [
           1,
           1,
           1,
           1,
           1
          ]
         ],
         "hovertemplate": "Tables=%{customdata}<br>Probability=%{y}<extra></extra>",
         "mode": "markers",
         "name": "Observed reality on 3000 tests",
         "type": "scatter",
         "x": [
          0,
          16,
          8,
          24,
          4,
          20,
          12,
          28,
          2,
          18,
          10,
          26,
          6,
          22,
          14,
          30,
          1,
          17,
          9,
          25,
          5,
          21,
          13,
          29,
          3,
          19,
          11,
          27,
          7,
          23,
          15,
          31
         ],
         "y": [
          0.0026666666666666666,
          0.0016666666666666668,
          0.029333333333333333,
          0.003,
          0.018666666666666668,
          0.023666666666666666,
          0.019333333333333334,
          0.006666666666666667,
          0.010666666666666666,
          0.012333333333333333,
          0.16733333333333333,
          0.021333333333333333,
          0.014,
          0.014666666666666666,
          0.018666666666666668,
          0.002,
          0.005666666666666667,
          0.011,
          0.12733333333333333,
          0.011666666666666667,
          0.095,
          0.09966666666666667,
          0.14166666666666666,
          0.012,
          0.006,
          0.006666666666666667,
          0.08333333333333333,
          0.009333333333333334,
          0.006333333333333333,
          0.008666666666666666,
          0.008666666666666666,
          0.001
         ]
        }
       ],
       "layout": {
        "template": {
         "data": {
          "bar": [
           {
            "error_x": {
             "color": "#2a3f5f"
            },
            "error_y": {
             "color": "#2a3f5f"
            },
            "marker": {
             "line": {
              "color": "#E5ECF6",
              "width": 0.5
             },
             "pattern": {
              "fillmode": "overlay",
              "size": 10,
              "solidity": 0.2
             }
            },
            "type": "bar"
           }
          ],
          "barpolar": [
           {
            "marker": {
             "line": {
              "color": "#E5ECF6",
              "width": 0.5
             },
             "pattern": {
              "fillmode": "overlay",
              "size": 10,
              "solidity": 0.2
             }
            },
            "type": "barpolar"
           }
          ],
          "carpet": [
           {
            "aaxis": {
             "endlinecolor": "#2a3f5f",
             "gridcolor": "white",
             "linecolor": "white",
             "minorgridcolor": "white",
             "startlinecolor": "#2a3f5f"
            },
            "baxis": {
             "endlinecolor": "#2a3f5f",
             "gridcolor": "white",
             "linecolor": "white",
             "minorgridcolor": "white",
             "startlinecolor": "#2a3f5f"
            },
            "type": "carpet"
           }
          ],
          "choropleth": [
           {
            "colorbar": {
             "outlinewidth": 0,
             "ticks": ""
            },
            "type": "choropleth"
           }
          ],
          "contour": [
           {
            "colorbar": {
             "outlinewidth": 0,
             "ticks": ""
            },
            "colorscale": [
             [
              0,
              "#0d0887"
             ],
             [
              0.1111111111111111,
              "#46039f"
             ],
             [
              0.2222222222222222,
              "#7201a8"
             ],
             [
              0.3333333333333333,
              "#9c179e"
             ],
             [
              0.4444444444444444,
              "#bd3786"
             ],
             [
              0.5555555555555556,
              "#d8576b"
             ],
             [
              0.6666666666666666,
              "#ed7953"
             ],
             [
              0.7777777777777778,
              "#fb9f3a"
             ],
             [
              0.8888888888888888,
              "#fdca26"
             ],
             [
              1,
              "#f0f921"
             ]
            ],
            "type": "contour"
           }
          ],
          "contourcarpet": [
           {
            "colorbar": {
             "outlinewidth": 0,
             "ticks": ""
            },
            "type": "contourcarpet"
           }
          ],
          "heatmap": [
           {
            "colorbar": {
             "outlinewidth": 0,
             "ticks": ""
            },
            "colorscale": [
             [
              0,
              "#0d0887"
             ],
             [
              0.1111111111111111,
              "#46039f"
             ],
             [
              0.2222222222222222,
              "#7201a8"
             ],
             [
              0.3333333333333333,
              "#9c179e"
             ],
             [
              0.4444444444444444,
              "#bd3786"
             ],
             [
              0.5555555555555556,
              "#d8576b"
             ],
             [
              0.6666666666666666,
              "#ed7953"
             ],
             [
              0.7777777777777778,
              "#fb9f3a"
             ],
             [
              0.8888888888888888,
              "#fdca26"
             ],
             [
              1,
              "#f0f921"
             ]
            ],
            "type": "heatmap"
           }
          ],
          "heatmapgl": [
           {
            "colorbar": {
             "outlinewidth": 0,
             "ticks": ""
            },
            "colorscale": [
             [
              0,
              "#0d0887"
             ],
             [
              0.1111111111111111,
              "#46039f"
             ],
             [
              0.2222222222222222,
              "#7201a8"
             ],
             [
              0.3333333333333333,
              "#9c179e"
             ],
             [
              0.4444444444444444,
              "#bd3786"
             ],
             [
              0.5555555555555556,
              "#d8576b"
             ],
             [
              0.6666666666666666,
              "#ed7953"
             ],
             [
              0.7777777777777778,
              "#fb9f3a"
             ],
             [
              0.8888888888888888,
              "#fdca26"
             ],
             [
              1,
              "#f0f921"
             ]
            ],
            "type": "heatmapgl"
           }
          ],
          "histogram": [
           {
            "marker": {
             "pattern": {
              "fillmode": "overlay",
              "size": 10,
              "solidity": 0.2
             }
            },
            "type": "histogram"
           }
          ],
          "histogram2d": [
           {
            "colorbar": {
             "outlinewidth": 0,
             "ticks": ""
            },
            "colorscale": [
             [
              0,
              "#0d0887"
             ],
             [
              0.1111111111111111,
              "#46039f"
             ],
             [
              0.2222222222222222,
              "#7201a8"
             ],
             [
              0.3333333333333333,
              "#9c179e"
             ],
             [
              0.4444444444444444,
              "#bd3786"
             ],
             [
              0.5555555555555556,
              "#d8576b"
             ],
             [
              0.6666666666666666,
              "#ed7953"
             ],
             [
              0.7777777777777778,
              "#fb9f3a"
             ],
             [
              0.8888888888888888,
              "#fdca26"
             ],
             [
              1,
              "#f0f921"
             ]
            ],
            "type": "histogram2d"
           }
          ],
          "histogram2dcontour": [
           {
            "colorbar": {
             "outlinewidth": 0,
             "ticks": ""
            },
            "colorscale": [
             [
              0,
              "#0d0887"
             ],
             [
              0.1111111111111111,
              "#46039f"
             ],
             [
              0.2222222222222222,
              "#7201a8"
             ],
             [
              0.3333333333333333,
              "#9c179e"
             ],
             [
              0.4444444444444444,
              "#bd3786"
             ],
             [
              0.5555555555555556,
              "#d8576b"
             ],
             [
              0.6666666666666666,
              "#ed7953"
             ],
             [
              0.7777777777777778,
              "#fb9f3a"
             ],
             [
              0.8888888888888888,
              "#fdca26"
             ],
             [
              1,
              "#f0f921"
             ]
            ],
            "type": "histogram2dcontour"
           }
          ],
          "mesh3d": [
           {
            "colorbar": {
             "outlinewidth": 0,
             "ticks": ""
            },
            "type": "mesh3d"
           }
          ],
          "parcoords": [
           {
            "line": {
             "colorbar": {
              "outlinewidth": 0,
              "ticks": ""
             }
            },
            "type": "parcoords"
           }
          ],
          "pie": [
           {
            "automargin": true,
            "type": "pie"
           }
          ],
          "scatter": [
           {
            "fillpattern": {
             "fillmode": "overlay",
             "size": 10,
             "solidity": 0.2
            },
            "type": "scatter"
           }
          ],
          "scatter3d": [
           {
            "line": {
             "colorbar": {
              "outlinewidth": 0,
              "ticks": ""
             }
            },
            "marker": {
             "colorbar": {
              "outlinewidth": 0,
              "ticks": ""
             }
            },
            "type": "scatter3d"
           }
          ],
          "scattercarpet": [
           {
            "marker": {
             "colorbar": {
              "outlinewidth": 0,
              "ticks": ""
             }
            },
            "type": "scattercarpet"
           }
          ],
          "scattergeo": [
           {
            "marker": {
             "colorbar": {
              "outlinewidth": 0,
              "ticks": ""
             }
            },
            "type": "scattergeo"
           }
          ],
          "scattergl": [
           {
            "marker": {
             "colorbar": {
              "outlinewidth": 0,
              "ticks": ""
             }
            },
            "type": "scattergl"
           }
          ],
          "scattermapbox": [
           {
            "marker": {
             "colorbar": {
              "outlinewidth": 0,
              "ticks": ""
             }
            },
            "type": "scattermapbox"
           }
          ],
          "scatterpolar": [
           {
            "marker": {
             "colorbar": {
              "outlinewidth": 0,
              "ticks": ""
             }
            },
            "type": "scatterpolar"
           }
          ],
          "scatterpolargl": [
           {
            "marker": {
             "colorbar": {
              "outlinewidth": 0,
              "ticks": ""
             }
            },
            "type": "scatterpolargl"
           }
          ],
          "scatterternary": [
           {
            "marker": {
             "colorbar": {
              "outlinewidth": 0,
              "ticks": ""
             }
            },
            "type": "scatterternary"
           }
          ],
          "surface": [
           {
            "colorbar": {
             "outlinewidth": 0,
             "ticks": ""
            },
            "colorscale": [
             [
              0,
              "#0d0887"
             ],
             [
              0.1111111111111111,
              "#46039f"
             ],
             [
              0.2222222222222222,
              "#7201a8"
             ],
             [
              0.3333333333333333,
              "#9c179e"
             ],
             [
              0.4444444444444444,
              "#bd3786"
             ],
             [
              0.5555555555555556,
              "#d8576b"
             ],
             [
              0.6666666666666666,
              "#ed7953"
             ],
             [
              0.7777777777777778,
              "#fb9f3a"
             ],
             [
              0.8888888888888888,
              "#fdca26"
             ],
             [
              1,
              "#f0f921"
             ]
            ],
            "type": "surface"
           }
          ],
          "table": [
           {
            "cells": {
             "fill": {
              "color": "#EBF0F8"
             },
             "line": {
              "color": "white"
             }
            },
            "header": {
             "fill": {
              "color": "#C8D4E3"
             },
             "line": {
              "color": "white"
             }
            },
            "type": "table"
           }
          ]
         },
         "layout": {
          "annotationdefaults": {
           "arrowcolor": "#2a3f5f",
           "arrowhead": 0,
           "arrowwidth": 1
          },
          "autotypenumbers": "strict",
          "coloraxis": {
           "colorbar": {
            "outlinewidth": 0,
            "ticks": ""
           }
          },
          "colorscale": {
           "diverging": [
            [
             0,
             "#8e0152"
            ],
            [
             0.1,
             "#c51b7d"
            ],
            [
             0.2,
             "#de77ae"
            ],
            [
             0.3,
             "#f1b6da"
            ],
            [
             0.4,
             "#fde0ef"
            ],
            [
             0.5,
             "#f7f7f7"
            ],
            [
             0.6,
             "#e6f5d0"
            ],
            [
             0.7,
             "#b8e186"
            ],
            [
             0.8,
             "#7fbc41"
            ],
            [
             0.9,
             "#4d9221"
            ],
            [
             1,
             "#276419"
            ]
           ],
           "sequential": [
            [
             0,
             "#0d0887"
            ],
            [
             0.1111111111111111,
             "#46039f"
            ],
            [
             0.2222222222222222,
             "#7201a8"
            ],
            [
             0.3333333333333333,
             "#9c179e"
            ],
            [
             0.4444444444444444,
             "#bd3786"
            ],
            [
             0.5555555555555556,
             "#d8576b"
            ],
            [
             0.6666666666666666,
             "#ed7953"
            ],
            [
             0.7777777777777778,
             "#fb9f3a"
            ],
            [
             0.8888888888888888,
             "#fdca26"
            ],
            [
             1,
             "#f0f921"
            ]
           ],
           "sequentialminus": [
            [
             0,
             "#0d0887"
            ],
            [
             0.1111111111111111,
             "#46039f"
            ],
            [
             0.2222222222222222,
             "#7201a8"
            ],
            [
             0.3333333333333333,
             "#9c179e"
            ],
            [
             0.4444444444444444,
             "#bd3786"
            ],
            [
             0.5555555555555556,
             "#d8576b"
            ],
            [
             0.6666666666666666,
             "#ed7953"
            ],
            [
             0.7777777777777778,
             "#fb9f3a"
            ],
            [
             0.8888888888888888,
             "#fdca26"
            ],
            [
             1,
             "#f0f921"
            ]
           ]
          },
          "colorway": [
           "#636efa",
           "#EF553B",
           "#00cc96",
           "#ab63fa",
           "#FFA15A",
           "#19d3f3",
           "#FF6692",
           "#B6E880",
           "#FF97FF",
           "#FECB52"
          ],
          "font": {
           "color": "#2a3f5f"
          },
          "geo": {
           "bgcolor": "white",
           "lakecolor": "white",
           "landcolor": "#E5ECF6",
           "showlakes": true,
           "showland": true,
           "subunitcolor": "white"
          },
          "hoverlabel": {
           "align": "left"
          },
          "hovermode": "closest",
          "mapbox": {
           "style": "light"
          },
          "paper_bgcolor": "white",
          "plot_bgcolor": "#E5ECF6",
          "polar": {
           "angularaxis": {
            "gridcolor": "white",
            "linecolor": "white",
            "ticks": ""
           },
           "bgcolor": "#E5ECF6",
           "radialaxis": {
            "gridcolor": "white",
            "linecolor": "white",
            "ticks": ""
           }
          },
          "scene": {
           "xaxis": {
            "backgroundcolor": "#E5ECF6",
            "gridcolor": "white",
            "gridwidth": 2,
            "linecolor": "white",
            "showbackground": true,
            "ticks": "",
            "zerolinecolor": "white"
           },
           "yaxis": {
            "backgroundcolor": "#E5ECF6",
            "gridcolor": "white",
            "gridwidth": 2,
            "linecolor": "white",
            "showbackground": true,
            "ticks": "",
            "zerolinecolor": "white"
           },
           "zaxis": {
            "backgroundcolor": "#E5ECF6",
            "gridcolor": "white",
            "gridwidth": 2,
            "linecolor": "white",
            "showbackground": true,
            "ticks": "",
            "zerolinecolor": "white"
           }
          },
          "shapedefaults": {
           "line": {
            "color": "#2a3f5f"
           }
          },
          "ternary": {
           "aaxis": {
            "gridcolor": "white",
            "linecolor": "white",
            "ticks": ""
           },
           "baxis": {
            "gridcolor": "white",
            "linecolor": "white",
            "ticks": ""
           },
           "bgcolor": "#E5ECF6",
           "caxis": {
            "gridcolor": "white",
            "linecolor": "white",
            "ticks": ""
           }
          },
          "title": {
           "x": 0.05
          },
          "xaxis": {
           "automargin": true,
           "gridcolor": "white",
           "linecolor": "white",
           "ticks": "",
           "title": {
            "standoff": 15
           },
           "zerolinecolor": "white",
           "zerolinewidth": 2
          },
          "yaxis": {
           "automargin": true,
           "gridcolor": "white",
           "linecolor": "white",
           "ticks": "",
           "title": {
            "standoff": 15
           },
           "zerolinecolor": "white",
           "zerolinewidth": 2
          }
         }
        }
       }
      }
     },
     "metadata": {},
     "output_type": "display_data"
    },
    {
     "name": "stdout",
     "output_type": "stream",
     "text": [
      "Gap on 3000 attempts:\t 0.0694451017799377\n"
     ]
    },
    {
     "data": {
      "application/vnd.plotly.v1+json": {
       "config": {
        "plotlyServerURL": "https://plot.ly"
       },
       "data": [
        {
         "customdata": [
          [
           0,
           0,
           0,
           0,
           0
          ],
          [
           0,
           0,
           0,
           0,
           1
          ],
          [
           0,
           0,
           0,
           1,
           0
          ],
          [
           0,
           0,
           0,
           1,
           1
          ],
          [
           0,
           0,
           1,
           0,
           0
          ],
          [
           0,
           0,
           1,
           0,
           1
          ],
          [
           0,
           0,
           1,
           1,
           0
          ],
          [
           0,
           0,
           1,
           1,
           1
          ],
          [
           0,
           1,
           0,
           0,
           0
          ],
          [
           0,
           1,
           0,
           0,
           1
          ],
          [
           0,
           1,
           0,
           1,
           0
          ],
          [
           0,
           1,
           0,
           1,
           1
          ],
          [
           0,
           1,
           1,
           0,
           0
          ],
          [
           0,
           1,
           1,
           0,
           1
          ],
          [
           0,
           1,
           1,
           1,
           0
          ],
          [
           0,
           1,
           1,
           1,
           1
          ],
          [
           1,
           0,
           0,
           0,
           0
          ],
          [
           1,
           0,
           0,
           0,
           1
          ],
          [
           1,
           0,
           0,
           1,
           0
          ],
          [
           1,
           0,
           0,
           1,
           1
          ],
          [
           1,
           0,
           1,
           0,
           0
          ],
          [
           1,
           0,
           1,
           0,
           1
          ],
          [
           1,
           0,
           1,
           1,
           0
          ],
          [
           1,
           0,
           1,
           1,
           1
          ],
          [
           1,
           1,
           0,
           0,
           0
          ],
          [
           1,
           1,
           0,
           0,
           1
          ],
          [
           1,
           1,
           0,
           1,
           0
          ],
          [
           1,
           1,
           0,
           1,
           1
          ],
          [
           1,
           1,
           1,
           0,
           0
          ],
          [
           1,
           1,
           1,
           0,
           1
          ],
          [
           1,
           1,
           1,
           1,
           0
          ],
          [
           1,
           1,
           1,
           1,
           1
          ]
         ],
         "hovertemplate": "Tables=%{customdata}<br>Probability=%{y}<extra></extra>",
         "mode": "markers",
         "name": "Real probability",
         "type": "scatter",
         "x": [
          0,
          16,
          8,
          24,
          4,
          20,
          12,
          28,
          2,
          18,
          10,
          26,
          6,
          22,
          14,
          30,
          1,
          17,
          9,
          25,
          5,
          21,
          13,
          29,
          3,
          19,
          11,
          27,
          7,
          23,
          15,
          31
         ],
         "y": [
          0.007880306250638326,
          0.00504339600040853,
          0.045390564003676775,
          0.0032277734402614607,
          0.04539056400367676,
          0.029049960962353134,
          0.029049960962353127,
          0.0020657750017673347,
          0.045390564003676755,
          0.029049960962353134,
          0.2614496486611782,
          0.018591975015906013,
          0.029049960962353134,
          0.01859197501590601,
          0.018591975015906006,
          0.0013220960011310946,
          0.015130188001225587,
          0.009683320320784379,
          0.08714988288705941,
          0.0061973250053020046,
          0.08714988288705938,
          0.055775925047718014,
          0.05577592504771801,
          0.003966288003393282,
          0.009683320320784377,
          0.006197325005302003,
          0.05577592504771802,
          0.003966288003393283,
          0.006197325005302003,
          0.003966288003393282,
          0.003966288003393282,
          0.00028204714690796686
         ]
        },
        {
         "customdata": [
          [
           0,
           0,
           0,
           0,
           0
          ],
          [
           0,
           0,
           0,
           0,
           1
          ],
          [
           0,
           0,
           0,
           1,
           0
          ],
          [
           0,
           0,
           0,
           1,
           1
          ],
          [
           0,
           0,
           1,
           0,
           0
          ],
          [
           0,
           0,
           1,
           0,
           1
          ],
          [
           0,
           0,
           1,
           1,
           0
          ],
          [
           0,
           0,
           1,
           1,
           1
          ],
          [
           0,
           1,
           0,
           0,
           0
          ],
          [
           0,
           1,
           0,
           0,
           1
          ],
          [
           0,
           1,
           0,
           1,
           0
          ],
          [
           0,
           1,
           0,
           1,
           1
          ],
          [
           0,
           1,
           1,
           0,
           0
          ],
          [
           0,
           1,
           1,
           0,
           1
          ],
          [
           0,
           1,
           1,
           1,
           0
          ],
          [
           0,
           1,
           1,
           1,
           1
          ],
          [
           1,
           0,
           0,
           0,
           0
          ],
          [
           1,
           0,
           0,
           0,
           1
          ],
          [
           1,
           0,
           0,
           1,
           0
          ],
          [
           1,
           0,
           0,
           1,
           1
          ],
          [
           1,
           0,
           1,
           0,
           0
          ],
          [
           1,
           0,
           1,
           0,
           1
          ],
          [
           1,
           0,
           1,
           1,
           0
          ],
          [
           1,
           0,
           1,
           1,
           1
          ],
          [
           1,
           1,
           0,
           0,
           0
          ],
          [
           1,
           1,
           0,
           0,
           1
          ],
          [
           1,
           1,
           0,
           1,
           0
          ],
          [
           1,
           1,
           0,
           1,
           1
          ],
          [
           1,
           1,
           1,
           0,
           0
          ],
          [
           1,
           1,
           1,
           0,
           1
          ],
          [
           1,
           1,
           1,
           1,
           0
          ],
          [
           1,
           1,
           1,
           1,
           1
          ]
         ],
         "hovertemplate": "Tables=%{customdata}<br>Probability=%{y}<extra></extra>",
         "mode": "markers",
         "name": "Observed reality on 3000 tests",
         "type": "scatter",
         "x": [
          0,
          16,
          8,
          24,
          4,
          20,
          12,
          28,
          2,
          18,
          10,
          26,
          6,
          22,
          14,
          30,
          1,
          17,
          9,
          25,
          5,
          21,
          13,
          29,
          3,
          19,
          11,
          27,
          7,
          23,
          15,
          31
         ],
         "y": [
          0.009666666666666667,
          0.006,
          0.043,
          0.0023333333333333335,
          0.04933333333333333,
          0.028,
          0.032,
          0.002,
          0.04133333333333333,
          0.026,
          0.24966666666666668,
          0.02266666666666667,
          0.028333333333333332,
          0.019,
          0.018666666666666668,
          0.001,
          0.013333333333333334,
          0.011,
          0.093,
          0.006333333333333333,
          0.08433333333333333,
          0.05733333333333333,
          0.058,
          0.0033333333333333335,
          0.007,
          0.007,
          0.06333333333333334,
          0.0023333333333333335,
          0.006,
          0.004666666666666667,
          0.0033333333333333335,
          0.0006666666666666666
         ]
        }
       ],
       "layout": {
        "template": {
         "data": {
          "bar": [
           {
            "error_x": {
             "color": "#2a3f5f"
            },
            "error_y": {
             "color": "#2a3f5f"
            },
            "marker": {
             "line": {
              "color": "#E5ECF6",
              "width": 0.5
             },
             "pattern": {
              "fillmode": "overlay",
              "size": 10,
              "solidity": 0.2
             }
            },
            "type": "bar"
           }
          ],
          "barpolar": [
           {
            "marker": {
             "line": {
              "color": "#E5ECF6",
              "width": 0.5
             },
             "pattern": {
              "fillmode": "overlay",
              "size": 10,
              "solidity": 0.2
             }
            },
            "type": "barpolar"
           }
          ],
          "carpet": [
           {
            "aaxis": {
             "endlinecolor": "#2a3f5f",
             "gridcolor": "white",
             "linecolor": "white",
             "minorgridcolor": "white",
             "startlinecolor": "#2a3f5f"
            },
            "baxis": {
             "endlinecolor": "#2a3f5f",
             "gridcolor": "white",
             "linecolor": "white",
             "minorgridcolor": "white",
             "startlinecolor": "#2a3f5f"
            },
            "type": "carpet"
           }
          ],
          "choropleth": [
           {
            "colorbar": {
             "outlinewidth": 0,
             "ticks": ""
            },
            "type": "choropleth"
           }
          ],
          "contour": [
           {
            "colorbar": {
             "outlinewidth": 0,
             "ticks": ""
            },
            "colorscale": [
             [
              0,
              "#0d0887"
             ],
             [
              0.1111111111111111,
              "#46039f"
             ],
             [
              0.2222222222222222,
              "#7201a8"
             ],
             [
              0.3333333333333333,
              "#9c179e"
             ],
             [
              0.4444444444444444,
              "#bd3786"
             ],
             [
              0.5555555555555556,
              "#d8576b"
             ],
             [
              0.6666666666666666,
              "#ed7953"
             ],
             [
              0.7777777777777778,
              "#fb9f3a"
             ],
             [
              0.8888888888888888,
              "#fdca26"
             ],
             [
              1,
              "#f0f921"
             ]
            ],
            "type": "contour"
           }
          ],
          "contourcarpet": [
           {
            "colorbar": {
             "outlinewidth": 0,
             "ticks": ""
            },
            "type": "contourcarpet"
           }
          ],
          "heatmap": [
           {
            "colorbar": {
             "outlinewidth": 0,
             "ticks": ""
            },
            "colorscale": [
             [
              0,
              "#0d0887"
             ],
             [
              0.1111111111111111,
              "#46039f"
             ],
             [
              0.2222222222222222,
              "#7201a8"
             ],
             [
              0.3333333333333333,
              "#9c179e"
             ],
             [
              0.4444444444444444,
              "#bd3786"
             ],
             [
              0.5555555555555556,
              "#d8576b"
             ],
             [
              0.6666666666666666,
              "#ed7953"
             ],
             [
              0.7777777777777778,
              "#fb9f3a"
             ],
             [
              0.8888888888888888,
              "#fdca26"
             ],
             [
              1,
              "#f0f921"
             ]
            ],
            "type": "heatmap"
           }
          ],
          "heatmapgl": [
           {
            "colorbar": {
             "outlinewidth": 0,
             "ticks": ""
            },
            "colorscale": [
             [
              0,
              "#0d0887"
             ],
             [
              0.1111111111111111,
              "#46039f"
             ],
             [
              0.2222222222222222,
              "#7201a8"
             ],
             [
              0.3333333333333333,
              "#9c179e"
             ],
             [
              0.4444444444444444,
              "#bd3786"
             ],
             [
              0.5555555555555556,
              "#d8576b"
             ],
             [
              0.6666666666666666,
              "#ed7953"
             ],
             [
              0.7777777777777778,
              "#fb9f3a"
             ],
             [
              0.8888888888888888,
              "#fdca26"
             ],
             [
              1,
              "#f0f921"
             ]
            ],
            "type": "heatmapgl"
           }
          ],
          "histogram": [
           {
            "marker": {
             "pattern": {
              "fillmode": "overlay",
              "size": 10,
              "solidity": 0.2
             }
            },
            "type": "histogram"
           }
          ],
          "histogram2d": [
           {
            "colorbar": {
             "outlinewidth": 0,
             "ticks": ""
            },
            "colorscale": [
             [
              0,
              "#0d0887"
             ],
             [
              0.1111111111111111,
              "#46039f"
             ],
             [
              0.2222222222222222,
              "#7201a8"
             ],
             [
              0.3333333333333333,
              "#9c179e"
             ],
             [
              0.4444444444444444,
              "#bd3786"
             ],
             [
              0.5555555555555556,
              "#d8576b"
             ],
             [
              0.6666666666666666,
              "#ed7953"
             ],
             [
              0.7777777777777778,
              "#fb9f3a"
             ],
             [
              0.8888888888888888,
              "#fdca26"
             ],
             [
              1,
              "#f0f921"
             ]
            ],
            "type": "histogram2d"
           }
          ],
          "histogram2dcontour": [
           {
            "colorbar": {
             "outlinewidth": 0,
             "ticks": ""
            },
            "colorscale": [
             [
              0,
              "#0d0887"
             ],
             [
              0.1111111111111111,
              "#46039f"
             ],
             [
              0.2222222222222222,
              "#7201a8"
             ],
             [
              0.3333333333333333,
              "#9c179e"
             ],
             [
              0.4444444444444444,
              "#bd3786"
             ],
             [
              0.5555555555555556,
              "#d8576b"
             ],
             [
              0.6666666666666666,
              "#ed7953"
             ],
             [
              0.7777777777777778,
              "#fb9f3a"
             ],
             [
              0.8888888888888888,
              "#fdca26"
             ],
             [
              1,
              "#f0f921"
             ]
            ],
            "type": "histogram2dcontour"
           }
          ],
          "mesh3d": [
           {
            "colorbar": {
             "outlinewidth": 0,
             "ticks": ""
            },
            "type": "mesh3d"
           }
          ],
          "parcoords": [
           {
            "line": {
             "colorbar": {
              "outlinewidth": 0,
              "ticks": ""
             }
            },
            "type": "parcoords"
           }
          ],
          "pie": [
           {
            "automargin": true,
            "type": "pie"
           }
          ],
          "scatter": [
           {
            "fillpattern": {
             "fillmode": "overlay",
             "size": 10,
             "solidity": 0.2
            },
            "type": "scatter"
           }
          ],
          "scatter3d": [
           {
            "line": {
             "colorbar": {
              "outlinewidth": 0,
              "ticks": ""
             }
            },
            "marker": {
             "colorbar": {
              "outlinewidth": 0,
              "ticks": ""
             }
            },
            "type": "scatter3d"
           }
          ],
          "scattercarpet": [
           {
            "marker": {
             "colorbar": {
              "outlinewidth": 0,
              "ticks": ""
             }
            },
            "type": "scattercarpet"
           }
          ],
          "scattergeo": [
           {
            "marker": {
             "colorbar": {
              "outlinewidth": 0,
              "ticks": ""
             }
            },
            "type": "scattergeo"
           }
          ],
          "scattergl": [
           {
            "marker": {
             "colorbar": {
              "outlinewidth": 0,
              "ticks": ""
             }
            },
            "type": "scattergl"
           }
          ],
          "scattermapbox": [
           {
            "marker": {
             "colorbar": {
              "outlinewidth": 0,
              "ticks": ""
             }
            },
            "type": "scattermapbox"
           }
          ],
          "scatterpolar": [
           {
            "marker": {
             "colorbar": {
              "outlinewidth": 0,
              "ticks": ""
             }
            },
            "type": "scatterpolar"
           }
          ],
          "scatterpolargl": [
           {
            "marker": {
             "colorbar": {
              "outlinewidth": 0,
              "ticks": ""
             }
            },
            "type": "scatterpolargl"
           }
          ],
          "scatterternary": [
           {
            "marker": {
             "colorbar": {
              "outlinewidth": 0,
              "ticks": ""
             }
            },
            "type": "scatterternary"
           }
          ],
          "surface": [
           {
            "colorbar": {
             "outlinewidth": 0,
             "ticks": ""
            },
            "colorscale": [
             [
              0,
              "#0d0887"
             ],
             [
              0.1111111111111111,
              "#46039f"
             ],
             [
              0.2222222222222222,
              "#7201a8"
             ],
             [
              0.3333333333333333,
              "#9c179e"
             ],
             [
              0.4444444444444444,
              "#bd3786"
             ],
             [
              0.5555555555555556,
              "#d8576b"
             ],
             [
              0.6666666666666666,
              "#ed7953"
             ],
             [
              0.7777777777777778,
              "#fb9f3a"
             ],
             [
              0.8888888888888888,
              "#fdca26"
             ],
             [
              1,
              "#f0f921"
             ]
            ],
            "type": "surface"
           }
          ],
          "table": [
           {
            "cells": {
             "fill": {
              "color": "#EBF0F8"
             },
             "line": {
              "color": "white"
             }
            },
            "header": {
             "fill": {
              "color": "#C8D4E3"
             },
             "line": {
              "color": "white"
             }
            },
            "type": "table"
           }
          ]
         },
         "layout": {
          "annotationdefaults": {
           "arrowcolor": "#2a3f5f",
           "arrowhead": 0,
           "arrowwidth": 1
          },
          "autotypenumbers": "strict",
          "coloraxis": {
           "colorbar": {
            "outlinewidth": 0,
            "ticks": ""
           }
          },
          "colorscale": {
           "diverging": [
            [
             0,
             "#8e0152"
            ],
            [
             0.1,
             "#c51b7d"
            ],
            [
             0.2,
             "#de77ae"
            ],
            [
             0.3,
             "#f1b6da"
            ],
            [
             0.4,
             "#fde0ef"
            ],
            [
             0.5,
             "#f7f7f7"
            ],
            [
             0.6,
             "#e6f5d0"
            ],
            [
             0.7,
             "#b8e186"
            ],
            [
             0.8,
             "#7fbc41"
            ],
            [
             0.9,
             "#4d9221"
            ],
            [
             1,
             "#276419"
            ]
           ],
           "sequential": [
            [
             0,
             "#0d0887"
            ],
            [
             0.1111111111111111,
             "#46039f"
            ],
            [
             0.2222222222222222,
             "#7201a8"
            ],
            [
             0.3333333333333333,
             "#9c179e"
            ],
            [
             0.4444444444444444,
             "#bd3786"
            ],
            [
             0.5555555555555556,
             "#d8576b"
            ],
            [
             0.6666666666666666,
             "#ed7953"
            ],
            [
             0.7777777777777778,
             "#fb9f3a"
            ],
            [
             0.8888888888888888,
             "#fdca26"
            ],
            [
             1,
             "#f0f921"
            ]
           ],
           "sequentialminus": [
            [
             0,
             "#0d0887"
            ],
            [
             0.1111111111111111,
             "#46039f"
            ],
            [
             0.2222222222222222,
             "#7201a8"
            ],
            [
             0.3333333333333333,
             "#9c179e"
            ],
            [
             0.4444444444444444,
             "#bd3786"
            ],
            [
             0.5555555555555556,
             "#d8576b"
            ],
            [
             0.6666666666666666,
             "#ed7953"
            ],
            [
             0.7777777777777778,
             "#fb9f3a"
            ],
            [
             0.8888888888888888,
             "#fdca26"
            ],
            [
             1,
             "#f0f921"
            ]
           ]
          },
          "colorway": [
           "#636efa",
           "#EF553B",
           "#00cc96",
           "#ab63fa",
           "#FFA15A",
           "#19d3f3",
           "#FF6692",
           "#B6E880",
           "#FF97FF",
           "#FECB52"
          ],
          "font": {
           "color": "#2a3f5f"
          },
          "geo": {
           "bgcolor": "white",
           "lakecolor": "white",
           "landcolor": "#E5ECF6",
           "showlakes": true,
           "showland": true,
           "subunitcolor": "white"
          },
          "hoverlabel": {
           "align": "left"
          },
          "hovermode": "closest",
          "mapbox": {
           "style": "light"
          },
          "paper_bgcolor": "white",
          "plot_bgcolor": "#E5ECF6",
          "polar": {
           "angularaxis": {
            "gridcolor": "white",
            "linecolor": "white",
            "ticks": ""
           },
           "bgcolor": "#E5ECF6",
           "radialaxis": {
            "gridcolor": "white",
            "linecolor": "white",
            "ticks": ""
           }
          },
          "scene": {
           "xaxis": {
            "backgroundcolor": "#E5ECF6",
            "gridcolor": "white",
            "gridwidth": 2,
            "linecolor": "white",
            "showbackground": true,
            "ticks": "",
            "zerolinecolor": "white"
           },
           "yaxis": {
            "backgroundcolor": "#E5ECF6",
            "gridcolor": "white",
            "gridwidth": 2,
            "linecolor": "white",
            "showbackground": true,
            "ticks": "",
            "zerolinecolor": "white"
           },
           "zaxis": {
            "backgroundcolor": "#E5ECF6",
            "gridcolor": "white",
            "gridwidth": 2,
            "linecolor": "white",
            "showbackground": true,
            "ticks": "",
            "zerolinecolor": "white"
           }
          },
          "shapedefaults": {
           "line": {
            "color": "#2a3f5f"
           }
          },
          "ternary": {
           "aaxis": {
            "gridcolor": "white",
            "linecolor": "white",
            "ticks": ""
           },
           "baxis": {
            "gridcolor": "white",
            "linecolor": "white",
            "ticks": ""
           },
           "bgcolor": "#E5ECF6",
           "caxis": {
            "gridcolor": "white",
            "linecolor": "white",
            "ticks": ""
           }
          },
          "title": {
           "x": 0.05
          },
          "xaxis": {
           "automargin": true,
           "gridcolor": "white",
           "linecolor": "white",
           "ticks": "",
           "title": {
            "standoff": 15
           },
           "zerolinecolor": "white",
           "zerolinewidth": 2
          },
          "yaxis": {
           "automargin": true,
           "gridcolor": "white",
           "linecolor": "white",
           "ticks": "",
           "title": {
            "standoff": 15
           },
           "zerolinecolor": "white",
           "zerolinewidth": 2
          }
         }
        }
       }
      }
     },
     "metadata": {},
     "output_type": "display_data"
    },
    {
     "name": "stdout",
     "output_type": "stream",
     "text": [
      "Gap on 3000 attempts:\t 0.07513707701814706\n"
     ]
    },
    {
     "data": {
      "application/vnd.plotly.v1+json": {
       "config": {
        "plotlyServerURL": "https://plot.ly"
       },
       "data": [
        {
         "customdata": [
          [
           0,
           0,
           0,
           0,
           0
          ],
          [
           0,
           0,
           0,
           0,
           1
          ],
          [
           0,
           0,
           0,
           1,
           0
          ],
          [
           0,
           0,
           0,
           1,
           1
          ],
          [
           0,
           0,
           1,
           0,
           0
          ],
          [
           0,
           0,
           1,
           0,
           1
          ],
          [
           0,
           0,
           1,
           1,
           0
          ],
          [
           0,
           0,
           1,
           1,
           1
          ],
          [
           0,
           1,
           0,
           0,
           0
          ],
          [
           0,
           1,
           0,
           0,
           1
          ],
          [
           0,
           1,
           0,
           1,
           0
          ],
          [
           0,
           1,
           0,
           1,
           1
          ],
          [
           0,
           1,
           1,
           0,
           0
          ],
          [
           0,
           1,
           1,
           0,
           1
          ],
          [
           0,
           1,
           1,
           1,
           0
          ],
          [
           0,
           1,
           1,
           1,
           1
          ],
          [
           1,
           0,
           0,
           0,
           0
          ],
          [
           1,
           0,
           0,
           0,
           1
          ],
          [
           1,
           0,
           0,
           1,
           0
          ],
          [
           1,
           0,
           0,
           1,
           1
          ],
          [
           1,
           0,
           1,
           0,
           0
          ],
          [
           1,
           0,
           1,
           0,
           1
          ],
          [
           1,
           0,
           1,
           1,
           0
          ],
          [
           1,
           0,
           1,
           1,
           1
          ],
          [
           1,
           1,
           0,
           0,
           0
          ],
          [
           1,
           1,
           0,
           0,
           1
          ],
          [
           1,
           1,
           0,
           1,
           0
          ],
          [
           1,
           1,
           0,
           1,
           1
          ],
          [
           1,
           1,
           1,
           0,
           0
          ],
          [
           1,
           1,
           1,
           0,
           1
          ],
          [
           1,
           1,
           1,
           1,
           0
          ],
          [
           1,
           1,
           1,
           1,
           1
          ]
         ],
         "hovertemplate": "Tables=%{customdata}<br>Probability=%{y}<extra></extra>",
         "mode": "markers",
         "name": "Real probability",
         "type": "scatter",
         "x": [
          0,
          16,
          8,
          24,
          4,
          20,
          12,
          28,
          2,
          18,
          10,
          26,
          6,
          22,
          14,
          30,
          1,
          17,
          9,
          25,
          5,
          21,
          13,
          29,
          3,
          19,
          11,
          27,
          7,
          23,
          15,
          31
         ],
         "y": [
          0.0068767207333769636,
          0.004692809422966132,
          0.042235284806695174,
          0.00320246540962339,
          0.042235284806695174,
          0.02882218868661051,
          0.02882218868661051,
          0.0021854253551494215,
          0.042235284806695195,
          0.028822188686610514,
          0.25939969817949454,
          0.019668828196344794,
          0.028822188686610514,
          0.01966882819634479,
          0.01966882819634479,
          0.0014913772272380744,
          0.014078428268898399,
          0.009607396228870172,
          0.08646656605983154,
          0.006556276065448265,
          0.08646656605983154,
          0.059006484589034375,
          0.059006484589034375,
          0.0044741316817142225,
          0.009607396228870172,
          0.006556276065448264,
          0.05900648458903436,
          0.004474131681714222,
          0.006556276065448264,
          0.004474131681714222,
          0.004474131681714222,
          0.000339248379982952
         ]
        },
        {
         "customdata": [
          [
           0,
           0,
           0,
           0,
           0
          ],
          [
           0,
           0,
           0,
           0,
           1
          ],
          [
           0,
           0,
           0,
           1,
           0
          ],
          [
           0,
           0,
           0,
           1,
           1
          ],
          [
           0,
           0,
           1,
           0,
           0
          ],
          [
           0,
           0,
           1,
           0,
           1
          ],
          [
           0,
           0,
           1,
           1,
           0
          ],
          [
           0,
           0,
           1,
           1,
           1
          ],
          [
           0,
           1,
           0,
           0,
           0
          ],
          [
           0,
           1,
           0,
           0,
           1
          ],
          [
           0,
           1,
           0,
           1,
           0
          ],
          [
           0,
           1,
           0,
           1,
           1
          ],
          [
           0,
           1,
           1,
           0,
           0
          ],
          [
           0,
           1,
           1,
           0,
           1
          ],
          [
           0,
           1,
           1,
           1,
           0
          ],
          [
           0,
           1,
           1,
           1,
           1
          ],
          [
           1,
           0,
           0,
           0,
           0
          ],
          [
           1,
           0,
           0,
           0,
           1
          ],
          [
           1,
           0,
           0,
           1,
           0
          ],
          [
           1,
           0,
           0,
           1,
           1
          ],
          [
           1,
           0,
           1,
           0,
           0
          ],
          [
           1,
           0,
           1,
           0,
           1
          ],
          [
           1,
           0,
           1,
           1,
           0
          ],
          [
           1,
           0,
           1,
           1,
           1
          ],
          [
           1,
           1,
           0,
           0,
           0
          ],
          [
           1,
           1,
           0,
           0,
           1
          ],
          [
           1,
           1,
           0,
           1,
           0
          ],
          [
           1,
           1,
           0,
           1,
           1
          ],
          [
           1,
           1,
           1,
           0,
           0
          ],
          [
           1,
           1,
           1,
           0,
           1
          ],
          [
           1,
           1,
           1,
           1,
           0
          ],
          [
           1,
           1,
           1,
           1,
           1
          ]
         ],
         "hovertemplate": "Tables=%{customdata}<br>Probability=%{y}<extra></extra>",
         "mode": "markers",
         "name": "Observed reality on 3000 tests",
         "type": "scatter",
         "x": [
          0,
          16,
          8,
          24,
          4,
          20,
          12,
          28,
          2,
          18,
          10,
          26,
          6,
          22,
          14,
          30,
          1,
          17,
          9,
          25,
          5,
          21,
          13,
          29,
          3,
          19,
          11,
          27,
          7,
          23,
          15,
          31
         ],
         "y": [
          0.007,
          0.006,
          0.043333333333333335,
          0.003,
          0.046,
          0.030666666666666665,
          0.023666666666666666,
          0.0023333333333333335,
          0.042,
          0.032,
          0.24333333333333335,
          0.021333333333333333,
          0.037333333333333336,
          0.024,
          0.022333333333333334,
          0.0013333333333333333,
          0.013666666666666667,
          0.009,
          0.08,
          0.007,
          0.08933333333333333,
          0.06233333333333333,
          0.06,
          0.004333333333333333,
          0.008333333333333333,
          0.004,
          0.056,
          0.005666666666666667,
          0.006666666666666667,
          0.004,
          0.0036666666666666666,
          0.0003333333333333333
         ]
        }
       ],
       "layout": {
        "template": {
         "data": {
          "bar": [
           {
            "error_x": {
             "color": "#2a3f5f"
            },
            "error_y": {
             "color": "#2a3f5f"
            },
            "marker": {
             "line": {
              "color": "#E5ECF6",
              "width": 0.5
             },
             "pattern": {
              "fillmode": "overlay",
              "size": 10,
              "solidity": 0.2
             }
            },
            "type": "bar"
           }
          ],
          "barpolar": [
           {
            "marker": {
             "line": {
              "color": "#E5ECF6",
              "width": 0.5
             },
             "pattern": {
              "fillmode": "overlay",
              "size": 10,
              "solidity": 0.2
             }
            },
            "type": "barpolar"
           }
          ],
          "carpet": [
           {
            "aaxis": {
             "endlinecolor": "#2a3f5f",
             "gridcolor": "white",
             "linecolor": "white",
             "minorgridcolor": "white",
             "startlinecolor": "#2a3f5f"
            },
            "baxis": {
             "endlinecolor": "#2a3f5f",
             "gridcolor": "white",
             "linecolor": "white",
             "minorgridcolor": "white",
             "startlinecolor": "#2a3f5f"
            },
            "type": "carpet"
           }
          ],
          "choropleth": [
           {
            "colorbar": {
             "outlinewidth": 0,
             "ticks": ""
            },
            "type": "choropleth"
           }
          ],
          "contour": [
           {
            "colorbar": {
             "outlinewidth": 0,
             "ticks": ""
            },
            "colorscale": [
             [
              0,
              "#0d0887"
             ],
             [
              0.1111111111111111,
              "#46039f"
             ],
             [
              0.2222222222222222,
              "#7201a8"
             ],
             [
              0.3333333333333333,
              "#9c179e"
             ],
             [
              0.4444444444444444,
              "#bd3786"
             ],
             [
              0.5555555555555556,
              "#d8576b"
             ],
             [
              0.6666666666666666,
              "#ed7953"
             ],
             [
              0.7777777777777778,
              "#fb9f3a"
             ],
             [
              0.8888888888888888,
              "#fdca26"
             ],
             [
              1,
              "#f0f921"
             ]
            ],
            "type": "contour"
           }
          ],
          "contourcarpet": [
           {
            "colorbar": {
             "outlinewidth": 0,
             "ticks": ""
            },
            "type": "contourcarpet"
           }
          ],
          "heatmap": [
           {
            "colorbar": {
             "outlinewidth": 0,
             "ticks": ""
            },
            "colorscale": [
             [
              0,
              "#0d0887"
             ],
             [
              0.1111111111111111,
              "#46039f"
             ],
             [
              0.2222222222222222,
              "#7201a8"
             ],
             [
              0.3333333333333333,
              "#9c179e"
             ],
             [
              0.4444444444444444,
              "#bd3786"
             ],
             [
              0.5555555555555556,
              "#d8576b"
             ],
             [
              0.6666666666666666,
              "#ed7953"
             ],
             [
              0.7777777777777778,
              "#fb9f3a"
             ],
             [
              0.8888888888888888,
              "#fdca26"
             ],
             [
              1,
              "#f0f921"
             ]
            ],
            "type": "heatmap"
           }
          ],
          "heatmapgl": [
           {
            "colorbar": {
             "outlinewidth": 0,
             "ticks": ""
            },
            "colorscale": [
             [
              0,
              "#0d0887"
             ],
             [
              0.1111111111111111,
              "#46039f"
             ],
             [
              0.2222222222222222,
              "#7201a8"
             ],
             [
              0.3333333333333333,
              "#9c179e"
             ],
             [
              0.4444444444444444,
              "#bd3786"
             ],
             [
              0.5555555555555556,
              "#d8576b"
             ],
             [
              0.6666666666666666,
              "#ed7953"
             ],
             [
              0.7777777777777778,
              "#fb9f3a"
             ],
             [
              0.8888888888888888,
              "#fdca26"
             ],
             [
              1,
              "#f0f921"
             ]
            ],
            "type": "heatmapgl"
           }
          ],
          "histogram": [
           {
            "marker": {
             "pattern": {
              "fillmode": "overlay",
              "size": 10,
              "solidity": 0.2
             }
            },
            "type": "histogram"
           }
          ],
          "histogram2d": [
           {
            "colorbar": {
             "outlinewidth": 0,
             "ticks": ""
            },
            "colorscale": [
             [
              0,
              "#0d0887"
             ],
             [
              0.1111111111111111,
              "#46039f"
             ],
             [
              0.2222222222222222,
              "#7201a8"
             ],
             [
              0.3333333333333333,
              "#9c179e"
             ],
             [
              0.4444444444444444,
              "#bd3786"
             ],
             [
              0.5555555555555556,
              "#d8576b"
             ],
             [
              0.6666666666666666,
              "#ed7953"
             ],
             [
              0.7777777777777778,
              "#fb9f3a"
             ],
             [
              0.8888888888888888,
              "#fdca26"
             ],
             [
              1,
              "#f0f921"
             ]
            ],
            "type": "histogram2d"
           }
          ],
          "histogram2dcontour": [
           {
            "colorbar": {
             "outlinewidth": 0,
             "ticks": ""
            },
            "colorscale": [
             [
              0,
              "#0d0887"
             ],
             [
              0.1111111111111111,
              "#46039f"
             ],
             [
              0.2222222222222222,
              "#7201a8"
             ],
             [
              0.3333333333333333,
              "#9c179e"
             ],
             [
              0.4444444444444444,
              "#bd3786"
             ],
             [
              0.5555555555555556,
              "#d8576b"
             ],
             [
              0.6666666666666666,
              "#ed7953"
             ],
             [
              0.7777777777777778,
              "#fb9f3a"
             ],
             [
              0.8888888888888888,
              "#fdca26"
             ],
             [
              1,
              "#f0f921"
             ]
            ],
            "type": "histogram2dcontour"
           }
          ],
          "mesh3d": [
           {
            "colorbar": {
             "outlinewidth": 0,
             "ticks": ""
            },
            "type": "mesh3d"
           }
          ],
          "parcoords": [
           {
            "line": {
             "colorbar": {
              "outlinewidth": 0,
              "ticks": ""
             }
            },
            "type": "parcoords"
           }
          ],
          "pie": [
           {
            "automargin": true,
            "type": "pie"
           }
          ],
          "scatter": [
           {
            "fillpattern": {
             "fillmode": "overlay",
             "size": 10,
             "solidity": 0.2
            },
            "type": "scatter"
           }
          ],
          "scatter3d": [
           {
            "line": {
             "colorbar": {
              "outlinewidth": 0,
              "ticks": ""
             }
            },
            "marker": {
             "colorbar": {
              "outlinewidth": 0,
              "ticks": ""
             }
            },
            "type": "scatter3d"
           }
          ],
          "scattercarpet": [
           {
            "marker": {
             "colorbar": {
              "outlinewidth": 0,
              "ticks": ""
             }
            },
            "type": "scattercarpet"
           }
          ],
          "scattergeo": [
           {
            "marker": {
             "colorbar": {
              "outlinewidth": 0,
              "ticks": ""
             }
            },
            "type": "scattergeo"
           }
          ],
          "scattergl": [
           {
            "marker": {
             "colorbar": {
              "outlinewidth": 0,
              "ticks": ""
             }
            },
            "type": "scattergl"
           }
          ],
          "scattermapbox": [
           {
            "marker": {
             "colorbar": {
              "outlinewidth": 0,
              "ticks": ""
             }
            },
            "type": "scattermapbox"
           }
          ],
          "scatterpolar": [
           {
            "marker": {
             "colorbar": {
              "outlinewidth": 0,
              "ticks": ""
             }
            },
            "type": "scatterpolar"
           }
          ],
          "scatterpolargl": [
           {
            "marker": {
             "colorbar": {
              "outlinewidth": 0,
              "ticks": ""
             }
            },
            "type": "scatterpolargl"
           }
          ],
          "scatterternary": [
           {
            "marker": {
             "colorbar": {
              "outlinewidth": 0,
              "ticks": ""
             }
            },
            "type": "scatterternary"
           }
          ],
          "surface": [
           {
            "colorbar": {
             "outlinewidth": 0,
             "ticks": ""
            },
            "colorscale": [
             [
              0,
              "#0d0887"
             ],
             [
              0.1111111111111111,
              "#46039f"
             ],
             [
              0.2222222222222222,
              "#7201a8"
             ],
             [
              0.3333333333333333,
              "#9c179e"
             ],
             [
              0.4444444444444444,
              "#bd3786"
             ],
             [
              0.5555555555555556,
              "#d8576b"
             ],
             [
              0.6666666666666666,
              "#ed7953"
             ],
             [
              0.7777777777777778,
              "#fb9f3a"
             ],
             [
              0.8888888888888888,
              "#fdca26"
             ],
             [
              1,
              "#f0f921"
             ]
            ],
            "type": "surface"
           }
          ],
          "table": [
           {
            "cells": {
             "fill": {
              "color": "#EBF0F8"
             },
             "line": {
              "color": "white"
             }
            },
            "header": {
             "fill": {
              "color": "#C8D4E3"
             },
             "line": {
              "color": "white"
             }
            },
            "type": "table"
           }
          ]
         },
         "layout": {
          "annotationdefaults": {
           "arrowcolor": "#2a3f5f",
           "arrowhead": 0,
           "arrowwidth": 1
          },
          "autotypenumbers": "strict",
          "coloraxis": {
           "colorbar": {
            "outlinewidth": 0,
            "ticks": ""
           }
          },
          "colorscale": {
           "diverging": [
            [
             0,
             "#8e0152"
            ],
            [
             0.1,
             "#c51b7d"
            ],
            [
             0.2,
             "#de77ae"
            ],
            [
             0.3,
             "#f1b6da"
            ],
            [
             0.4,
             "#fde0ef"
            ],
            [
             0.5,
             "#f7f7f7"
            ],
            [
             0.6,
             "#e6f5d0"
            ],
            [
             0.7,
             "#b8e186"
            ],
            [
             0.8,
             "#7fbc41"
            ],
            [
             0.9,
             "#4d9221"
            ],
            [
             1,
             "#276419"
            ]
           ],
           "sequential": [
            [
             0,
             "#0d0887"
            ],
            [
             0.1111111111111111,
             "#46039f"
            ],
            [
             0.2222222222222222,
             "#7201a8"
            ],
            [
             0.3333333333333333,
             "#9c179e"
            ],
            [
             0.4444444444444444,
             "#bd3786"
            ],
            [
             0.5555555555555556,
             "#d8576b"
            ],
            [
             0.6666666666666666,
             "#ed7953"
            ],
            [
             0.7777777777777778,
             "#fb9f3a"
            ],
            [
             0.8888888888888888,
             "#fdca26"
            ],
            [
             1,
             "#f0f921"
            ]
           ],
           "sequentialminus": [
            [
             0,
             "#0d0887"
            ],
            [
             0.1111111111111111,
             "#46039f"
            ],
            [
             0.2222222222222222,
             "#7201a8"
            ],
            [
             0.3333333333333333,
             "#9c179e"
            ],
            [
             0.4444444444444444,
             "#bd3786"
            ],
            [
             0.5555555555555556,
             "#d8576b"
            ],
            [
             0.6666666666666666,
             "#ed7953"
            ],
            [
             0.7777777777777778,
             "#fb9f3a"
            ],
            [
             0.8888888888888888,
             "#fdca26"
            ],
            [
             1,
             "#f0f921"
            ]
           ]
          },
          "colorway": [
           "#636efa",
           "#EF553B",
           "#00cc96",
           "#ab63fa",
           "#FFA15A",
           "#19d3f3",
           "#FF6692",
           "#B6E880",
           "#FF97FF",
           "#FECB52"
          ],
          "font": {
           "color": "#2a3f5f"
          },
          "geo": {
           "bgcolor": "white",
           "lakecolor": "white",
           "landcolor": "#E5ECF6",
           "showlakes": true,
           "showland": true,
           "subunitcolor": "white"
          },
          "hoverlabel": {
           "align": "left"
          },
          "hovermode": "closest",
          "mapbox": {
           "style": "light"
          },
          "paper_bgcolor": "white",
          "plot_bgcolor": "#E5ECF6",
          "polar": {
           "angularaxis": {
            "gridcolor": "white",
            "linecolor": "white",
            "ticks": ""
           },
           "bgcolor": "#E5ECF6",
           "radialaxis": {
            "gridcolor": "white",
            "linecolor": "white",
            "ticks": ""
           }
          },
          "scene": {
           "xaxis": {
            "backgroundcolor": "#E5ECF6",
            "gridcolor": "white",
            "gridwidth": 2,
            "linecolor": "white",
            "showbackground": true,
            "ticks": "",
            "zerolinecolor": "white"
           },
           "yaxis": {
            "backgroundcolor": "#E5ECF6",
            "gridcolor": "white",
            "gridwidth": 2,
            "linecolor": "white",
            "showbackground": true,
            "ticks": "",
            "zerolinecolor": "white"
           },
           "zaxis": {
            "backgroundcolor": "#E5ECF6",
            "gridcolor": "white",
            "gridwidth": 2,
            "linecolor": "white",
            "showbackground": true,
            "ticks": "",
            "zerolinecolor": "white"
           }
          },
          "shapedefaults": {
           "line": {
            "color": "#2a3f5f"
           }
          },
          "ternary": {
           "aaxis": {
            "gridcolor": "white",
            "linecolor": "white",
            "ticks": ""
           },
           "baxis": {
            "gridcolor": "white",
            "linecolor": "white",
            "ticks": ""
           },
           "bgcolor": "#E5ECF6",
           "caxis": {
            "gridcolor": "white",
            "linecolor": "white",
            "ticks": ""
           }
          },
          "title": {
           "x": 0.05
          },
          "xaxis": {
           "automargin": true,
           "gridcolor": "white",
           "linecolor": "white",
           "ticks": "",
           "title": {
            "standoff": 15
           },
           "zerolinecolor": "white",
           "zerolinewidth": 2
          },
          "yaxis": {
           "automargin": true,
           "gridcolor": "white",
           "linecolor": "white",
           "ticks": "",
           "title": {
            "standoff": 15
           },
           "zerolinecolor": "white",
           "zerolinewidth": 2
          }
         }
        }
       }
      }
     },
     "metadata": {},
     "output_type": "display_data"
    }
   ],
   "source": [
    "K=5\n",
    "bias_dice = 1\n",
    "player = 5\n",
    "attempt = 3000\n",
    "tab_dice = generator_dice_proba_bias6_biasN(player+1,bias_dice)\n",
    "tab_dice_2 = generator_dice_proba_uniform_bias6(player+1,bias_dice)\n",
    "tab_coin = generator_coin_biais_group0(K,0.1)\n",
    "s_n= experiment(tab_dice,tab_coin)\n",
    "s_2= np.random.randint(2,13,K)\n",
    "s_3= np.ones(K,int)*12\n",
    "Verify_Model(attempt,s_n[player],player,tab_dice,tab_coin,None,True)\n",
    "Verify_Model(attempt,s_2,player,tab_dice,tab_coin,None,True)\n",
    "Verify_Model(attempt,s_3,player,tab_dice,tab_coin,None,True)\n",
    "Verify_Model(attempt,s_3,player,tab_dice_2,tab_coin,None,True)"
   ]
  },
  {
   "cell_type": "code",
   "execution_count": null,
   "id": "ac88eb12",
   "metadata": {},
   "outputs": [],
   "source": []
  }
 ],
 "metadata": {
  "kernelspec": {
   "display_name": "Python 3.9.7 64-bit",
   "language": "python",
   "name": "python3"
  },
  "language_info": {
   "codemirror_mode": {
    "name": "ipython",
    "version": 3
   },
   "file_extension": ".py",
   "mimetype": "text/x-python",
   "name": "python",
   "nbconvert_exporter": "python",
   "pygments_lexer": "ipython3",
   "version": "3.9.7"
  },
  "vscode": {
   "interpreter": {
    "hash": "15f3ceccf70e189784212a630bcb6f34ff17d0b5a012153ba4156d676d1715c3"
   }
  }
 },
 "nbformat": 4,
 "nbformat_minor": 5
}
