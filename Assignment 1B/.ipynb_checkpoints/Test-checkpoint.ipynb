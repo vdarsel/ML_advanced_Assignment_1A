{
 "cells": [
  {
   "cell_type": "code",
   "execution_count": 61,
   "id": "912a780e",
   "metadata": {},
   "outputs": [],
   "source": [
    "import numpy as np"
   ]
  },
  {
   "cell_type": "code",
   "execution_count": 13,
   "id": "be773798",
   "metadata": {},
   "outputs": [],
   "source": [
    "def next_table_group(current_table_group: int):\n",
    "    #current_table= 0 or 1\n",
    "    r = np.random.binomial(1,0.25)               #proba 0.25 to stay in the table => r = 0 => same table group\n",
    "    return (1-r)*current_table_group + r*(1-current_table_group) #  r=0 ? current_table_group : 1-current_table_group\n",
    "\n",
    "def next_table(current_table_group: int, K : int, k : int):\n",
    "    return current_table_group*K + k\n",
    "\n",
    "def coin_value(current_table : int, coin_tab_prob: np.ndarray):\n",
    "    return np.random.binomial(n=1,p=coin_tab_prob[current_table],size=2)\n",
    "\n",
    "def dice_value(coin_values: np.ndarray, player: int, dice_proba_tab: int):\n",
    "    res=np.zeros(2)\n",
    "    for i,coin in enumerate(coin_values):\n",
    "        res[i] = 1+np.random.choice(5,p=dice_proba_tab[player][coin])\n",
    "    return res\n",
    "\n",
    "def sum_values(dice_results: np.ndarray):\n",
    "    return np.sum(dice_results)"
   ]
  },
  {
   "cell_type": "code",
   "execution_count": 62,
   "id": "e1738c4c",
   "metadata": {},
   "outputs": [],
   "source": [
    "def generator_coin_proba_uniform(K : int):\n",
    "    return 0.5*np.ones(2*K)\n",
    "\n",
    "def generator_coin_biais(K : int, pa: float):\n",
    "    return pa*np.ones(2*K)\n",
    "\n",
    "def generator_coin_biais_group0(K : int, pa: float):\n",
    "    return np.concatenate([pa*np.ones(K),0.5*np.ones(K)])\n",
    "\n",
    "def generator_dice_proba_uniform(N : int):\n",
    "    return 1/6*np.ones((N,2,6))\n",
    "\n",
    "def generator_dice_proba_uniform_bias6(N : int, k : int):\n",
    "    a = 1/6*np.ones((N,1,6))\n",
    "    b = np.array([[[1/(6+k),1/(6+k),1/(6+k),1/(6+k),1/(6+k),(1+k)/(6+k)]]]*N)\n",
    "    return np.concatenate([a,b],axis=1)\n",
    "\n",
    "def generator_dice_proba_bias6_biasN(N : int, k : int):\n",
    "    b=[]\n",
    "    a = np.array([[[1/(6+k),1/(6+k),1/(6+k),1/(6+k),1/(6+k),(1+k)/(6+k)]]]*N)\n",
    "    for i in range(N):\n",
    "        b.append([[1/(6+i),1/(6+i),1/(6+i),1/(6+i),1/(6+i),(1+i)/(6+i)]])\n",
    "    b = np.array(b)\n",
    "    return np.concatenate([a,b],axis=1)"
   ]
  },
  {
   "cell_type": "code",
   "execution_count": 63,
   "id": "122ba6b0",
   "metadata": {},
   "outputs": [
    {
     "data": {
      "text/plain": [
       "array([0.5, 0.5, 0.5, 0.2, 0.2, 0.2])"
      ]
     },
     "execution_count": 63,
     "metadata": {},
     "output_type": "execute_result"
    }
   ],
   "source": [
    "generator_coin_biais_group0(3,0.2)"
   ]
  },
  {
   "cell_type": "code",
   "execution_count": 20,
   "id": "9119c882",
   "metadata": {},
   "outputs": [
    {
     "data": {
      "text/plain": [
       "array([[[0.16666667, 0.16666667, 0.16666667, 0.16666667, 0.16666667,\n",
       "         0.16666667],\n",
       "        [0.16666667, 0.16666667, 0.16666667, 0.16666667, 0.16666667,\n",
       "         0.16666667]],\n",
       "\n",
       "       [[0.16666667, 0.16666667, 0.16666667, 0.16666667, 0.16666667,\n",
       "         0.16666667],\n",
       "        [0.16666667, 0.16666667, 0.16666667, 0.16666667, 0.16666667,\n",
       "         0.16666667]]])"
      ]
     },
     "execution_count": 20,
     "metadata": {},
     "output_type": "execute_result"
    }
   ],
   "source": [
    "generator_dice_proba_uniform(2)"
   ]
  },
  {
   "cell_type": "code",
   "execution_count": 53,
   "id": "f4046d89",
   "metadata": {},
   "outputs": [
    {
     "data": {
      "text/plain": [
       "array([[[0.16666667, 0.16666667, 0.16666667, 0.16666667, 0.16666667,\n",
       "         0.16666667],\n",
       "        [0.1       , 0.1       , 0.1       , 0.1       , 0.1       ,\n",
       "         0.5       ]],\n",
       "\n",
       "       [[0.16666667, 0.16666667, 0.16666667, 0.16666667, 0.16666667,\n",
       "         0.16666667],\n",
       "        [0.1       , 0.1       , 0.1       , 0.1       , 0.1       ,\n",
       "         0.5       ]]])"
      ]
     },
     "execution_count": 53,
     "metadata": {},
     "output_type": "execute_result"
    }
   ],
   "source": [
    "generator_dice_proba_uniform_bias6(2,4)"
   ]
  },
  {
   "cell_type": "code",
   "execution_count": 60,
   "id": "8d735998",
   "metadata": {},
   "outputs": [
    {
     "data": {
      "text/plain": [
       "array([[[0.1       , 0.1       , 0.1       , 0.1       , 0.1       ,\n",
       "         0.5       ],\n",
       "        [0.16666667, 0.16666667, 0.16666667, 0.16666667, 0.16666667,\n",
       "         0.16666667]],\n",
       "\n",
       "       [[0.1       , 0.1       , 0.1       , 0.1       , 0.1       ,\n",
       "         0.5       ],\n",
       "        [0.14285714, 0.14285714, 0.14285714, 0.14285714, 0.14285714,\n",
       "         0.28571429]]])"
      ]
     },
     "execution_count": 60,
     "metadata": {},
     "output_type": "execute_result"
    }
   ],
   "source": [
    "generator_dice_proba_bias6_biasN(2,4)"
   ]
  },
  {
   "cell_type": "code",
   "execution_count": 36,
   "id": "59d4e310",
   "metadata": {},
   "outputs": [
    {
     "data": {
      "text/plain": [
       "array([[0.14285714, 0.14285714, 0.14285714, 0.14285714, 0.14285714,\n",
       "        0.28571429],\n",
       "       [0.14285714, 0.14285714, 0.14285714, 0.14285714, 0.14285714,\n",
       "        0.28571429],\n",
       "       [0.14285714, 0.14285714, 0.14285714, 0.14285714, 0.14285714,\n",
       "        0.28571429],\n",
       "       [0.14285714, 0.14285714, 5.        , 0.14285714, 0.14285714,\n",
       "        0.28571429],\n",
       "       [0.14285714, 0.14285714, 0.14285714, 0.14285714, 0.14285714,\n",
       "        0.28571429],\n",
       "       [0.14285714, 0.14285714, 0.14285714, 0.14285714, 0.14285714,\n",
       "        0.28571429]])"
      ]
     },
     "execution_count": 36,
     "metadata": {},
     "output_type": "execute_result"
    }
   ],
   "source": [
    "b = np.array([[1/7,1/7,1/7,1/7,1/7,2/7]]*6)\n",
    "b[3][2]=5\n",
    "b"
   ]
  },
  {
   "cell_type": "code",
   "execution_count": 68,
   "id": "f6a8d12d",
   "metadata": {},
   "outputs": [
    {
     "data": {
      "text/plain": [
       "array([[[6.23042070e-307, 4.67296746e-307],\n",
       "        [1.69121096e-306, 7.56596412e-307]],\n",
       "\n",
       "       [[4.45066125e-308, 1.69121096e-306],\n",
       "        [7.56587585e-307, 1.37961302e-306]],\n",
       "\n",
       "       [[1.05699242e-307, 8.01097889e-307],\n",
       "        [1.78020169e-306, 7.56601165e-307]],\n",
       "\n",
       "       [[1.02359984e-306, 1.69118108e-306],\n",
       "        [1.69111725e-306, 1.69118923e-306]],\n",
       "\n",
       "       [[1.11260144e-306, 6.89812281e-307],\n",
       "        [2.22522596e-306, 1.50008880e+248]]])"
      ]
     },
     "execution_count": 68,
     "metadata": {},
     "output_type": "execute_result"
    }
   ],
   "source": [
    "np.empty((5,2,2))"
   ]
  },
  {
   "cell_type": "code",
   "execution_count": 115,
   "id": "1d1eca62",
   "metadata": {},
   "outputs": [],
   "source": [
    "def p_one_dice_r(k: int, K: int, ri: int, player: int, tab_coin: np.ndarray, tab_dice: np.ndarray):\n",
    "    res = np.zeros(6)\n",
    "    pA = tab_coin[ri*K+k]\n",
    "    for i in range(6):\n",
    "        res[i] = pA*tab_dice[player][0][i]+(1-pA)*tab_dice[player][1][i]\n",
    "    return res\n",
    "\n",
    "def p_s_r(k: int, K: int, s: int, ri: int, player: int, tab_coin: np.ndarray, tab_dice: np.ndarray):\n",
    "    p=p_one_dice_r(k,K,ri,player,tab_coin,tab_dice)\n",
    "    res=0\n",
    "    sum_val = s[k]\n",
    "    for i in range(max(0,sum_val-7),min(6,sum_val-1)):\n",
    "        res+=p[i]*p[sum_val-i-2]\n",
    "    return res\n",
    "\n",
    "def p_r_r(ri: int, ri_previous: int):\n",
    "    if (ri==ri_previous):\n",
    "        return 0.25\n",
    "    else:\n",
    "        return 0.75\n",
    "    \n",
    "def alpha(ri : int, ri_previous : int, i: int, K: int, \n",
    "          tab_alpha: np.ndarray, player: int, tab_dice: np.ndarray,\n",
    "          tab_coin: np.ndarray, s : np.ndarray):\n",
    "    if(np.isnan(tab_alpha[i][ri][ri_previous])):\n",
    "        p_s = p_s_r(i, K, s, ri, player, tab_coin,tab_dice)\n",
    "        p_r = p_r_r(ri,ri_previous)\n",
    "        if(i==(K-1)):\n",
    "            tab_alpha[i][ri][ri_previous] = p_s*p_r\n",
    "        else:\n",
    "            tab_alpha, r_next_0 = alpha(0,ri,i+1,K,tab_alpha,player,tab_dice,tab_coin,s)\n",
    "            tab_alpha, r_next_1 = alpha(1,ri,i+1,K,tab_alpha,player,tab_dice,tab_coin,s)\n",
    "            tab_alpha[i][ri][ri_previous] = p_s*p_r*(r_next_0+r_next_1)\n",
    "    return tab_alpha,tab_alpha[i][ri][ri_previous]\n",
    "\n",
    "def p_ri(ri: int, ri_previous: int, i: int, s: np.ndarray, K: int, \n",
    "          tab_alpha: np.ndarray, player: int, tab_dice: np.ndarray,\n",
    "          tab_coin: np.ndarray):\n",
    "    tab_alpha,r = alpha(ri,ri_previous,i, K, tab_alpha, player,tab_dice,tab_coin,s)\n",
    "    tab_alpha,r_minus = alpha(1-ri,ri_previous,i, K, tab_alpha, player,tab_dice,tab_coin,s)\n",
    "    return tab_alpha,r/(r+r_minus)\n",
    "\n",
    "# def p_r1(r1: int, i: int, s: np.ndarray, K: int, \n",
    "#           tab_alpha: np.ndarray, player: int, tab_dice: np.ndarray,\n",
    "#           tab_coin: np.ndarray):\n",
    "#     tab_alpha,r = alpha(r1,1,i, K, tab_alpha, player,tab_dice,tab_coin,s)\n",
    "#     tab_alpha,r_minus = alpha(1-r1,1,i, K, tab_alpha, player,tab_dice,tab_coin,s)\n",
    "#     return tab_alpha,r/(r+r_minus)\n",
    "\n",
    "def p_all_r(r: np.ndarray, s: np.ndarray, player: int, tab_dice : np.ndarray, tab_coin: np.ndarray):\n",
    "    K = int(len(tab_coin)/2)\n",
    "    tab_alpha = np.empty((K,2,2))\n",
    "    tab_alpha[:]=np.nan\n",
    "    # suppose r0=1\n",
    "    tab_alpha,res = p_ri(r[0],1,0,s,K,tab_alpha,player,tab_dice,tab_coin)\n",
    "    for i in range(1,K):\n",
    "        tab_alpha,temp = p_ri(r[i],r[i-1],i,s,K,tab_alpha,player,tab_dice,tab_coin)\n",
    "        #update tab_alpha all the time in order to compute it only once\n",
    "        res=temp*res\n",
    "    return res"
   ]
  },
  {
   "cell_type": "code",
   "execution_count": 118,
   "id": "3a7d231f",
   "metadata": {},
   "outputs": [
    {
     "data": {
      "text/plain": [
       "1.0"
      ]
     },
     "execution_count": 118,
     "metadata": {},
     "output_type": "execute_result"
    }
   ],
   "source": [
    "c= generator_coin_proba_uniform(3)\n",
    "d= generator_dice_proba_uniform(2)\n",
    "res=0\n",
    "for i in range(2):\n",
    "    for j in range(2):\n",
    "        for k in range(2):\n",
    "            res+=p_all_r(np.array([i,j,k]),np.array([3,5,8]),1,d,c)\n",
    "res"
   ]
  }
 ],
 "metadata": {
  "kernelspec": {
   "display_name": "Python 3",
   "language": "python",
   "name": "python3"
  },
  "language_info": {
   "codemirror_mode": {
    "name": "ipython",
    "version": 3
   },
   "file_extension": ".py",
   "mimetype": "text/x-python",
   "name": "python",
   "nbconvert_exporter": "python",
   "pygments_lexer": "ipython3",
   "version": "3.8.8"
  }
 },
 "nbformat": 4,
 "nbformat_minor": 5
}
