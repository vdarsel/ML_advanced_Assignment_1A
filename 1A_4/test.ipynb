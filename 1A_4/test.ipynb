{
 "cells": [
  {
   "cell_type": "code",
   "execution_count": 34,
   "metadata": {},
   "outputs": [],
   "source": [
    "import numpy as np\n",
    "# import scipy.integrate as integrate\n",
    "import scipy.stats as scs\n",
    "from math import *\n",
    "import matplotlib.pyplot as plt"
   ]
  },
  {
   "cell_type": "code",
   "execution_count": 11,
   "metadata": {},
   "outputs": [
    {
     "data": {
      "text/plain": [
       "array([3, 0, 2, 1])"
      ]
     },
     "execution_count": 11,
     "metadata": {},
     "output_type": "execute_result"
    }
   ],
   "source": [
    "a=np.arange(4)\n",
    "np.random.shuffle(a)\n",
    "a"
   ]
  },
  {
   "cell_type": "code",
   "execution_count": 174,
   "metadata": {},
   "outputs": [],
   "source": [
    "def initiate(k: int, X_1:np.ndarray,X_2: np.ndarray,S: np.ndarray):\n",
    "    mu_1 = np.random.normal(np.mean(X_1),np.std(X_1)**2*2,size=k)\n",
    "    mu_2 = np.random.normal(np.mean(X_2),np.std(X_2)**2*2,size=k)\n",
    "    tau_1 = np.ones(k)\n",
    "    tau_2 = np.ones(k)\n",
    "    lambd = np.abs(np.random.normal(np.mean(S),np.std(S),k))\n",
    "    pi = np.ones(k)/k\n",
    "    return mu_1,mu_2,tau_1,tau_2,lambd,pi\n",
    "\n",
    "def A_computation(n: int, K: int,X_1: np.ndarray,X_2: np.ndarray, S: np.ndarray, previous_mu_1: np.ndarray,previous_mu_2: np.ndarray,previous_tau_1: np.ndarray,previous_tau_2: np.ndarray,previous_lambda: np.ndarray,previous_pi: np.ndarray):\n",
    "    A= np.zeros(K)\n",
    "    for k in range(K):\n",
    "        p_X_1 = scs.norm(previous_mu_1[k],1/previous_tau_1[k]).pdf(X_1[n])\n",
    "        p_X_2 = scs.norm(previous_mu_2[k],1/previous_tau_2[k]).pdf(X_2[n])\n",
    "        p_S = scs.poisson(previous_lambda[k]).pmf(S[n])\n",
    "        p_Z = previous_pi[k]\n",
    "        A[k]=p_X_1*p_X_2*p_S*p_Z\n",
    "        if(np.isnan(A[k])):\n",
    "            print(p_X_1,p_X_2,p_S,p_Z)\n",
    "            print(previous_mu_1[k],previous_tau_1[k],previous_mu_2[k],previous_tau_2[k],previous_lambda[k],previous_pi[k])\n",
    "    # print(A)\n",
    "    return A/np.sum(A) #normalize\n",
    "\n",
    "def Compare(previous_mu_1: np.ndarray,previous_mu_2: np.ndarray,previous_tau_1: np.ndarray,previous_tau_2: np.ndarray,previous_lambda: np.ndarray,previous_pi: np.ndarray,mu_1: np.ndarray,mu_2: np.ndarray,tau_1: np.ndarray,tau_2: np.ndarray,lambd: np.ndarray,pi):\n",
    "    res = np.sum(np.power(previous_mu_1-mu_1,2))\n",
    "    res += np.sum(np.power(previous_mu_2-mu_2,2))\n",
    "    res += np.sum(np.power(previous_tau_1-tau_1,2))\n",
    "    res += np.sum(np.power(previous_tau_2-tau_2,2))\n",
    "    res += np.sum(np.power(previous_lambda-lambd,2))\n",
    "    res += np.sum(np.power(previous_pi-pi,2))\n",
    "    return res\n",
    "\n",
    "def EM(threshold: float, K: int, X_1: np.ndarray,X_2: np.ndarray, S: np.ndarray):\n",
    "    N= len(X_1)\n",
    "    mu_1,mu_2,tau_1,tau_2,lambd,pi = initiate(K,X_1,X_2,S)\n",
    "    previous_mu_1,previous_mu_2,previous_tau_1,previous_tau_2,previous_lambda,previous_pi = mu_1+1,mu_2,tau_1*3,tau_2*3,lambd,pi*3\n",
    "    loop=1\n",
    "    while(Compare(previous_mu_1,previous_mu_2,previous_tau_1,previous_tau_2,previous_lambda,previous_pi,mu_1,mu_2,tau_1,tau_2,lambd,pi)>threshold):\n",
    "        loop+=1\n",
    "        previous_mu_1,previous_mu_2,previous_tau_1,previous_tau_2,previous_lambda,previous_pi = mu_1.copy(),mu_2.copy(),tau_1.copy(),tau_2.copy(),lambd.copy(),pi.copy()\n",
    "        A = np.zeros((N,K))\n",
    "        for i in range(N):\n",
    "            A[i] = A_computation(i,K,X_1,X_2,S,previous_mu_1,previous_mu_2,previous_tau_1,previous_tau_2,previous_lambda,previous_pi) #expectation\n",
    "        A = A.transpose()\n",
    "        for k in range(K): #maximization\n",
    "            if(np.sum(A[k])<1e-3):\n",
    "                A[k] = A[k]/np.sum(A[k])\n",
    "            pi[k]=np.sum(A[k])\n",
    "            mu_1[k] = np.sum(A[k]*X_1)/np.sum(A[k])\n",
    "            mu_2[k] = np.sum(A[k]*X_2)/np.sum(A[k])\n",
    "            tau_1[k] = min(1e4,np.sum(A[k])/max(1e-5,np.sum(A[k]*np.power(X_1-mu_1[k],2))))\n",
    "            tau_2[k] = min(1e4,np.sum(A[k])/max(1e-5,np.sum(A[k]*np.power(X_2-mu_2[k],2))))\n",
    "            lambd[k] = np.sum(A[k]*S)/(np.sum(A[k]))\n",
    "        pi = pi/np.sum(pi)\n",
    "        # for i in range(K):\n",
    "        #     print(loop,\"\\t\",i,\"\\t\", mu_1[i],\"\\t\", mu_2[i],\"\\t\", tau_1[i],\"\\t\", tau_2[i],\"\\t\", lambd[i],\"\\t\",pi[i])\n",
    "        # print(Compare(previous_mu_1,previous_mu_2,previous_tau_1,previous_tau_2,previous_lambda,previous_pi,mu_1,mu_2,tau_1,tau_2,lambd,pi))\n",
    "    return mu_1,mu_2,tau_1,tau_2,lambd,pi\n",
    "\n",
    "def read_files(X_file_name: str, S_file_name: str):\n",
    "    X_file =\"data\\\\\"+ X_file_name\n",
    "    S_file =\"data\\\\\"+ S_file_name\n",
    "    with open(X_file) as file:\n",
    "        X = file.readlines()\n",
    "    X_1 = np.zeros(len(X))\n",
    "    X_2 = np.zeros(len(X))\n",
    "    for i,line in enumerate(X):\n",
    "        X_1[i]=float(line.split(\" \")[0])\n",
    "        X_2[i]=float(line.split(\"\\n\")[0].split(\" \")[1])\n",
    "    with open(S_file) as file:\n",
    "        S_temp = file.readlines()\n",
    "    S = np.zeros(len(S_temp))\n",
    "    for i,line in enumerate(S_temp):\n",
    "        S[i]=float(line.split(\"\\n\")[0])\n",
    "    return X_1, X_2, S\n"
   ]
  },
  {
   "cell_type": "code",
   "execution_count": 173,
   "metadata": {},
   "outputs": [],
   "source": [
    "X_1,X_2,S = read_files(\"X.txt\",\"S.txt\")\n",
    "mu_1,mu_2,tau_1,tau_2,lambd,pi = EM(0.1,4,X_1,X_2,S)"
   ]
  },
  {
   "cell_type": "code",
   "execution_count": 130,
   "metadata": {},
   "outputs": [
    {
     "data": {
      "text/plain": [
       "(array([0.97914204, 0.11577739, 0.32716042, 4.88636066]),\n",
       " array([0.76298895, 4.8303768 , 4.4898604 , 0.15391843]),\n",
       " array([1.14716257e+00, 2.06263782e+00, 1.00000000e+04, 2.69356541e+00]),\n",
       " array([1.01608653e+00, 1.74614942e+00, 1.00000000e+04, 2.54338428e+00]),\n",
       " array([10.12702393,  2.75102025,  4.        ,  0.26666878]),\n",
       " array([0.41103412, 0.27896838, 0.00999999, 0.29999751]))"
      ]
     },
     "execution_count": 130,
     "metadata": {},
     "output_type": "execute_result"
    }
   ],
   "source": [
    "mu_1,mu_2,tau_1,tau_2,lambd,pi "
   ]
  },
  {
   "cell_type": "code",
   "execution_count": 134,
   "metadata": {},
   "outputs": [],
   "source": [
    "X_1,X_2,S = read_files(\"X.txt\",\"S.txt\")\n",
    "mu_1,mu_2,tau_1,tau_2,lambd,pi = EM(0.1,3,X_1,X_2,S)"
   ]
  },
  {
   "cell_type": "code",
   "execution_count": 135,
   "metadata": {},
   "outputs": [
    {
     "data": {
      "text/plain": [
       "(array([4.88635963, 0.98054309, 0.12358458]),\n",
       " array([0.15391945, 0.7585155 , 4.81318427]),\n",
       " array([2.69355971, 1.14644828, 2.13384527]),\n",
       " array([2.54337926, 1.02446515, 1.76811125]),\n",
       " array([ 0.26666855, 10.1426731 ,  2.79332918]),\n",
       " array([0.2999978 , 0.41019491, 0.28980729]))"
      ]
     },
     "execution_count": 135,
     "metadata": {},
     "output_type": "execute_result"
    }
   ],
   "source": [
    "mu_1,mu_2,tau_1,tau_2,lambd,pi"
   ]
  },
  {
   "cell_type": "code",
   "execution_count": 2,
   "metadata": {},
   "outputs": [],
   "source": [
    "import plotly.graph_objects as go\n",
    "import plotly.express as px"
   ]
  },
  {
   "cell_type": "code",
   "execution_count": 6,
   "metadata": {},
   "outputs": [
    {
     "data": {
      "application/vnd.plotly.v1+json": {
       "config": {
        "plotlyServerURL": "https://plot.ly"
       },
       "data": [
        {
         "marker": {
          "color": [
           9,
           8,
           2,
           21,
           3,
           0,
           5,
           0,
           0,
           5,
           4,
           0,
           11,
           9,
           2,
           3,
           0,
           0,
           4,
           1,
           0,
           2,
           5,
           10,
           0,
           12,
           16,
           4,
           1,
           12,
           3,
           2,
           0,
           9,
           10,
           9,
           3,
           9,
           4,
           4,
           5,
           0,
           0,
           13,
           2,
           7,
           13,
           10,
           5,
           2,
           4,
           3,
           0,
           0,
           9,
           0,
           1,
           11,
           2,
           14,
           2,
           1,
           10,
           2,
           0,
           10,
           0,
           0,
           15,
           0,
           10,
           2,
           8,
           15,
           10,
           3,
           8,
           0,
           1,
           0,
           13,
           0,
           2,
           1,
           1,
           10,
           1,
           3,
           13,
           0,
           8,
           11,
           0,
           2,
           11,
           4,
           13,
           5,
           7,
           0
          ],
          "coloraxis": "coloraxis"
         },
         "mode": "markers",
         "type": "scatter",
         "x": [
          1.2705897595111002,
          1.232786152819342,
          0.013367752176035346,
          -0.861651950829968,
          0.9176152732624041,
          4.334040123799776,
          1.7287667688631254,
          4.4064745954300735,
          -0.10255171997999371,
          1.1954814623291405,
          0.8129426658363049,
          4.976311517117257,
          0.027803941306761448,
          0.8670000825741092,
          0.39261700688898254,
          0.7763947595665742,
          4.456590029482638,
          4.893372500723433,
          -0.6768313946854596,
          0.47982607116646914,
          5.671607851827795,
          -0.033124956181898715,
          1.8063714471281238,
          0.8449160542008298,
          3.8084999097465193,
          -0.16124239758617565,
          1.5102783384586205,
          2.5183153990522316,
          5.130322698524594,
          -0.20277764603771908,
          -1.0607936202802326,
          0.23216214197156781,
          5.398165434822647,
          1.5570005041677097,
          0.05850959538665468,
          1.70894742527448,
          0.018761595194748078,
          2.1980680167050224,
          -0.797375619137129,
          0.327160420673596,
          -0.4128404119602973,
          5.352532953916012,
          4.689811551697283,
          0.6536884833028046,
          -0.47396541479752596,
          -0.06260789550961447,
          0.7443170133351996,
          3.2064206509305504,
          1.4816787554005313,
          -0.7733805717503915,
          0.5744629748437424,
          -0.1777273555629793,
          5.341509349740916,
          4.981063657848886,
          -0.6033292478280006,
          4.490856847296555,
          5.3925932944452155,
          -0.4640720482522591,
          -0.9480403837139417,
          0.9521069061691001,
          1.2041418509721922,
          4.615004191374177,
          0.922086982152557,
          4.8995966711740415,
          4.125665272989014,
          -0.8313121022755774,
          3.674615601986635,
          4.016457120320092,
          0.7289307028651402,
          5.323758729958422,
          1.735628225525482,
          0.25469716266834413,
          1.4984972637942335,
          1.3984325645712934,
          1.1431262299405665,
          1.0018675521175766,
          1.9777049646052878,
          3.792524539447746,
          5.226080355708728,
          5.531727267565511,
          0.3651514204374857,
          5.393369830370042,
          0.12332651683283659,
          5.9710111997328,
          -0.020522968843756723,
          0.7112128637639432,
          5.266038602123919,
          0.8668768900689378,
          1.6272277777248347,
          4.626093450718383,
          2.41418096313428,
          0.6449885678857703,
          4.928228070318161,
          -1.1831611174495442,
          0.6220516323664389,
          0.418018265918203,
          1.2996874937678906,
          1.982228486967167,
          0.600997688053845,
          5.876630059595215
         ],
         "y": [
          1.7257652035050006,
          1.0579021347823874,
          4.728935172043818,
          1.7952503883899071,
          4.474080432997857,
          -0.9928781241940524,
          2.7432591570166602,
          -0.46877028181596525,
          5.136636555002442,
          -0.2936935089641015,
          4.889990949767856,
          0.0621296419764642,
          0.5991240439494587,
          -0.027066068590247294,
          2.908779609946954,
          5.349988430824459,
          -1.0445811779551797,
          0.6592932460020668,
          5.103550498408602,
          6.084755087665347,
          -0.428125887472737,
          4.3236819240106685,
          -0.01688878735418431,
          1.2245245400531257,
          1.2800142905290082,
          -0.6554216562966568,
          1.4553568584711702,
          -0.4695711489917187,
          1.0226740099991802,
          2.0881574998374743,
          5.016202553199254,
          3.9998347040697455,
          1.1792292166101543,
          1.2902080980320154,
          1.0663304305569037,
          0.4751861491064475,
          6.121634020079515,
          2.4066402032170453,
          3.5700933834666357,
          4.489860398333061,
          2.036739243944523,
          0.1392501907268009,
          0.0499389346100807,
          -0.21359283205699198,
          4.619098319281601,
          4.178499489340195,
          1.6840166095132678,
          -0.6184970803117267,
          5.144419298279857,
          4.066477431061233,
          4.261405269605056,
          5.740539919827522,
          0.45851351629645787,
          0.0501386519138093,
          0.9025657715053128,
          -0.7216817718704832,
          0.5556969079961105,
          -0.28718610864477223,
          4.075470586961785,
          0.230852123898037,
          4.218565993317015,
          0.11935382456681165,
          2.0172876624756837,
          -0.022306104493922424,
          -0.3271498711329238,
          -0.5947338526584758,
          0.19456871762132616,
          -0.09128851713450525,
          1.5464646073551185,
          0.3833413371571423,
          0.015253374421231758,
          5.925435917240464,
          1.4749823885312434,
          0.567996132517522,
          -0.15496563142108766,
          5.286696468069845,
          0.6987895870927692,
          0.04770068060087872,
          -0.22729383650830404,
          -0.13655143924996152,
          -0.7916788812743145,
          0.6311593995025745,
          5.129042327041527,
          1.6072157871886406,
          5.093766317747933,
          0.4072422647168763,
          0.7789857945344631,
          5.578847907835627,
          0.22254357879333875,
          -0.3771769834199702,
          1.1761560343454354,
          2.2587183751565743,
          -0.27078145557772954,
          5.647675959042558,
          0.3164364470914761,
          4.393831681877205,
          1.6569733241355027,
          -1.0579701271833146,
          1.085998435691255,
          0.5071880676931332
         ]
        }
       ],
       "layout": {
        "template": {
         "data": {
          "bar": [
           {
            "error_x": {
             "color": "#2a3f5f"
            },
            "error_y": {
             "color": "#2a3f5f"
            },
            "marker": {
             "line": {
              "color": "#E5ECF6",
              "width": 0.5
             },
             "pattern": {
              "fillmode": "overlay",
              "size": 10,
              "solidity": 0.2
             }
            },
            "type": "bar"
           }
          ],
          "barpolar": [
           {
            "marker": {
             "line": {
              "color": "#E5ECF6",
              "width": 0.5
             },
             "pattern": {
              "fillmode": "overlay",
              "size": 10,
              "solidity": 0.2
             }
            },
            "type": "barpolar"
           }
          ],
          "carpet": [
           {
            "aaxis": {
             "endlinecolor": "#2a3f5f",
             "gridcolor": "white",
             "linecolor": "white",
             "minorgridcolor": "white",
             "startlinecolor": "#2a3f5f"
            },
            "baxis": {
             "endlinecolor": "#2a3f5f",
             "gridcolor": "white",
             "linecolor": "white",
             "minorgridcolor": "white",
             "startlinecolor": "#2a3f5f"
            },
            "type": "carpet"
           }
          ],
          "choropleth": [
           {
            "colorbar": {
             "outlinewidth": 0,
             "ticks": ""
            },
            "type": "choropleth"
           }
          ],
          "contour": [
           {
            "colorbar": {
             "outlinewidth": 0,
             "ticks": ""
            },
            "colorscale": [
             [
              0,
              "#0d0887"
             ],
             [
              0.1111111111111111,
              "#46039f"
             ],
             [
              0.2222222222222222,
              "#7201a8"
             ],
             [
              0.3333333333333333,
              "#9c179e"
             ],
             [
              0.4444444444444444,
              "#bd3786"
             ],
             [
              0.5555555555555556,
              "#d8576b"
             ],
             [
              0.6666666666666666,
              "#ed7953"
             ],
             [
              0.7777777777777778,
              "#fb9f3a"
             ],
             [
              0.8888888888888888,
              "#fdca26"
             ],
             [
              1,
              "#f0f921"
             ]
            ],
            "type": "contour"
           }
          ],
          "contourcarpet": [
           {
            "colorbar": {
             "outlinewidth": 0,
             "ticks": ""
            },
            "type": "contourcarpet"
           }
          ],
          "heatmap": [
           {
            "colorbar": {
             "outlinewidth": 0,
             "ticks": ""
            },
            "colorscale": [
             [
              0,
              "#0d0887"
             ],
             [
              0.1111111111111111,
              "#46039f"
             ],
             [
              0.2222222222222222,
              "#7201a8"
             ],
             [
              0.3333333333333333,
              "#9c179e"
             ],
             [
              0.4444444444444444,
              "#bd3786"
             ],
             [
              0.5555555555555556,
              "#d8576b"
             ],
             [
              0.6666666666666666,
              "#ed7953"
             ],
             [
              0.7777777777777778,
              "#fb9f3a"
             ],
             [
              0.8888888888888888,
              "#fdca26"
             ],
             [
              1,
              "#f0f921"
             ]
            ],
            "type": "heatmap"
           }
          ],
          "heatmapgl": [
           {
            "colorbar": {
             "outlinewidth": 0,
             "ticks": ""
            },
            "colorscale": [
             [
              0,
              "#0d0887"
             ],
             [
              0.1111111111111111,
              "#46039f"
             ],
             [
              0.2222222222222222,
              "#7201a8"
             ],
             [
              0.3333333333333333,
              "#9c179e"
             ],
             [
              0.4444444444444444,
              "#bd3786"
             ],
             [
              0.5555555555555556,
              "#d8576b"
             ],
             [
              0.6666666666666666,
              "#ed7953"
             ],
             [
              0.7777777777777778,
              "#fb9f3a"
             ],
             [
              0.8888888888888888,
              "#fdca26"
             ],
             [
              1,
              "#f0f921"
             ]
            ],
            "type": "heatmapgl"
           }
          ],
          "histogram": [
           {
            "marker": {
             "pattern": {
              "fillmode": "overlay",
              "size": 10,
              "solidity": 0.2
             }
            },
            "type": "histogram"
           }
          ],
          "histogram2d": [
           {
            "colorbar": {
             "outlinewidth": 0,
             "ticks": ""
            },
            "colorscale": [
             [
              0,
              "#0d0887"
             ],
             [
              0.1111111111111111,
              "#46039f"
             ],
             [
              0.2222222222222222,
              "#7201a8"
             ],
             [
              0.3333333333333333,
              "#9c179e"
             ],
             [
              0.4444444444444444,
              "#bd3786"
             ],
             [
              0.5555555555555556,
              "#d8576b"
             ],
             [
              0.6666666666666666,
              "#ed7953"
             ],
             [
              0.7777777777777778,
              "#fb9f3a"
             ],
             [
              0.8888888888888888,
              "#fdca26"
             ],
             [
              1,
              "#f0f921"
             ]
            ],
            "type": "histogram2d"
           }
          ],
          "histogram2dcontour": [
           {
            "colorbar": {
             "outlinewidth": 0,
             "ticks": ""
            },
            "colorscale": [
             [
              0,
              "#0d0887"
             ],
             [
              0.1111111111111111,
              "#46039f"
             ],
             [
              0.2222222222222222,
              "#7201a8"
             ],
             [
              0.3333333333333333,
              "#9c179e"
             ],
             [
              0.4444444444444444,
              "#bd3786"
             ],
             [
              0.5555555555555556,
              "#d8576b"
             ],
             [
              0.6666666666666666,
              "#ed7953"
             ],
             [
              0.7777777777777778,
              "#fb9f3a"
             ],
             [
              0.8888888888888888,
              "#fdca26"
             ],
             [
              1,
              "#f0f921"
             ]
            ],
            "type": "histogram2dcontour"
           }
          ],
          "mesh3d": [
           {
            "colorbar": {
             "outlinewidth": 0,
             "ticks": ""
            },
            "type": "mesh3d"
           }
          ],
          "parcoords": [
           {
            "line": {
             "colorbar": {
              "outlinewidth": 0,
              "ticks": ""
             }
            },
            "type": "parcoords"
           }
          ],
          "pie": [
           {
            "automargin": true,
            "type": "pie"
           }
          ],
          "scatter": [
           {
            "fillpattern": {
             "fillmode": "overlay",
             "size": 10,
             "solidity": 0.2
            },
            "type": "scatter"
           }
          ],
          "scatter3d": [
           {
            "line": {
             "colorbar": {
              "outlinewidth": 0,
              "ticks": ""
             }
            },
            "marker": {
             "colorbar": {
              "outlinewidth": 0,
              "ticks": ""
             }
            },
            "type": "scatter3d"
           }
          ],
          "scattercarpet": [
           {
            "marker": {
             "colorbar": {
              "outlinewidth": 0,
              "ticks": ""
             }
            },
            "type": "scattercarpet"
           }
          ],
          "scattergeo": [
           {
            "marker": {
             "colorbar": {
              "outlinewidth": 0,
              "ticks": ""
             }
            },
            "type": "scattergeo"
           }
          ],
          "scattergl": [
           {
            "marker": {
             "colorbar": {
              "outlinewidth": 0,
              "ticks": ""
             }
            },
            "type": "scattergl"
           }
          ],
          "scattermapbox": [
           {
            "marker": {
             "colorbar": {
              "outlinewidth": 0,
              "ticks": ""
             }
            },
            "type": "scattermapbox"
           }
          ],
          "scatterpolar": [
           {
            "marker": {
             "colorbar": {
              "outlinewidth": 0,
              "ticks": ""
             }
            },
            "type": "scatterpolar"
           }
          ],
          "scatterpolargl": [
           {
            "marker": {
             "colorbar": {
              "outlinewidth": 0,
              "ticks": ""
             }
            },
            "type": "scatterpolargl"
           }
          ],
          "scatterternary": [
           {
            "marker": {
             "colorbar": {
              "outlinewidth": 0,
              "ticks": ""
             }
            },
            "type": "scatterternary"
           }
          ],
          "surface": [
           {
            "colorbar": {
             "outlinewidth": 0,
             "ticks": ""
            },
            "colorscale": [
             [
              0,
              "#0d0887"
             ],
             [
              0.1111111111111111,
              "#46039f"
             ],
             [
              0.2222222222222222,
              "#7201a8"
             ],
             [
              0.3333333333333333,
              "#9c179e"
             ],
             [
              0.4444444444444444,
              "#bd3786"
             ],
             [
              0.5555555555555556,
              "#d8576b"
             ],
             [
              0.6666666666666666,
              "#ed7953"
             ],
             [
              0.7777777777777778,
              "#fb9f3a"
             ],
             [
              0.8888888888888888,
              "#fdca26"
             ],
             [
              1,
              "#f0f921"
             ]
            ],
            "type": "surface"
           }
          ],
          "table": [
           {
            "cells": {
             "fill": {
              "color": "#EBF0F8"
             },
             "line": {
              "color": "white"
             }
            },
            "header": {
             "fill": {
              "color": "#C8D4E3"
             },
             "line": {
              "color": "white"
             }
            },
            "type": "table"
           }
          ]
         },
         "layout": {
          "annotationdefaults": {
           "arrowcolor": "#2a3f5f",
           "arrowhead": 0,
           "arrowwidth": 1
          },
          "autotypenumbers": "strict",
          "coloraxis": {
           "colorbar": {
            "outlinewidth": 0,
            "ticks": ""
           }
          },
          "colorscale": {
           "diverging": [
            [
             0,
             "#8e0152"
            ],
            [
             0.1,
             "#c51b7d"
            ],
            [
             0.2,
             "#de77ae"
            ],
            [
             0.3,
             "#f1b6da"
            ],
            [
             0.4,
             "#fde0ef"
            ],
            [
             0.5,
             "#f7f7f7"
            ],
            [
             0.6,
             "#e6f5d0"
            ],
            [
             0.7,
             "#b8e186"
            ],
            [
             0.8,
             "#7fbc41"
            ],
            [
             0.9,
             "#4d9221"
            ],
            [
             1,
             "#276419"
            ]
           ],
           "sequential": [
            [
             0,
             "#0d0887"
            ],
            [
             0.1111111111111111,
             "#46039f"
            ],
            [
             0.2222222222222222,
             "#7201a8"
            ],
            [
             0.3333333333333333,
             "#9c179e"
            ],
            [
             0.4444444444444444,
             "#bd3786"
            ],
            [
             0.5555555555555556,
             "#d8576b"
            ],
            [
             0.6666666666666666,
             "#ed7953"
            ],
            [
             0.7777777777777778,
             "#fb9f3a"
            ],
            [
             0.8888888888888888,
             "#fdca26"
            ],
            [
             1,
             "#f0f921"
            ]
           ],
           "sequentialminus": [
            [
             0,
             "#0d0887"
            ],
            [
             0.1111111111111111,
             "#46039f"
            ],
            [
             0.2222222222222222,
             "#7201a8"
            ],
            [
             0.3333333333333333,
             "#9c179e"
            ],
            [
             0.4444444444444444,
             "#bd3786"
            ],
            [
             0.5555555555555556,
             "#d8576b"
            ],
            [
             0.6666666666666666,
             "#ed7953"
            ],
            [
             0.7777777777777778,
             "#fb9f3a"
            ],
            [
             0.8888888888888888,
             "#fdca26"
            ],
            [
             1,
             "#f0f921"
            ]
           ]
          },
          "colorway": [
           "#636efa",
           "#EF553B",
           "#00cc96",
           "#ab63fa",
           "#FFA15A",
           "#19d3f3",
           "#FF6692",
           "#B6E880",
           "#FF97FF",
           "#FECB52"
          ],
          "font": {
           "color": "#2a3f5f"
          },
          "geo": {
           "bgcolor": "white",
           "lakecolor": "white",
           "landcolor": "#E5ECF6",
           "showlakes": true,
           "showland": true,
           "subunitcolor": "white"
          },
          "hoverlabel": {
           "align": "left"
          },
          "hovermode": "closest",
          "mapbox": {
           "style": "light"
          },
          "paper_bgcolor": "white",
          "plot_bgcolor": "#E5ECF6",
          "polar": {
           "angularaxis": {
            "gridcolor": "white",
            "linecolor": "white",
            "ticks": ""
           },
           "bgcolor": "#E5ECF6",
           "radialaxis": {
            "gridcolor": "white",
            "linecolor": "white",
            "ticks": ""
           }
          },
          "scene": {
           "xaxis": {
            "backgroundcolor": "#E5ECF6",
            "gridcolor": "white",
            "gridwidth": 2,
            "linecolor": "white",
            "showbackground": true,
            "ticks": "",
            "zerolinecolor": "white"
           },
           "yaxis": {
            "backgroundcolor": "#E5ECF6",
            "gridcolor": "white",
            "gridwidth": 2,
            "linecolor": "white",
            "showbackground": true,
            "ticks": "",
            "zerolinecolor": "white"
           },
           "zaxis": {
            "backgroundcolor": "#E5ECF6",
            "gridcolor": "white",
            "gridwidth": 2,
            "linecolor": "white",
            "showbackground": true,
            "ticks": "",
            "zerolinecolor": "white"
           }
          },
          "shapedefaults": {
           "line": {
            "color": "#2a3f5f"
           }
          },
          "ternary": {
           "aaxis": {
            "gridcolor": "white",
            "linecolor": "white",
            "ticks": ""
           },
           "baxis": {
            "gridcolor": "white",
            "linecolor": "white",
            "ticks": ""
           },
           "bgcolor": "#E5ECF6",
           "caxis": {
            "gridcolor": "white",
            "linecolor": "white",
            "ticks": ""
           }
          },
          "title": {
           "x": 0.05
          },
          "xaxis": {
           "automargin": true,
           "gridcolor": "white",
           "linecolor": "white",
           "ticks": "",
           "title": {
            "standoff": 15
           },
           "zerolinecolor": "white",
           "zerolinewidth": 2
          },
          "yaxis": {
           "automargin": true,
           "gridcolor": "white",
           "linecolor": "white",
           "ticks": "",
           "title": {
            "standoff": 15
           },
           "zerolinecolor": "white",
           "zerolinewidth": 2
          }
         }
        }
       }
      }
     },
     "metadata": {},
     "output_type": "display_data"
    }
   ],
   "source": [
    "go.Figure(data=go.Scatter(x=X_1,y=X_2,mode=\"markers\", marker={\"color\":S,'coloraxis':'coloraxis'}))"
   ]
  },
  {
   "cell_type": "code",
   "execution_count": 8,
   "metadata": {},
   "outputs": [
    {
     "data": {
      "application/vnd.plotly.v1+json": {
       "config": {
        "plotlyServerURL": "https://plot.ly"
       },
       "data": [
        {
         "mode": "markers",
         "type": "scatter3d",
         "x": [
          1.2705897595111002,
          1.232786152819342,
          0.013367752176035346,
          -0.861651950829968,
          0.9176152732624041,
          4.334040123799776,
          1.7287667688631254,
          4.4064745954300735,
          -0.10255171997999371,
          1.1954814623291405,
          0.8129426658363049,
          4.976311517117257,
          0.027803941306761448,
          0.8670000825741092,
          0.39261700688898254,
          0.7763947595665742,
          4.456590029482638,
          4.893372500723433,
          -0.6768313946854596,
          0.47982607116646914,
          5.671607851827795,
          -0.033124956181898715,
          1.8063714471281238,
          0.8449160542008298,
          3.8084999097465193,
          -0.16124239758617565,
          1.5102783384586205,
          2.5183153990522316,
          5.130322698524594,
          -0.20277764603771908,
          -1.0607936202802326,
          0.23216214197156781,
          5.398165434822647,
          1.5570005041677097,
          0.05850959538665468,
          1.70894742527448,
          0.018761595194748078,
          2.1980680167050224,
          -0.797375619137129,
          0.327160420673596,
          -0.4128404119602973,
          5.352532953916012,
          4.689811551697283,
          0.6536884833028046,
          -0.47396541479752596,
          -0.06260789550961447,
          0.7443170133351996,
          3.2064206509305504,
          1.4816787554005313,
          -0.7733805717503915,
          0.5744629748437424,
          -0.1777273555629793,
          5.341509349740916,
          4.981063657848886,
          -0.6033292478280006,
          4.490856847296555,
          5.3925932944452155,
          -0.4640720482522591,
          -0.9480403837139417,
          0.9521069061691001,
          1.2041418509721922,
          4.615004191374177,
          0.922086982152557,
          4.8995966711740415,
          4.125665272989014,
          -0.8313121022755774,
          3.674615601986635,
          4.016457120320092,
          0.7289307028651402,
          5.323758729958422,
          1.735628225525482,
          0.25469716266834413,
          1.4984972637942335,
          1.3984325645712934,
          1.1431262299405665,
          1.0018675521175766,
          1.9777049646052878,
          3.792524539447746,
          5.226080355708728,
          5.531727267565511,
          0.3651514204374857,
          5.393369830370042,
          0.12332651683283659,
          5.9710111997328,
          -0.020522968843756723,
          0.7112128637639432,
          5.266038602123919,
          0.8668768900689378,
          1.6272277777248347,
          4.626093450718383,
          2.41418096313428,
          0.6449885678857703,
          4.928228070318161,
          -1.1831611174495442,
          0.6220516323664389,
          0.418018265918203,
          1.2996874937678906,
          1.982228486967167,
          0.600997688053845,
          5.876630059595215
         ],
         "y": [
          1.7257652035050006,
          1.0579021347823874,
          4.728935172043818,
          1.7952503883899071,
          4.474080432997857,
          -0.9928781241940524,
          2.7432591570166602,
          -0.46877028181596525,
          5.136636555002442,
          -0.2936935089641015,
          4.889990949767856,
          0.0621296419764642,
          0.5991240439494587,
          -0.027066068590247294,
          2.908779609946954,
          5.349988430824459,
          -1.0445811779551797,
          0.6592932460020668,
          5.103550498408602,
          6.084755087665347,
          -0.428125887472737,
          4.3236819240106685,
          -0.01688878735418431,
          1.2245245400531257,
          1.2800142905290082,
          -0.6554216562966568,
          1.4553568584711702,
          -0.4695711489917187,
          1.0226740099991802,
          2.0881574998374743,
          5.016202553199254,
          3.9998347040697455,
          1.1792292166101543,
          1.2902080980320154,
          1.0663304305569037,
          0.4751861491064475,
          6.121634020079515,
          2.4066402032170453,
          3.5700933834666357,
          4.489860398333061,
          2.036739243944523,
          0.1392501907268009,
          0.0499389346100807,
          -0.21359283205699198,
          4.619098319281601,
          4.178499489340195,
          1.6840166095132678,
          -0.6184970803117267,
          5.144419298279857,
          4.066477431061233,
          4.261405269605056,
          5.740539919827522,
          0.45851351629645787,
          0.0501386519138093,
          0.9025657715053128,
          -0.7216817718704832,
          0.5556969079961105,
          -0.28718610864477223,
          4.075470586961785,
          0.230852123898037,
          4.218565993317015,
          0.11935382456681165,
          2.0172876624756837,
          -0.022306104493922424,
          -0.3271498711329238,
          -0.5947338526584758,
          0.19456871762132616,
          -0.09128851713450525,
          1.5464646073551185,
          0.3833413371571423,
          0.015253374421231758,
          5.925435917240464,
          1.4749823885312434,
          0.567996132517522,
          -0.15496563142108766,
          5.286696468069845,
          0.6987895870927692,
          0.04770068060087872,
          -0.22729383650830404,
          -0.13655143924996152,
          -0.7916788812743145,
          0.6311593995025745,
          5.129042327041527,
          1.6072157871886406,
          5.093766317747933,
          0.4072422647168763,
          0.7789857945344631,
          5.578847907835627,
          0.22254357879333875,
          -0.3771769834199702,
          1.1761560343454354,
          2.2587183751565743,
          -0.27078145557772954,
          5.647675959042558,
          0.3164364470914761,
          4.393831681877205,
          1.6569733241355027,
          -1.0579701271833146,
          1.085998435691255,
          0.5071880676931332
         ],
         "z": [
          9,
          8,
          2,
          21,
          3,
          0,
          5,
          0,
          0,
          5,
          4,
          0,
          11,
          9,
          2,
          3,
          0,
          0,
          4,
          1,
          0,
          2,
          5,
          10,
          0,
          12,
          16,
          4,
          1,
          12,
          3,
          2,
          0,
          9,
          10,
          9,
          3,
          9,
          4,
          4,
          5,
          0,
          0,
          13,
          2,
          7,
          13,
          10,
          5,
          2,
          4,
          3,
          0,
          0,
          9,
          0,
          1,
          11,
          2,
          14,
          2,
          1,
          10,
          2,
          0,
          10,
          0,
          0,
          15,
          0,
          10,
          2,
          8,
          15,
          10,
          3,
          8,
          0,
          1,
          0,
          13,
          0,
          2,
          1,
          1,
          10,
          1,
          3,
          13,
          0,
          8,
          11,
          0,
          2,
          11,
          4,
          13,
          5,
          7,
          0
         ]
        }
       ],
       "layout": {
        "template": {
         "data": {
          "bar": [
           {
            "error_x": {
             "color": "#2a3f5f"
            },
            "error_y": {
             "color": "#2a3f5f"
            },
            "marker": {
             "line": {
              "color": "#E5ECF6",
              "width": 0.5
             },
             "pattern": {
              "fillmode": "overlay",
              "size": 10,
              "solidity": 0.2
             }
            },
            "type": "bar"
           }
          ],
          "barpolar": [
           {
            "marker": {
             "line": {
              "color": "#E5ECF6",
              "width": 0.5
             },
             "pattern": {
              "fillmode": "overlay",
              "size": 10,
              "solidity": 0.2
             }
            },
            "type": "barpolar"
           }
          ],
          "carpet": [
           {
            "aaxis": {
             "endlinecolor": "#2a3f5f",
             "gridcolor": "white",
             "linecolor": "white",
             "minorgridcolor": "white",
             "startlinecolor": "#2a3f5f"
            },
            "baxis": {
             "endlinecolor": "#2a3f5f",
             "gridcolor": "white",
             "linecolor": "white",
             "minorgridcolor": "white",
             "startlinecolor": "#2a3f5f"
            },
            "type": "carpet"
           }
          ],
          "choropleth": [
           {
            "colorbar": {
             "outlinewidth": 0,
             "ticks": ""
            },
            "type": "choropleth"
           }
          ],
          "contour": [
           {
            "colorbar": {
             "outlinewidth": 0,
             "ticks": ""
            },
            "colorscale": [
             [
              0,
              "#0d0887"
             ],
             [
              0.1111111111111111,
              "#46039f"
             ],
             [
              0.2222222222222222,
              "#7201a8"
             ],
             [
              0.3333333333333333,
              "#9c179e"
             ],
             [
              0.4444444444444444,
              "#bd3786"
             ],
             [
              0.5555555555555556,
              "#d8576b"
             ],
             [
              0.6666666666666666,
              "#ed7953"
             ],
             [
              0.7777777777777778,
              "#fb9f3a"
             ],
             [
              0.8888888888888888,
              "#fdca26"
             ],
             [
              1,
              "#f0f921"
             ]
            ],
            "type": "contour"
           }
          ],
          "contourcarpet": [
           {
            "colorbar": {
             "outlinewidth": 0,
             "ticks": ""
            },
            "type": "contourcarpet"
           }
          ],
          "heatmap": [
           {
            "colorbar": {
             "outlinewidth": 0,
             "ticks": ""
            },
            "colorscale": [
             [
              0,
              "#0d0887"
             ],
             [
              0.1111111111111111,
              "#46039f"
             ],
             [
              0.2222222222222222,
              "#7201a8"
             ],
             [
              0.3333333333333333,
              "#9c179e"
             ],
             [
              0.4444444444444444,
              "#bd3786"
             ],
             [
              0.5555555555555556,
              "#d8576b"
             ],
             [
              0.6666666666666666,
              "#ed7953"
             ],
             [
              0.7777777777777778,
              "#fb9f3a"
             ],
             [
              0.8888888888888888,
              "#fdca26"
             ],
             [
              1,
              "#f0f921"
             ]
            ],
            "type": "heatmap"
           }
          ],
          "heatmapgl": [
           {
            "colorbar": {
             "outlinewidth": 0,
             "ticks": ""
            },
            "colorscale": [
             [
              0,
              "#0d0887"
             ],
             [
              0.1111111111111111,
              "#46039f"
             ],
             [
              0.2222222222222222,
              "#7201a8"
             ],
             [
              0.3333333333333333,
              "#9c179e"
             ],
             [
              0.4444444444444444,
              "#bd3786"
             ],
             [
              0.5555555555555556,
              "#d8576b"
             ],
             [
              0.6666666666666666,
              "#ed7953"
             ],
             [
              0.7777777777777778,
              "#fb9f3a"
             ],
             [
              0.8888888888888888,
              "#fdca26"
             ],
             [
              1,
              "#f0f921"
             ]
            ],
            "type": "heatmapgl"
           }
          ],
          "histogram": [
           {
            "marker": {
             "pattern": {
              "fillmode": "overlay",
              "size": 10,
              "solidity": 0.2
             }
            },
            "type": "histogram"
           }
          ],
          "histogram2d": [
           {
            "colorbar": {
             "outlinewidth": 0,
             "ticks": ""
            },
            "colorscale": [
             [
              0,
              "#0d0887"
             ],
             [
              0.1111111111111111,
              "#46039f"
             ],
             [
              0.2222222222222222,
              "#7201a8"
             ],
             [
              0.3333333333333333,
              "#9c179e"
             ],
             [
              0.4444444444444444,
              "#bd3786"
             ],
             [
              0.5555555555555556,
              "#d8576b"
             ],
             [
              0.6666666666666666,
              "#ed7953"
             ],
             [
              0.7777777777777778,
              "#fb9f3a"
             ],
             [
              0.8888888888888888,
              "#fdca26"
             ],
             [
              1,
              "#f0f921"
             ]
            ],
            "type": "histogram2d"
           }
          ],
          "histogram2dcontour": [
           {
            "colorbar": {
             "outlinewidth": 0,
             "ticks": ""
            },
            "colorscale": [
             [
              0,
              "#0d0887"
             ],
             [
              0.1111111111111111,
              "#46039f"
             ],
             [
              0.2222222222222222,
              "#7201a8"
             ],
             [
              0.3333333333333333,
              "#9c179e"
             ],
             [
              0.4444444444444444,
              "#bd3786"
             ],
             [
              0.5555555555555556,
              "#d8576b"
             ],
             [
              0.6666666666666666,
              "#ed7953"
             ],
             [
              0.7777777777777778,
              "#fb9f3a"
             ],
             [
              0.8888888888888888,
              "#fdca26"
             ],
             [
              1,
              "#f0f921"
             ]
            ],
            "type": "histogram2dcontour"
           }
          ],
          "mesh3d": [
           {
            "colorbar": {
             "outlinewidth": 0,
             "ticks": ""
            },
            "type": "mesh3d"
           }
          ],
          "parcoords": [
           {
            "line": {
             "colorbar": {
              "outlinewidth": 0,
              "ticks": ""
             }
            },
            "type": "parcoords"
           }
          ],
          "pie": [
           {
            "automargin": true,
            "type": "pie"
           }
          ],
          "scatter": [
           {
            "fillpattern": {
             "fillmode": "overlay",
             "size": 10,
             "solidity": 0.2
            },
            "type": "scatter"
           }
          ],
          "scatter3d": [
           {
            "line": {
             "colorbar": {
              "outlinewidth": 0,
              "ticks": ""
             }
            },
            "marker": {
             "colorbar": {
              "outlinewidth": 0,
              "ticks": ""
             }
            },
            "type": "scatter3d"
           }
          ],
          "scattercarpet": [
           {
            "marker": {
             "colorbar": {
              "outlinewidth": 0,
              "ticks": ""
             }
            },
            "type": "scattercarpet"
           }
          ],
          "scattergeo": [
           {
            "marker": {
             "colorbar": {
              "outlinewidth": 0,
              "ticks": ""
             }
            },
            "type": "scattergeo"
           }
          ],
          "scattergl": [
           {
            "marker": {
             "colorbar": {
              "outlinewidth": 0,
              "ticks": ""
             }
            },
            "type": "scattergl"
           }
          ],
          "scattermapbox": [
           {
            "marker": {
             "colorbar": {
              "outlinewidth": 0,
              "ticks": ""
             }
            },
            "type": "scattermapbox"
           }
          ],
          "scatterpolar": [
           {
            "marker": {
             "colorbar": {
              "outlinewidth": 0,
              "ticks": ""
             }
            },
            "type": "scatterpolar"
           }
          ],
          "scatterpolargl": [
           {
            "marker": {
             "colorbar": {
              "outlinewidth": 0,
              "ticks": ""
             }
            },
            "type": "scatterpolargl"
           }
          ],
          "scatterternary": [
           {
            "marker": {
             "colorbar": {
              "outlinewidth": 0,
              "ticks": ""
             }
            },
            "type": "scatterternary"
           }
          ],
          "surface": [
           {
            "colorbar": {
             "outlinewidth": 0,
             "ticks": ""
            },
            "colorscale": [
             [
              0,
              "#0d0887"
             ],
             [
              0.1111111111111111,
              "#46039f"
             ],
             [
              0.2222222222222222,
              "#7201a8"
             ],
             [
              0.3333333333333333,
              "#9c179e"
             ],
             [
              0.4444444444444444,
              "#bd3786"
             ],
             [
              0.5555555555555556,
              "#d8576b"
             ],
             [
              0.6666666666666666,
              "#ed7953"
             ],
             [
              0.7777777777777778,
              "#fb9f3a"
             ],
             [
              0.8888888888888888,
              "#fdca26"
             ],
             [
              1,
              "#f0f921"
             ]
            ],
            "type": "surface"
           }
          ],
          "table": [
           {
            "cells": {
             "fill": {
              "color": "#EBF0F8"
             },
             "line": {
              "color": "white"
             }
            },
            "header": {
             "fill": {
              "color": "#C8D4E3"
             },
             "line": {
              "color": "white"
             }
            },
            "type": "table"
           }
          ]
         },
         "layout": {
          "annotationdefaults": {
           "arrowcolor": "#2a3f5f",
           "arrowhead": 0,
           "arrowwidth": 1
          },
          "autotypenumbers": "strict",
          "coloraxis": {
           "colorbar": {
            "outlinewidth": 0,
            "ticks": ""
           }
          },
          "colorscale": {
           "diverging": [
            [
             0,
             "#8e0152"
            ],
            [
             0.1,
             "#c51b7d"
            ],
            [
             0.2,
             "#de77ae"
            ],
            [
             0.3,
             "#f1b6da"
            ],
            [
             0.4,
             "#fde0ef"
            ],
            [
             0.5,
             "#f7f7f7"
            ],
            [
             0.6,
             "#e6f5d0"
            ],
            [
             0.7,
             "#b8e186"
            ],
            [
             0.8,
             "#7fbc41"
            ],
            [
             0.9,
             "#4d9221"
            ],
            [
             1,
             "#276419"
            ]
           ],
           "sequential": [
            [
             0,
             "#0d0887"
            ],
            [
             0.1111111111111111,
             "#46039f"
            ],
            [
             0.2222222222222222,
             "#7201a8"
            ],
            [
             0.3333333333333333,
             "#9c179e"
            ],
            [
             0.4444444444444444,
             "#bd3786"
            ],
            [
             0.5555555555555556,
             "#d8576b"
            ],
            [
             0.6666666666666666,
             "#ed7953"
            ],
            [
             0.7777777777777778,
             "#fb9f3a"
            ],
            [
             0.8888888888888888,
             "#fdca26"
            ],
            [
             1,
             "#f0f921"
            ]
           ],
           "sequentialminus": [
            [
             0,
             "#0d0887"
            ],
            [
             0.1111111111111111,
             "#46039f"
            ],
            [
             0.2222222222222222,
             "#7201a8"
            ],
            [
             0.3333333333333333,
             "#9c179e"
            ],
            [
             0.4444444444444444,
             "#bd3786"
            ],
            [
             0.5555555555555556,
             "#d8576b"
            ],
            [
             0.6666666666666666,
             "#ed7953"
            ],
            [
             0.7777777777777778,
             "#fb9f3a"
            ],
            [
             0.8888888888888888,
             "#fdca26"
            ],
            [
             1,
             "#f0f921"
            ]
           ]
          },
          "colorway": [
           "#636efa",
           "#EF553B",
           "#00cc96",
           "#ab63fa",
           "#FFA15A",
           "#19d3f3",
           "#FF6692",
           "#B6E880",
           "#FF97FF",
           "#FECB52"
          ],
          "font": {
           "color": "#2a3f5f"
          },
          "geo": {
           "bgcolor": "white",
           "lakecolor": "white",
           "landcolor": "#E5ECF6",
           "showlakes": true,
           "showland": true,
           "subunitcolor": "white"
          },
          "hoverlabel": {
           "align": "left"
          },
          "hovermode": "closest",
          "mapbox": {
           "style": "light"
          },
          "paper_bgcolor": "white",
          "plot_bgcolor": "#E5ECF6",
          "polar": {
           "angularaxis": {
            "gridcolor": "white",
            "linecolor": "white",
            "ticks": ""
           },
           "bgcolor": "#E5ECF6",
           "radialaxis": {
            "gridcolor": "white",
            "linecolor": "white",
            "ticks": ""
           }
          },
          "scene": {
           "xaxis": {
            "backgroundcolor": "#E5ECF6",
            "gridcolor": "white",
            "gridwidth": 2,
            "linecolor": "white",
            "showbackground": true,
            "ticks": "",
            "zerolinecolor": "white"
           },
           "yaxis": {
            "backgroundcolor": "#E5ECF6",
            "gridcolor": "white",
            "gridwidth": 2,
            "linecolor": "white",
            "showbackground": true,
            "ticks": "",
            "zerolinecolor": "white"
           },
           "zaxis": {
            "backgroundcolor": "#E5ECF6",
            "gridcolor": "white",
            "gridwidth": 2,
            "linecolor": "white",
            "showbackground": true,
            "ticks": "",
            "zerolinecolor": "white"
           }
          },
          "shapedefaults": {
           "line": {
            "color": "#2a3f5f"
           }
          },
          "ternary": {
           "aaxis": {
            "gridcolor": "white",
            "linecolor": "white",
            "ticks": ""
           },
           "baxis": {
            "gridcolor": "white",
            "linecolor": "white",
            "ticks": ""
           },
           "bgcolor": "#E5ECF6",
           "caxis": {
            "gridcolor": "white",
            "linecolor": "white",
            "ticks": ""
           }
          },
          "title": {
           "x": 0.05
          },
          "xaxis": {
           "automargin": true,
           "gridcolor": "white",
           "linecolor": "white",
           "ticks": "",
           "title": {
            "standoff": 15
           },
           "zerolinecolor": "white",
           "zerolinewidth": 2
          },
          "yaxis": {
           "automargin": true,
           "gridcolor": "white",
           "linecolor": "white",
           "ticks": "",
           "title": {
            "standoff": 15
           },
           "zerolinecolor": "white",
           "zerolinewidth": 2
          }
         }
        }
       }
      }
     },
     "metadata": {},
     "output_type": "display_data"
    }
   ],
   "source": [
    "go.Figure(data=go.Scatter3d(x=X_1,y=X_2,z=S,mode=\"markers\",))"
   ]
  },
  {
   "cell_type": "code",
   "execution_count": 94,
   "metadata": {},
   "outputs": [
    {
     "name": "stdout",
     "output_type": "stream",
     "text": [
      "1.4393742303319791e-11\n",
      "0.2999975145414036 2.7158028138314377e-21 0.00034337554519515935 1.4393742303319791e-11\n",
      "0.0017514633310437345\n",
      "0.28889108366947164 0.04290271506583161 1.351193753076914e-07 0.0017514633310437345\n",
      "0.12346402261459637\n",
      "0.4111114017891247 0.43278685565136316 0.2512957480859499 0.12346402261459637\n",
      "4.857849568328593e-10\n",
      "0.2999975145414036 1.0021855116044008e-21 0.07218289336543718 4.857849568328593e-10\n",
      "0.005640651842676114\n",
      "0.28889108366947164 0.052060704535523264 8.189374379250675e-11 0.005640651842676114\n",
      "0.10974126099279935\n",
      "0.4111114017891247 0.438698384552828 0.3874044575737142 0.10974126099279935\n",
      "0.02723338129489682\n",
      "0.2999975145414036 4.1696870552035705e-38 4.0292122090293496e-30 0.02723338129489682\n",
      "0.2387449741447438\n",
      "0.28889108366947164 0.8266732535518686 0.7083329697418473 0.2387449741447438\n",
      "0.0020529697874618973\n",
      "0.4111114017891247 0.24777339754077032 0.00012193237217760652 0.0020529697874618973\n",
      "1.3220835165355126e-32\n",
      "0.2999975145414036 9.513937197666715e-53 0.00016678163257438674 1.3220835165355126e-32\n",
      "2.8222230818725992e-12\n",
      "0.28889108366947164 0.09428930203609608 2.6881743527695156e-07 2.8222230818725992e-12\n",
      "0.0010183929300771187\n",
      "0.4111114017891247 0.049229292216047674 0.233966939340842 0.0010183929300771187\n",
      "0.0024207641687533543\n",
      "0.2999975145414036 1.6449446201634191e-25 6.160352499169592e-27 0.0024207641687533543\n",
      "0.22239614109233025\n",
      "0.28889108366947164 0.2029988753709398 0.5919388729403811 0.22239614109233025\n",
      "0.006929059479722311\n",
      "0.4111114017891247 0.45655423007248985 0.00033435136725500715 0.006929059479722311\n",
      "0.7659267213617071\n",
      "0.2999975145414036 0.3553275149005616 0.014419966485315024 0.7659267213617071\n",
      "0.061141445979702565\n",
      "0.28889108366947164 2.942308486628232e-18 1.3032824146579654e-24 0.061141445979702565\n",
      "4.00485301941941e-05\n",
      "0.4111114017891247 0.0002776391710196728 0.08258352762598677 4.00485301941941e-05\n",
      "8.60729777327495e-06\n",
      "0.2999975145414036 2.1047602178098587e-16 3.8758463605025074e-10 8.60729777327495e-06\n",
      "0.08684119275263087\n",
      "0.28889108366947164 0.0024566612002126457 0.0006719307527375612 0.08684119275263087\n",
      "0.035519779873116504\n",
      "0.4111114017891247 0.31616568523226574 0.05367733458093751 0.035519779873116504\n",
      "0.7659267213617071\n",
      "0.2999975145414036 0.4660390525352503 0.2895133410491945 0.7659267213617071\n",
      "0.061141445979702565\n",
      "0.28889108366947164 7.291878243965508e-19 1.5985850902045306e-20 0.061141445979702565\n",
      "4.00485301941941e-05\n",
      "0.4111114017891247 0.0002009406235242084 0.1851924956963015 4.00485301941941e-05\n",
      "0.7659267213617071\n",
      "0.2999975145414036 6.592501932230221e-40 1.3539126294625103e-35 0.7659267213617071\n",
      "0.061141445979702565\n",
      "0.28889108366947164 0.7569543485484183 0.6096837321092295 0.061141445979702565\n",
      "4.00485301941941e-05\n",
      "0.4111114017891247 0.2119474337796025 2.1125591701619113e-05 4.00485301941941e-05\n",
      "8.60729777327495e-06\n",
      "0.2999975145414036 3.7093482818277734e-22 0.5307435910297886 8.60729777327495e-06\n",
      "0.08684119275263087\n",
      "0.28889108366947164 0.06261342838700984 3.0445333021205034e-19 0.08684119275263087\n",
      "0.035519779873116504\n",
      "0.4111114017891247 0.44379197496216616 0.22770476759535682 0.035519779873116504\n",
      "0.00016138555557784016\n",
      "0.2999975145414036 7.761260522795345e-27 3.153198631266364e-32 0.00016138555557784016\n",
      "0.15537513538224323\n",
      "0.28889108366947164 0.2887325793064236 0.7119122029210305 0.15537513538224323\n",
      "0.017539906907088603\n",
      "0.4111114017891247 0.4494553208189885 6.226890792162709e-05 0.017539906907088603\n",
      "0.7659267213617071\n",
      "0.2999975145414036 1.0434946073426548 0.9873867910882602 0.7659267213617071\n",
      "0.061141445979702565\n",
      "0.28889108366947164 5.448742225585757e-24 8.94884929071365e-17 0.061141445979702565\n",
      "4.00485301941941e-05\n",
      "0.4111114017891247 1.2412109761897858e-05 0.31439377785459144 4.00485301941941e-05\n",
      "9.305192863973612e-15\n",
      "0.2999975145414036 6.941211785216788e-38 0.534444548036858 9.305192863973612e-15\n",
      "0.00012434745248503397\n",
      "0.28889108366947164 0.8322354525581586 2.186700225387074e-13 0.00012434745248503397\n",
      "0.11507307261157225\n",
      "0.4111114017891247 0.25232698479786647 0.3995296700630562 0.11507307261157225\n",
      "1.4393742303319791e-11\n",
      "0.2999975145414036 3.7945408401152873e-26 0.912664348419557 1.4393742303319791e-11\n",
      "0.0017514633310437345\n",
      "0.28889108366947164 0.24219939761661652 2.2374627059750425e-17 0.0017514633310437345\n",
      "0.12346402261459637\n",
      "0.4111114017891247 0.45392422764991425 0.2935482907565908 0.12346402261459637\n",
      "0.02723338129489682\n",
      "0.2999975145414036 1.6469441402037366e-32 2.2172759724130697e-11 0.02723338129489682\n",
      "0.2387449741447438\n",
      "0.28889108366947164 0.7204620248413564 0.001954551580906266 0.2387449741447438\n",
      "0.0020529697874618973\n",
      "0.4111114017891247 0.3649954517985054 0.03774732408247695 0.0020529697874618973\n",
      "0.0024207641687533543\n",
      "0.2999975145414036 2.6226047536733854e-27 1.2052924357319097e-38 0.0024207641687533543\n",
      "0.22239614109233025\n",
      "0.28889108366947164 0.3227279160528442 0.45487755239296696 0.22239614109233025\n",
      "0.006929059479722311\n",
      "0.4111114017891247 0.4454869886344236 7.883889216666802e-06 0.006929059479722311\n",
      "0.7659267213617071\n",
      "0.2999975145414036 0.5498502731814933 0.009741680105311358 0.7659267213617071\n",
      "0.061141445979702565\n",
      "0.28889108366947164 2.7391875952383883e-19 4.906436532674506e-25 0.061141445979702565\n",
      "4.00485301941941e-05\n",
      "0.4111114017891247 0.0001600164000781606 0.07509782337273413 4.00485301941941e-05\n",
      "0.7659267213617071\n",
      "0.2999975145414036 1.0743854258020331 0.4441819354805428 0.7659267213617071\n",
      "0.061141445979702565\n",
      "0.28889108366947164 3.328288490874971e-23 4.944902359551234e-13 0.061141445979702565\n",
      "4.00485301941941e-05\n",
      "0.4111114017891247 1.9115605068381564e-05 0.40286952423369604 4.00485301941941e-05\n",
      "0.00016138555557784016\n",
      "0.2999975145414036 1.8704325956573484e-49 3.9192295447108194e-35 0.00016138555557784016\n",
      "0.15537513538224323\n",
      "0.28889108366947164 0.1991681092973951 0.6296532617373957 0.15537513538224323\n",
      "0.017539906907088603\n",
      "0.4111114017891247 0.07532203048198419 2.4511323295594556e-05 0.017539906907088603\n",
      "0.2042487426976899\n",
      "0.2999975145414036 2.7512663949169256e-31 3.9523568436795913e-50 0.2042487426976899\n",
      "0.17086376409055457\n",
      "0.28889108366947164 0.6365355272404041 0.05372492601780756 0.17086376409055457\n",
      "0.0004055081319059729\n",
      "0.4111114017891247 0.388460069984806 1.8471700107917913e-07 0.0004055081319059729\n",
      "0.7659267213617071\n",
      "0.2999975145414036 0.11475821832814918 0.3391952624225737 0.7659267213617071\n",
      "0.061141445979702565\n",
      "0.28889108366947164 4.120157774256152e-31 3.196541512060223e-20 0.061141445979702565\n",
      "4.00485301941941e-05\n",
      "0.4111114017891247 2.328001841006334e-07 0.19484185758883854 4.00485301941941e-05\n",
      "0.02723338129489682\n",
      "0.2999975145414036 7.995150594640556e-39 3.8300616404072094e-25 0.02723338129489682\n",
      "0.2387449741447438\n",
      "0.28889108366947164 0.8038319650986548 0.48242862353394483 0.2387449741447438\n",
      "0.0020529697874618973\n",
      "0.4111114017891247 0.23322415100778332 0.0005876016880688688 0.0020529697874618973\n",
      "8.60729777327495e-06\n",
      "0.2999975145414036 1.2185183179680231e-15 0.9232945000961478 8.60729777327495e-06\n",
      "0.08684119275263087\n",
      "0.28889108366947164 0.001377254740320099 2.6242841062937086e-17 0.08684119275263087\n",
      "0.035519779873116504\n",
      "0.4111114017891247 0.2916989872873324 0.29597783980765047 0.035519779873116504\n",
      "3.838361668516924e-13\n",
      "0.2999975145414036 1.9893096518426611e-26 0.02490453109453961 3.838361668516924e-13\n",
      "0.0004894578671038641\n",
      "0.28889108366947164 0.26064438950909685 5.951979637586814e-10 0.0004894578671038641\n",
      "0.12501249090859223\n",
      "0.4111114017891247 0.45230333479046875 0.3630518485709764 0.12501249090859223\n",
      "0.7659267213617071\n",
      "0.2999975145414036 0.015881283460821193 0.016790180110091764 0.7659267213617071\n",
      "0.061141445979702565\n",
      "0.28889108366947164 3.588555682191447e-14 1.1294634501706275e-09 0.061141445979702565\n",
      "4.00485301941941e-05\n",
      "0.4111114017891247 0.0023572926418107534 0.35303575966095635 4.00485301941941e-05\n",
      "2.067837007139085e-16\n",
      "0.2999975145414036 7.780752200194281e-41 0.1219581214739451 2.067837007139085e-16\n",
      "2.895808978429789e-05\n",
      "0.28889108366947164 0.7073031626963023 6.192838868558598e-22 2.895808978429789e-05\n",
      "0.09709691899871548\n",
      "0.4111114017891247 0.19451731216170023 0.14349013485172996 0.09709691899871548\n",
      "2.3939901314010004e-23\n",
      "0.2999975145414036 1.1862384533062052e-18 0.004237913001642493 2.3939901314010004e-23\n",
      "4.043377936203234e-08\n",
      "0.28889108366947164 0.010820396691086009 8.008411072044422e-09 4.043377936203234e-08\n",
      "0.02336548303573496\n",
      "0.4111114017891247 0.3801081860617631 0.3164917506479647 0.02336548303573496\n",
      "0.00016138555557784016\n",
      "0.2999975145414036 1.5724918889754067e-09 0.2885802963853014 0.00016138555557784016\n",
      "0.15537513538224323\n",
      "0.28889108366947164 1.904674117399485e-06 1.5768215381187614e-20 0.15537513538224323\n",
      "0.017539906907088603\n",
      "0.4111114017891247 0.09624403851814425 0.18500407651305373 0.017539906907088603\n",
      "0.2042487426976899\n",
      "0.2999975145414036 0.865903954246062 0.08833994272857185 0.2042487426976899\n",
      "0.17086376409055457\n",
      "0.28889108366947164 1.74166030171258e-25 5.322668569983717e-11 0.17086376409055457\n",
      "0.0004055081319059729\n",
      "0.4111114017891247 5.434557143846802e-06 0.3913214091011065 0.0004055081319059729\n",
      "2.067837007139085e-16\n",
      "0.2999975145414036 1.6892714382112027e-41 5.636502942472145e-06 2.067837007139085e-16\n",
      "2.895808978429789e-05\n",
      "0.28889108366947164 0.6678130741565006 4.1130074937283545e-06 2.895808978429789e-05\n",
      "0.09709691899871548\n",
      "0.4111114017891247 0.18255454404617644 0.16389984960934775 0.09709691899871548\n",
      "0.0024207641687533543\n",
      "0.2999975145414036 2.0375363083302563e-56 6.267365431610475e-34 0.0024207641687533543\n",
      "0.22239614109233025\n",
      "0.28889108366947164 0.03542022466067979 0.6740001953607766 0.22239614109233025\n",
      "0.006929059479722311\n",
      "0.4111114017891247 0.02960464072489604 3.6094858745231483e-05 0.006929059479722311\n",
      "0.02723338129489682\n",
      "0.2999975145414036 8.019701974410344e-35 1.6965209545560416e-21 0.02723338129489682\n",
      "0.2387449741447438\n",
      "0.28889108366947164 0.8268881716575156 0.24220758368545367 0.2387449741447438\n",
      "0.0020529697874618973\n",
      "0.4111114017891247 0.3170621238591556 0.001828021717901298 0.0020529697874618973\n",
      "0.7659267213617071\n",
      "0.2999975145414036 0.41548292526046904 0.03385573505803918 0.7659267213617071\n",
      "0.061141445979702565\n",
      "0.28889108366947164 3.381858114831576e-28 3.502308317303076e-10 0.061141445979702565\n",
      "4.00485301941941e-05\n",
      "0.4111114017891247 1.1997292125284397e-06 0.3705648173802106 4.00485301941941e-05\n",
      "1.4393742303319791e-11\n",
      "0.2999975145414036 3.696191501029815e-18 0.01558332433940262 1.4393742303319791e-11\n",
      "0.0017514633310437345\n",
      "0.28889108366947164 0.008025136192360083 1.269143170355811e-09 0.0017514633310437345\n",
      "0.12346402261459637\n",
      "0.4111114017891247 0.36736273818763193 0.3511047786826052 0.12346402261459637\n",
      "3.838361668516924e-13\n",
      "0.2999975145414036 2.041843695072106e-37 0.06869574381978763 3.838361668516924e-13\n",
      "0.0004894578671038641\n",
      "0.28889108366947164 0.8415421407024658 9.073204897769789e-11 0.0004894578671038641\n",
      "0.12501249090859223\n",
      "0.4111114017891247 0.26205349758110297 0.38639984206636996 0.12501249090859223\n",
      "1.4393742303319791e-11\n",
      "0.2999975145414036 1.334731127665266e-16 0.726675645459286 1.4393742303319791e-11\n",
      "0.0017514633310437345\n",
      "0.28889108366947164 0.0028355092530666344 3.924787333691917e-14 0.0017514633310437345\n",
      "0.12346402261459637\n",
      "0.4111114017891247 0.32232672306730553 0.3881435471288688 0.12346402261459637\n",
      "0.0024207641687533543\n",
      "0.2999975145414036 5.045187097320454e-38 9.560334443684348e-51 0.0024207641687533543\n",
      "0.22239614109233025\n",
      "0.28889108366947164 0.8288387619968238 0.04609054746549042 0.22239614109233025\n",
      "0.006929059479722311\n",
      "0.4111114017891247 0.24947308115159758 1.5076853850775177e-07 0.006929059479722311\n",
      "1.4393742303319791e-11\n",
      "0.2999975145414036 4.420463334769814e-12 7.549201811396333e-08 1.4393742303319791e-11\n",
      "0.0017514633310437345\n",
      "0.28889108366947164 4.8917114016217724e-05 5.82712355509644e-05 0.0017514633310437345\n",
      "0.12346402261459637\n",
      "0.4111114017891247 0.17212417904009306 0.10067053754489165 0.12346402261459637\n",
      "0.00016138555557784016\n",
      "0.2999975145414036 1.367725957919746e-51 4.1050838828395326e-17 0.00016138555557784016\n",
      "0.15537513538224323\n",
      "0.28889108366947164 0.12446142947917015 0.05747587074772244 0.15537513538224323\n",
      "0.017539906907088603\n",
      "0.4111114017891247 0.05736829360624992 0.00697479972405542 0.017539906907088603\n",
      "0.00016138555557784016\n",
      "0.2999975145414036 1.9190964765075346e-33 3.960369529386353e-27 0.00016138555557784016\n",
      "0.15537513538224323\n",
      "0.28889108366947164 0.7729359878490074 0.6022203710174053 0.15537513538224323\n",
      "0.017539906907088603\n",
      "0.4111114017891247 0.34603635803298266 0.0003147189098582451 0.017539906907088603\n",
      "8.60729777327495e-06\n",
      "0.2999975145414036 6.161835349837732e-45 1.0634130369296181e-05 8.60729777327495e-06\n",
      "0.08684119275263087\n",
      "0.28889108366947164 0.44302438977825553 2.5996708040480956e-06 0.08684119275263087\n",
      "0.035519779873116504\n",
      "0.4111114017891247 0.12790142098549517 0.17558768854416698 0.035519779873116504\n",
      "0.7659267213617071\n",
      "0.2999975145414036 0.48849752941605806 1.0139576062825018 0.7659267213617071\n",
      "0.061141445979702565\n",
      "0.28889108366947164 1.0026553191999485e-27 2.9057928655464113e-16 0.061141445979702565\n",
      "4.00485301941941e-05\n",
      "0.4111114017891247 1.5622772805493382e-06 0.33140769299757694 4.00485301941941e-05\n",
      "0.7659267213617071\n",
      "0.2999975145414036 0.9340601642250485 0.9797944189947458 0.7659267213617071\n",
      "0.061141445979702565\n",
      "0.28889108366947164 2.4758598794392295e-21 7.415626418921804e-17 0.061141445979702565\n",
      "4.00485301941941e-05\n",
      "0.4111114017891247 5.309009276996597e-05 0.3116104746042094 4.00485301941941e-05\n",
      "4.2417505189111456e-18\n",
      "0.2999975145414036 6.396414820875227e-29 0.6555399974711253 4.2417505189111456e-18\n",
      "6.225021017481768e-06\n",
      "0.28889108366947164 0.4486365035912502 1.1341724436162637e-18 6.225021017481768e-06\n",
      "0.07562668831669471\n",
      "0.4111114017891247 0.4268928076188208 0.24766042306660666 0.07562668831669471\n",
      "0.02723338129489682\n",
      "0.2999975145414036 5.796863564104329e-46 9.999890823687278e-29 0.02723338129489682\n",
      "0.2387449741447438\n",
      "0.28889108366947164 0.37865553698817606 0.6727177454739228 0.2387449741447438\n",
      "0.0020529697874618973\n",
      "0.4111114017891247 0.11407108777008122 0.00018988496685557583 0.0020529697874618973\n",
      "1.4573433328773732e-08\n",
      "0.2999975145414036 2.7825494142983183e-39 1.7960627422379358e-23 1.4573433328773732e-08\n",
      "0.01614748975079412\n",
      "0.28889108366947164 0.7856752010523145 0.3694113684444051 0.01614748975079412\n",
      "0.0867055599356147\n",
      "0.4111114017891247 0.2241131566311481 0.000990513784696991 0.0867055599356147\n",
      "4.2417505189111456e-18\n",
      "0.2999975145414036 1.0039162351715244e-27 0.0005220094379262455 4.2417505189111456e-18\n",
      "6.225021017481768e-06\n",
      "0.28889108366947164 0.35407655226440293 8.870800439371136e-08 6.225021017481768e-06\n",
      "0.07562668831669471\n",
      "0.4111114017891247 0.441392990408736 0.2616913066432361 0.07562668831669471\n",
      "3.838361668516924e-13\n",
      "0.2999975145414036 3.8455381887391735e-05 0.14731675433706765 3.838361668516924e-13\n",
      "0.0004894578671038641\n",
      "0.28889108366947164 3.6963080441199676e-10 1.1887098235814833e-21 0.0004894578671038641\n",
      "0.12501249090859223\n",
      "0.4111114017891247 0.017482158309102012 0.15134898168281985 0.12501249090859223\n",
      "8.60729777327495e-06\n",
      "0.2999975145414036 5.870111603151577e-19 1.0533205773107141e-35 8.60729777327495e-06\n",
      "0.08684119275263087\n",
      "0.28889108366947164 0.012929139765948927 0.6047677429719598 0.08684119275263087\n",
      "0.035519779873116504\n",
      "0.4111114017891247 0.3875773071595603 2.0396323039238475e-05 0.035519779873116504\n",
      "0.02723338129489682\n",
      "0.2999975145414036 3.6713109957934477e-51 3.1862050962365124e-22 0.02723338129489682\n",
      "0.2387449741447438\n",
      "0.28889108366947164 0.13739159904220694 0.2869555953825672 0.2387449741447438\n",
      "0.0020529697874618973\n",
      "0.4111114017891247 0.0606558160886162 0.0014601211616302057 0.0020529697874618973\n",
      "0.00016138555557784016\n",
      "0.2999975145414036 5.4881698010062834e-30 2.029041085262008e-24 0.00016138555557784016\n",
      "0.15537513538224323\n",
      "0.28889108366947164 0.5351895995069518 0.4338465924598278 0.15537513538224323\n",
      "0.017539906907088603\n",
      "0.4111114017891247 0.4109523131262593 0.0007370830600075182 0.017539906907088603\n",
      "0.0024207641687533543\n",
      "0.2999975145414036 4.250164322887045e-41 1.4645289152314657e-44 0.0024207641687533543\n",
      "0.22239614109233025\n",
      "0.28889108366947164 0.6920054565020427 0.1816627280843646 0.22239614109233025\n",
      "0.006929059479722311\n",
      "0.4111114017891247 0.18972988668685964 1.1490109757176531e-06 0.006929059479722311\n",
      "0.7659267213617071\n",
      "0.2999975145414036 0.5068310971564278 0.7516197096155862 0.7659267213617071\n",
      "0.061141445979702565\n",
      "0.28889108366947164 1.3018428096876998e-27 3.1032525118542394e-14 0.061141445979702565\n",
      "4.00485301941941e-05\n",
      "0.4111114017891247 1.6644932659140707e-06 0.38616972588787535 4.00485301941941e-05\n",
      "0.7659267213617071\n",
      "0.2999975145414036 1.0401781685905878 0.9799259215645637 0.7659267213617071\n",
      "0.061141445979702565\n",
      "0.28889108366947164 4.907439587997131e-24 7.438522405668832e-17 0.061141445979702565\n",
      "4.00485301941941e-05\n",
      "0.4111114017891247 1.210544955620487e-05 0.31165625847063305 4.00485301941941e-05\n",
      "1.4393742303319791e-11\n",
      "0.2999975145414036 3.5634289298439835e-48 0.16559055678045942 1.4393742303319791e-11\n",
      "0.0017514633310437345\n",
      "0.28889108366947164 0.2568491905832277 1.1886051241749115e-11 0.0017514633310437345\n",
      "0.12346402261459637\n",
      "0.4111114017891247 0.0880945165964876 0.4010989457582124 0.12346402261459637\n",
      "0.7659267213617071\n",
      "0.2999975145414036 0.6092533243633701 0.08499352678068882 0.7659267213617071\n",
      "0.061141445979702565\n",
      "0.28889108366947164 1.3932491228104668e-19 1.9007067310336066e-22 0.061141445979702565\n",
      "4.00485301941941e-05\n",
      "0.4111114017891247 0.0001366822790959957 0.12993782970439402 4.00485301941941e-05\n",
      "0.2042487426976899\n",
      "0.2999975145414036 0.4241214623047862 0.6019630287614712 0.2042487426976899\n",
      "0.17086376409055457\n",
      "0.28889108366947164 3.8637606178789344e-28 1.2046525529344055e-13 0.17086376409055457\n",
      "0.0004055081319059729\n",
      "0.4111114017891247 1.2392241751210824e-06 0.396216168495563 0.0004055081319059729\n",
      "9.305192863973612e-15\n",
      "0.2999975145414036 8.514088717206887e-46 0.5407647418697256 9.305192863973612e-15\n",
      "0.00012434745248503397\n",
      "0.28889108366947164 0.388847378262149 3.390457992867199e-19 0.00012434745248503397\n",
      "0.11507307261157225\n",
      "0.4111114017891247 0.11624240530417204 0.2293207608549785 0.11507307261157225\n",
      "0.02723338129489682\n",
      "0.2999975145414036 2.5233014616946268e-54 2.536933479009197e-22 0.02723338129489682\n",
      "0.2387449741447438\n",
      "0.28889108366947164 0.06303696110808017 0.2932731364507617 0.2387449741447438\n",
      "0.0020529697874618973\n",
      "0.4111114017891247 0.03973708011616017 0.0014160118389623497 0.0020529697874618973\n",
      "8.079588762603737e-20\n",
      "0.2999975145414036 4.421846422532411e-25 0.9954237642503742 8.079588762603737e-20\n",
      "1.2425877003568372e-06\n",
      "0.28889108366947164 0.17879285070859238 1.148012775713335e-15 1.2425877003568372e-06\n",
      "0.05469656252557572\n",
      "0.4111114017891247 0.457470556462436 0.3500162773006443 0.05469656252557572\n",
      "0.02723338129489682\n",
      "0.2999975145414036 4.676245649031602e-22 6.295842464458493e-24 0.02723338129489682\n",
      "0.2387449741447438\n",
      "0.28889108366947164 0.06002096481676482 0.40037034318149833 0.2387449741447438\n",
      "0.0020529697874618973\n",
      "0.4111114017891247 0.4426765007056255 0.0008594469250283007 0.0020529697874618973\n",
      "0.2042487426976899\n",
      "0.2999975145414036 0.8226765727684717 1.0107501921855904 0.2042487426976899\n",
      "0.17086376409055457\n",
      "0.28889108366947164 1.1507684096918564e-20 2.148341834240309e-16 0.17086376409055457\n",
      "0.0004055081319059729\n",
      "0.4111114017891247 7.62239329641316e-05 0.3271240627707253 0.0004055081319059729\n",
      "3.838361668516924e-13\n",
      "0.2999975145414036 1.8708528840328043e-25 1.3460470914755744e-05 3.838361668516924e-13\n",
      "0.0004894578671038641\n",
      "0.28889108366947164 0.19974534610746686 2.1806017575475986e-06 0.0004894578671038641\n",
      "0.12501249090859223\n",
      "0.4111114017891247 0.4567132704360297 0.18009532288260474 0.12501249090859223\n",
      "0.02723338129489682\n",
      "0.2999975145414036 1.0738943510617065 0.9176973366863508 0.02723338129489682\n",
      "0.2387449741447438\n",
      "0.28889108366947164 2.908782768975631e-23 2.4108203614755146e-17 0.2387449741447438\n",
      "0.0020529697874618973\n",
      "0.4111114017891247 1.8511873302046295e-05 0.29468602829172064 0.0020529697874618973\n",
      "0.7659267213617071\n",
      "0.2999975145414036 0.13169881578578843 0.4799996226379808 0.7659267213617071\n",
      "0.061141445979702565\n",
      "0.28889108366947164 1.4254095107236888e-16 1.7469874063644336e-19 0.061141445979702565\n",
      "4.00485301941941e-05\n",
      "0.4111114017891247 0.000677155142497526 0.21942320960337308 4.00485301941941e-05\n",
      "3.838361668516924e-13\n",
      "0.2999975145414036 3.3605744206883955e-52 0.16558655644825857 3.838361668516924e-13\n",
      "0.0004894578671038641\n",
      "0.28889108366947164 0.1077430005761724 1.804304696501808e-21 0.0004894578671038641\n",
      "0.12501249090859223\n",
      "0.4111114017891247 0.052952071261931154 0.1565163848144206 0.12501249090859223\n",
      "0.7659267213617071\n",
      "0.2999975145414036 0.005223220250603983 1.009254900040978 0.7659267213617071\n",
      "0.061141445979702565\n",
      "0.28889108366947164 3.2283332497485106e-13 6.683629934182434e-16 0.061141445979702565\n",
      "4.00485301941941e-05\n",
      "0.4111114017891247 0.003835582068909838 0.3428783013844906 4.00485301941941e-05\n",
      "0.7659267213617071\n",
      "0.2999975145414036 0.0690289180053136 0.835340291524566 0.7659267213617071\n",
      "0.061141445979702565\n",
      "0.28889108366947164 1.0069794625738839e-15 8.116567676998615e-18 0.061141445979702565\n",
      "4.00485301941941e-05\n",
      "0.4111114017891247 0.001056109519514238 0.27798458618059 4.00485301941941e-05\n",
      "1.4363827071622851e-21\n",
      "0.2999975145414036 6.317031640536261e-28 0.0019159434371507538 1.4363827071622851e-21\n",
      "2.3149949900986215e-07\n",
      "0.28889108366947164 0.36956375203953223 2.1305610626667205e-08 2.3149949900986215e-07\n",
      "0.03692170604659681\n",
      "0.4111114017891247 0.43923150044428677 0.29530315333066 0.03692170604659681\n",
      "0.7659267213617071\n",
      "0.2999975145414036 0.5368139415484806 0.8558285084353795 0.7659267213617071\n",
      "0.061141445979702565\n",
      "0.28889108366947164 1.980011159443893e-27 1.064339189215955e-14 0.061141445979702565\n",
      "4.00485301941941e-05\n",
      "0.4111114017891247 1.8427062851700378e-06 0.37605312723739526 4.00485301941941e-05\n",
      "3.838361668516924e-13\n",
      "0.2999975145414036 2.462609927020363e-16 0.9534826198303695 3.838361668516924e-13\n",
      "0.0004894578671038641\n",
      "0.28889108366947164 0.002336693028248442 4.332893168177868e-17 0.0004894578671038641\n",
      "0.12501249090859223\n",
      "0.4111114017891247 0.31402245644606547 0.3035707418113078 0.12501249090859223\n",
      "0.02723338129489682\n",
      "0.2999975145414036 1.713309720700576e-34 1.6434621963660606e-47 0.02723338129489682\n",
      "0.2387449741447438\n",
      "0.28889108366947164 0.8167770142050996 0.09903009776306033 0.2387449741447438\n",
      "0.0020529697874618973\n",
      "0.4111114017891247 0.32405586132082875 4.370385686252444e-07 0.0020529697874618973\n",
      "4.857849568328593e-10\n",
      "0.2999975145414036 8.884407441965352e-19 0.003588028049594498 4.857849568328593e-10\n",
      "0.005640651842676114\n",
      "0.28889108366947164 0.011649076478121667 9.909924438324934e-09 0.005640651842676114\n",
      "0.10974126099279935\n",
      "0.4111114017891247 0.3832173260849678 0.31202825599611367 0.10974126099279935\n",
      "1.4363827071622851e-21\n",
      "0.2999975145414036 7.322667809967144e-20 0.582739790709155 1.4363827071622851e-21\n",
      "2.3149949900986215e-07\n",
      "0.28889108366947164 0.02125590608052497 1.4271284531020095e-13 2.3149949900986215e-07\n",
      "0.03692170604659681\n",
      "0.4111114017891247 0.40765834344930374 0.3972302106313517 0.03692170604659681\n",
      "3.838361668516924e-13\n",
      "0.2999975145414036 9.038630115880452e-23 0.7452502366884155 3.838361668516924e-13\n",
      "0.0004894578671038641\n",
      "0.28889108366947164 0.08026796403399758 2.930923602030985e-18 0.0004894578671038641\n",
      "0.12501249090859223\n",
      "0.4111114017891247 0.44964925497027325 0.2622642010935916 0.12501249090859223\n",
      "0.0024207641687533543\n",
      "0.2999975145414036 1.8136945225252752e-24 9.985733223723316e-38 0.0024207641687533543\n",
      "0.22239614109233025\n",
      "0.28889108366947164 0.14745762420425979 0.5038568395616799 0.22239614109233025\n",
      "0.006929059479722311\n",
      "0.4111114017891247 0.45753167906180114 1.0613437447941499e-05 0.006929059479722311\n",
      "4.857849568328593e-10\n",
      "0.2999975145414036 5.039051722615534e-14 0.3884127070151036 4.857849568328593e-10\n",
      "0.005640651842676114\n",
      "0.28889108366947164 0.00034844610063444336 8.394717840136597e-13 0.005640651842676114\n",
      "0.10974126099279935\n",
      "0.4111114017891247 0.23741999958442342 0.40425568798617056 0.10974126099279935\n",
      "0.7659267213617071\n",
      "0.2999975145414036 0.014003186682555752 0.9783045949405068 0.7659267213617071\n",
      "0.061141445979702565\n",
      "0.28889108366947164 4.683977500732622e-14 7.163735844881526e-17 0.061141445979702565\n",
      "4.00485301941941e-05\n",
      "0.4111114017891247 0.00250137436565094 0.3110969542538644 4.00485301941941e-05\n",
      "0.2042487426976899\n",
      "0.2999975145414036 0.706990726559068 0.6341464821338885 0.2042487426976899\n",
      "0.17086376409055457\n",
      "0.28889108366947164 1.9394489883016087e-26 9.070336137101213e-19 0.17086376409055457\n",
      "0.0004055081319059729\n",
      "0.4111114017891247 3.201219161248824e-06 0.244241667963149 0.0004055081319059729\n",
      "0.7659267213617071\n",
      "0.2999975145414036 0.2371693398465755 0.7723338524196637 0.7659267213617071\n",
      "0.061141445979702565\n",
      "0.28889108366947164 1.3307668610917876e-29 3.940166252608393e-18 0.061141445979702565\n",
      "4.00485301941941e-05\n",
      "0.4111114017891247 5.452561941731532e-07 0.2668312163722978 4.00485301941941e-05\n",
      "4.2417505189111456e-18\n",
      "0.2999975145414036 6.707979222881308e-33 0.05627544200879589 4.2417505189111456e-18\n",
      "6.225021017481768e-06\n",
      "0.28889108366947164 0.7437893168061307 5.374103593542732e-23 6.225021017481768e-06\n",
      "0.07562668831669471\n",
      "0.4111114017891247 0.3571620777105863 0.11643495517357998 0.07562668831669471\n",
      "0.7659267213617071\n",
      "0.2999975145414036 0.4229126182416942 0.4857278542761477 0.7659267213617071\n",
      "0.061141445979702565\n",
      "0.28889108366947164 3.792723687649356e-28 3.381395374666918e-13 0.061141445979702565\n",
      "4.00485301941941e-05\n",
      "0.4111114017891247 1.2336461505487529e-06 0.4014909543746844 4.00485301941941e-05\n",
      "0.02723338129489682\n",
      "0.2999975145414036 1.9472162023080465e-36 1.729082544317156e-35 0.02723338129489682\n",
      "0.2387449741447438\n",
      "0.28889108366947164 0.8495215253104367 0.6144030424933118 0.2387449741447438\n",
      "0.0020529697874618973\n",
      "0.4111114017891247 0.2826797983050488 2.1861007522688723e-05 0.0020529697874618973\n",
      "0.2042487426976899\n",
      "0.2999975145414036 0.015057497908181701 0.001095290721562737 0.2042487426976899\n",
      "0.17086376409055457\n",
      "0.28889108366947164 1.7993316568648757e-34 4.03058048795615e-08 0.17086376409055457\n",
      "0.0004055081319059729\n",
      "0.4111114017891247 3.453474980151437e-08 0.28063066245548074 0.0004055081319059729\n",
      "0.2042487426976899\n",
      "0.2999975145414036 1.2529090201272636e-38 5.359428021531717e-35 0.2042487426976899\n",
      "0.17086376409055457\n",
      "0.28889108366947164 0.8107447542072659 0.6352516412989034 0.17086376409055457\n",
      "0.0004055081319059729\n",
      "0.4111114017891247 0.23714783944247494 2.560730243938317e-05 0.0004055081319059729\n",
      "3.838361668516924e-13\n",
      "0.2999975145414036 3.6975882630723825e-28 0.8244786012496116 3.838361668516924e-13\n",
      "0.0004894578671038641\n",
      "0.28889108366947164 0.38772281825345917 1.4986632147602986e-14 0.0004894578671038641\n",
      "0.12501249090859223\n",
      "0.4111114017891247 0.4365870294017295 0.37948031993998893 0.12501249090859223\n",
      "0.2042487426976899\n",
      "0.2999975145414036 0.6369796323496087 0.2867474709184005 0.2042487426976899\n",
      "0.17086376409055457\n",
      "0.28889108366947164 7.665613627483173e-27 2.4208086724590515e-12 0.17086376409055457\n",
      "0.0004055081319059729\n",
      "0.4111114017891247 2.5577200747488994e-06 0.4050751038902412 0.0004055081319059729\n",
      "0.0024207641687533543\n",
      "0.2999975145414036 3.7809332172221815e-26 4.6420217465470006e-42 0.0024207641687533543\n",
      "0.22239614109233025\n",
      "0.28889108366947164 0.24230006706671295 0.2820392746383552 0.22239614109233025\n",
      "0.006929059479722311\n",
      "0.4111114017891247 0.45391597780805737 2.5995308150991875e-06 0.006929059479722311\n",
      "4.2417505189111456e-18\n",
      "0.2999975145414036 1.980205663207497e-17 0.99932511538535 4.2417505189111456e-18\n",
      "6.225021017481768e-06\n",
      "0.28889108366947164 0.0050266560538550905 1.014641019240806e-15 6.225021017481768e-06\n",
      "0.07562668831669471\n",
      "0.4111114017891247 0.3471234156043744 0.3484104966112991 0.07562668831669471\n",
      "0.7659267213617071\n",
      "0.2999975145414036 0.8404599056019895 0.4074871349064413 0.7659267213617071\n",
      "0.061141445979702565\n",
      "0.28889108366947164 9.178472548217031e-21 7.562113331569663e-20 0.061141445979702565\n",
      "4.00485301941941e-05\n",
      "0.4111114017891247 7.227838902900308e-05 0.20715179406226691 4.00485301941941e-05\n",
      "4.857849568328593e-10\n",
      "0.2999975145414036 2.5263837615099387e-10 0.03455184145690281 4.857849568328593e-10\n",
      "0.005640651842676114\n",
      "0.28889108366947164 5.7590519633717526e-06 3.3777235861346484e-10 0.005640651842676114\n",
      "0.10974126099279935\n",
      "0.4111114017891247 0.11800505437413847 0.3710517108771181 0.10974126099279935\n",
      "9.305192863973612e-15\n",
      "0.2999975145414036 4.895394859954563e-29 6.071849250750153e-07 9.305192863973612e-15\n",
      "0.00012434745248503397\n",
      "0.28889108366947164 0.45804884709630883 1.7719773575301134e-05 0.00012434745248503397\n",
      "0.11507307261157225\n",
      "0.4111114017891247 0.42528424243350466 0.12789889116617084 0.11507307261157225\n",
      "0.7659267213617071\n",
      "0.2999975145414036 1.0677656846635823 0.56618634095098 0.7659267213617071\n",
      "0.061141445979702565\n",
      "0.28889108366947164 1.561644289131621e-23 4.444431090540383e-19 0.061141445979702565\n",
      "4.00485301941941e-05\n",
      "0.4111114017891247 1.5960677888040765e-05 0.2334003971487067 4.00485301941941e-05\n",
      "0.02723338129489682\n",
      "0.2999975145414036 9.82786000745468e-59 4.0838646164987874e-43 0.02723338129489682\n",
      "0.2387449741447438\n",
      "0.28889108366947164 0.017751350795298236 0.23630855897188877 0.2387449741447438\n",
      "0.0020529697874618973\n",
      "0.4111114017891247 0.02110572412863285 1.8424459911032645e-06 0.0020529697874618973\n",
      "9.305192863973612e-15\n",
      "0.2999975145414036 2.4122546659910996e-29 0.9315826863184196 9.305192863973612e-15\n",
      "0.00012434745248503397\n",
      "0.28889108366947164 0.48302619823489784 4.043645664187061e-15 0.00012434745248503397\n",
      "0.11507307261157225\n",
      "0.4111114017891247 0.4208712932524436 0.3654765471069797 0.11507307261157225\n",
      "0.00016138555557784016\n",
      "0.2999975145414036 3.7612414258873733e-32 5.682399507025342e-26 0.00016138555557784016\n",
      "0.15537513538224323\n",
      "0.28889108366947164 0.6974131178053502 0.5355852334527219 0.15537513538224323\n",
      "0.017539906907088603\n",
      "0.4111114017891247 0.3720639450564536 0.0004530282665008159 0.017539906907088603\n",
      "4.2417505189111456e-18\n",
      "0.2999975145414036 5.808666273483745e-21 0.0006806117664710822 4.2417505189111456e-18\n",
      "6.225021017481768e-06\n",
      "0.28889108366947164 0.03680383432923348 6.733999850884976e-08 6.225021017481768e-06\n",
      "0.07562668831669471\n",
      "0.4111114017891247 0.42774268144913813 0.26839601430482984 0.07562668831669471\n",
      "8.60729777327495e-06\n",
      "0.2999975145414036 5.543379106813911e-14 0.008776091643497597 8.60729777327495e-06\n",
      "0.08684119275263087\n",
      "0.28889108366947164 0.00033542360420998505 3.8043871264117234e-25 0.08684119275263087\n",
      "0.035519779873116504\n",
      "0.4111114017891247 0.2360093183055332 0.07323960361095659 0.035519779873116504\n",
      "1.4573433328773732e-08\n",
      "0.2999975145414036 1.2555450134265686e-29 0.061090191320009354 1.4573433328773732e-08\n",
      "0.01614748975079412\n",
      "0.28889108366947164 0.5060863318850966 1.15143508003216e-10 0.01614748975079412\n",
      "0.0867055599356147\n",
      "0.4111114017891247 0.41660693299681995 0.38395620767183347 0.0867055599356147\n",
      "0.7659267213617071\n",
      "0.2999975145414036 0.030639504979528633 0.6776702783847013 0.7659267213617071\n",
      "0.061141445979702565\n",
      "0.28889108366947164 2.154158034935657e-33 6.144706229939017e-14 0.061141445979702565\n",
      "4.00485301941941e-05\n",
      "0.4111114017891247 6.383031672492475e-08 0.39164578105521075 4.00485301941941e-05\n"
     ]
    },
    {
     "data": {
      "text/plain": [
       "array([2., 2., 1., 2., 1., 0., 2., 0., 1., 2., 1., 0., 2., 2., 1., 1., 0.,\n",
       "       0., 1., 1., 0., 1., 2., 2., 0., 2., 2., 2., 0., 2., 1., 1., 0., 2.,\n",
       "       2., 2., 1., 2., 1., 1., 2., 0., 0., 2., 1., 1., 2., 2., 1., 1., 1.,\n",
       "       1., 0., 0., 2., 0., 0., 2., 1., 2., 1., 0., 2., 0., 0., 2., 0., 0.,\n",
       "       2., 0., 2., 1., 2., 2., 2., 1., 2., 0., 0., 0., 2., 0., 1., 0., 1.,\n",
       "       2., 0., 1., 2., 0., 2., 2., 0., 1., 2., 1., 2., 2., 2., 0.])"
      ]
     },
     "execution_count": 94,
     "metadata": {},
     "output_type": "execute_result"
    }
   ],
   "source": [
    "res = np.zeros(len(X_1))-1\n",
    "proba = np.zeros(len(X_1))-1\n",
    "for i in range(len(X_1)):\n",
    "    temp = proba_point(X_1[i],X_2[i],S[i],mu_1,mu_2,tau_1,tau_2,lambd,pi)\n",
    "    proba[i] = np.sum(temp)\n",
    "    res[i] = np.argmax(temp)\n",
    "res"
   ]
  },
  {
   "cell_type": "code",
   "execution_count": 93,
   "metadata": {},
   "outputs": [
    {
     "data": {
      "application/vnd.plotly.v1+json": {
       "config": {
        "plotlyServerURL": "https://plot.ly"
       },
       "data": [
        {
         "marker": {
          "color": [
           2,
           2,
           1,
           2,
           1,
           0,
           2,
           0,
           1,
           2,
           1,
           0,
           2,
           2,
           1,
           1,
           0,
           0,
           1,
           1,
           0,
           1,
           2,
           2,
           0,
           2,
           2,
           2,
           0,
           2,
           1,
           1,
           0,
           2,
           2,
           2,
           1,
           2,
           1,
           1,
           2,
           0,
           0,
           2,
           1,
           1,
           2,
           2,
           1,
           1,
           1,
           1,
           0,
           0,
           2,
           0,
           0,
           2,
           1,
           2,
           1,
           0,
           2,
           0,
           0,
           2,
           0,
           0,
           2,
           0,
           2,
           1,
           2,
           2,
           2,
           1,
           2,
           0,
           0,
           0,
           2,
           0,
           1,
           0,
           1,
           2,
           0,
           1,
           2,
           0,
           2,
           2,
           0,
           1,
           2,
           1,
           2,
           2,
           2,
           0
          ],
          "coloraxis": "coloraxis"
         },
         "mode": "markers",
         "type": "scatter3d",
         "x": [
          1.2705897595111002,
          1.232786152819342,
          0.013367752176035346,
          -0.861651950829968,
          0.9176152732624041,
          4.334040123799776,
          1.7287667688631254,
          4.4064745954300735,
          -0.10255171997999371,
          1.1954814623291405,
          0.8129426658363049,
          4.976311517117257,
          0.027803941306761448,
          0.8670000825741092,
          0.39261700688898254,
          0.7763947595665742,
          4.456590029482638,
          4.893372500723433,
          -0.6768313946854596,
          0.47982607116646914,
          5.671607851827795,
          -0.033124956181898715,
          1.8063714471281238,
          0.8449160542008298,
          3.8084999097465193,
          -0.16124239758617565,
          1.5102783384586205,
          2.5183153990522316,
          5.130322698524594,
          -0.20277764603771908,
          -1.0607936202802326,
          0.23216214197156781,
          5.398165434822647,
          1.5570005041677097,
          0.05850959538665468,
          1.70894742527448,
          0.018761595194748078,
          2.1980680167050224,
          -0.797375619137129,
          0.327160420673596,
          -0.4128404119602973,
          5.352532953916012,
          4.689811551697283,
          0.6536884833028046,
          -0.47396541479752596,
          -0.06260789550961447,
          0.7443170133351996,
          3.2064206509305504,
          1.4816787554005313,
          -0.7733805717503915,
          0.5744629748437424,
          -0.1777273555629793,
          5.341509349740916,
          4.981063657848886,
          -0.6033292478280006,
          4.490856847296555,
          5.3925932944452155,
          -0.4640720482522591,
          -0.9480403837139417,
          0.9521069061691001,
          1.2041418509721922,
          4.615004191374177,
          0.922086982152557,
          4.8995966711740415,
          4.125665272989014,
          -0.8313121022755774,
          3.674615601986635,
          4.016457120320092,
          0.7289307028651402,
          5.323758729958422,
          1.735628225525482,
          0.25469716266834413,
          1.4984972637942335,
          1.3984325645712934,
          1.1431262299405665,
          1.0018675521175766,
          1.9777049646052878,
          3.792524539447746,
          5.226080355708728,
          5.531727267565511,
          0.3651514204374857,
          5.393369830370042,
          0.12332651683283659,
          5.9710111997328,
          -0.020522968843756723,
          0.7112128637639432,
          5.266038602123919,
          0.8668768900689378,
          1.6272277777248347,
          4.626093450718383,
          2.41418096313428,
          0.6449885678857703,
          4.928228070318161,
          -1.1831611174495442,
          0.6220516323664389,
          0.418018265918203,
          1.2996874937678906,
          1.982228486967167,
          0.600997688053845,
          5.876630059595215
         ],
         "y": [
          1.7257652035050006,
          1.0579021347823874,
          4.728935172043818,
          1.7952503883899071,
          4.474080432997857,
          -0.9928781241940524,
          2.7432591570166602,
          -0.46877028181596525,
          5.136636555002442,
          -0.2936935089641015,
          4.889990949767856,
          0.0621296419764642,
          0.5991240439494587,
          -0.027066068590247294,
          2.908779609946954,
          5.349988430824459,
          -1.0445811779551797,
          0.6592932460020668,
          5.103550498408602,
          6.084755087665347,
          -0.428125887472737,
          4.3236819240106685,
          -0.01688878735418431,
          1.2245245400531257,
          1.2800142905290082,
          -0.6554216562966568,
          1.4553568584711702,
          -0.4695711489917187,
          1.0226740099991802,
          2.0881574998374743,
          5.016202553199254,
          3.9998347040697455,
          1.1792292166101543,
          1.2902080980320154,
          1.0663304305569037,
          0.4751861491064475,
          6.121634020079515,
          2.4066402032170453,
          3.5700933834666357,
          4.489860398333061,
          2.036739243944523,
          0.1392501907268009,
          0.0499389346100807,
          -0.21359283205699198,
          4.619098319281601,
          4.178499489340195,
          1.6840166095132678,
          -0.6184970803117267,
          5.144419298279857,
          4.066477431061233,
          4.261405269605056,
          5.740539919827522,
          0.45851351629645787,
          0.0501386519138093,
          0.9025657715053128,
          -0.7216817718704832,
          0.5556969079961105,
          -0.28718610864477223,
          4.075470586961785,
          0.230852123898037,
          4.218565993317015,
          0.11935382456681165,
          2.0172876624756837,
          -0.022306104493922424,
          -0.3271498711329238,
          -0.5947338526584758,
          0.19456871762132616,
          -0.09128851713450525,
          1.5464646073551185,
          0.3833413371571423,
          0.015253374421231758,
          5.925435917240464,
          1.4749823885312434,
          0.567996132517522,
          -0.15496563142108766,
          5.286696468069845,
          0.6987895870927692,
          0.04770068060087872,
          -0.22729383650830404,
          -0.13655143924996152,
          -0.7916788812743145,
          0.6311593995025745,
          5.129042327041527,
          1.6072157871886406,
          5.093766317747933,
          0.4072422647168763,
          0.7789857945344631,
          5.578847907835627,
          0.22254357879333875,
          -0.3771769834199702,
          1.1761560343454354,
          2.2587183751565743,
          -0.27078145557772954,
          5.647675959042558,
          0.3164364470914761,
          4.393831681877205,
          1.6569733241355027,
          -1.0579701271833146,
          1.085998435691255,
          0.5071880676931332
         ],
         "z": [
          9,
          8,
          2,
          21,
          3,
          0,
          5,
          0,
          0,
          5,
          4,
          0,
          11,
          9,
          2,
          3,
          0,
          0,
          4,
          1,
          0,
          2,
          5,
          10,
          0,
          12,
          16,
          4,
          1,
          12,
          3,
          2,
          0,
          9,
          10,
          9,
          3,
          9,
          4,
          4,
          5,
          0,
          0,
          13,
          2,
          7,
          13,
          10,
          5,
          2,
          4,
          3,
          0,
          0,
          9,
          0,
          1,
          11,
          2,
          14,
          2,
          1,
          10,
          2,
          0,
          10,
          0,
          0,
          15,
          0,
          10,
          2,
          8,
          15,
          10,
          3,
          8,
          0,
          1,
          0,
          13,
          0,
          2,
          1,
          1,
          10,
          1,
          3,
          13,
          0,
          8,
          11,
          0,
          2,
          11,
          4,
          13,
          5,
          7,
          0
         ]
        }
       ],
       "layout": {
        "template": {
         "data": {
          "bar": [
           {
            "error_x": {
             "color": "#2a3f5f"
            },
            "error_y": {
             "color": "#2a3f5f"
            },
            "marker": {
             "line": {
              "color": "#E5ECF6",
              "width": 0.5
             },
             "pattern": {
              "fillmode": "overlay",
              "size": 10,
              "solidity": 0.2
             }
            },
            "type": "bar"
           }
          ],
          "barpolar": [
           {
            "marker": {
             "line": {
              "color": "#E5ECF6",
              "width": 0.5
             },
             "pattern": {
              "fillmode": "overlay",
              "size": 10,
              "solidity": 0.2
             }
            },
            "type": "barpolar"
           }
          ],
          "carpet": [
           {
            "aaxis": {
             "endlinecolor": "#2a3f5f",
             "gridcolor": "white",
             "linecolor": "white",
             "minorgridcolor": "white",
             "startlinecolor": "#2a3f5f"
            },
            "baxis": {
             "endlinecolor": "#2a3f5f",
             "gridcolor": "white",
             "linecolor": "white",
             "minorgridcolor": "white",
             "startlinecolor": "#2a3f5f"
            },
            "type": "carpet"
           }
          ],
          "choropleth": [
           {
            "colorbar": {
             "outlinewidth": 0,
             "ticks": ""
            },
            "type": "choropleth"
           }
          ],
          "contour": [
           {
            "colorbar": {
             "outlinewidth": 0,
             "ticks": ""
            },
            "colorscale": [
             [
              0,
              "#0d0887"
             ],
             [
              0.1111111111111111,
              "#46039f"
             ],
             [
              0.2222222222222222,
              "#7201a8"
             ],
             [
              0.3333333333333333,
              "#9c179e"
             ],
             [
              0.4444444444444444,
              "#bd3786"
             ],
             [
              0.5555555555555556,
              "#d8576b"
             ],
             [
              0.6666666666666666,
              "#ed7953"
             ],
             [
              0.7777777777777778,
              "#fb9f3a"
             ],
             [
              0.8888888888888888,
              "#fdca26"
             ],
             [
              1,
              "#f0f921"
             ]
            ],
            "type": "contour"
           }
          ],
          "contourcarpet": [
           {
            "colorbar": {
             "outlinewidth": 0,
             "ticks": ""
            },
            "type": "contourcarpet"
           }
          ],
          "heatmap": [
           {
            "colorbar": {
             "outlinewidth": 0,
             "ticks": ""
            },
            "colorscale": [
             [
              0,
              "#0d0887"
             ],
             [
              0.1111111111111111,
              "#46039f"
             ],
             [
              0.2222222222222222,
              "#7201a8"
             ],
             [
              0.3333333333333333,
              "#9c179e"
             ],
             [
              0.4444444444444444,
              "#bd3786"
             ],
             [
              0.5555555555555556,
              "#d8576b"
             ],
             [
              0.6666666666666666,
              "#ed7953"
             ],
             [
              0.7777777777777778,
              "#fb9f3a"
             ],
             [
              0.8888888888888888,
              "#fdca26"
             ],
             [
              1,
              "#f0f921"
             ]
            ],
            "type": "heatmap"
           }
          ],
          "heatmapgl": [
           {
            "colorbar": {
             "outlinewidth": 0,
             "ticks": ""
            },
            "colorscale": [
             [
              0,
              "#0d0887"
             ],
             [
              0.1111111111111111,
              "#46039f"
             ],
             [
              0.2222222222222222,
              "#7201a8"
             ],
             [
              0.3333333333333333,
              "#9c179e"
             ],
             [
              0.4444444444444444,
              "#bd3786"
             ],
             [
              0.5555555555555556,
              "#d8576b"
             ],
             [
              0.6666666666666666,
              "#ed7953"
             ],
             [
              0.7777777777777778,
              "#fb9f3a"
             ],
             [
              0.8888888888888888,
              "#fdca26"
             ],
             [
              1,
              "#f0f921"
             ]
            ],
            "type": "heatmapgl"
           }
          ],
          "histogram": [
           {
            "marker": {
             "pattern": {
              "fillmode": "overlay",
              "size": 10,
              "solidity": 0.2
             }
            },
            "type": "histogram"
           }
          ],
          "histogram2d": [
           {
            "colorbar": {
             "outlinewidth": 0,
             "ticks": ""
            },
            "colorscale": [
             [
              0,
              "#0d0887"
             ],
             [
              0.1111111111111111,
              "#46039f"
             ],
             [
              0.2222222222222222,
              "#7201a8"
             ],
             [
              0.3333333333333333,
              "#9c179e"
             ],
             [
              0.4444444444444444,
              "#bd3786"
             ],
             [
              0.5555555555555556,
              "#d8576b"
             ],
             [
              0.6666666666666666,
              "#ed7953"
             ],
             [
              0.7777777777777778,
              "#fb9f3a"
             ],
             [
              0.8888888888888888,
              "#fdca26"
             ],
             [
              1,
              "#f0f921"
             ]
            ],
            "type": "histogram2d"
           }
          ],
          "histogram2dcontour": [
           {
            "colorbar": {
             "outlinewidth": 0,
             "ticks": ""
            },
            "colorscale": [
             [
              0,
              "#0d0887"
             ],
             [
              0.1111111111111111,
              "#46039f"
             ],
             [
              0.2222222222222222,
              "#7201a8"
             ],
             [
              0.3333333333333333,
              "#9c179e"
             ],
             [
              0.4444444444444444,
              "#bd3786"
             ],
             [
              0.5555555555555556,
              "#d8576b"
             ],
             [
              0.6666666666666666,
              "#ed7953"
             ],
             [
              0.7777777777777778,
              "#fb9f3a"
             ],
             [
              0.8888888888888888,
              "#fdca26"
             ],
             [
              1,
              "#f0f921"
             ]
            ],
            "type": "histogram2dcontour"
           }
          ],
          "mesh3d": [
           {
            "colorbar": {
             "outlinewidth": 0,
             "ticks": ""
            },
            "type": "mesh3d"
           }
          ],
          "parcoords": [
           {
            "line": {
             "colorbar": {
              "outlinewidth": 0,
              "ticks": ""
             }
            },
            "type": "parcoords"
           }
          ],
          "pie": [
           {
            "automargin": true,
            "type": "pie"
           }
          ],
          "scatter": [
           {
            "fillpattern": {
             "fillmode": "overlay",
             "size": 10,
             "solidity": 0.2
            },
            "type": "scatter"
           }
          ],
          "scatter3d": [
           {
            "line": {
             "colorbar": {
              "outlinewidth": 0,
              "ticks": ""
             }
            },
            "marker": {
             "colorbar": {
              "outlinewidth": 0,
              "ticks": ""
             }
            },
            "type": "scatter3d"
           }
          ],
          "scattercarpet": [
           {
            "marker": {
             "colorbar": {
              "outlinewidth": 0,
              "ticks": ""
             }
            },
            "type": "scattercarpet"
           }
          ],
          "scattergeo": [
           {
            "marker": {
             "colorbar": {
              "outlinewidth": 0,
              "ticks": ""
             }
            },
            "type": "scattergeo"
           }
          ],
          "scattergl": [
           {
            "marker": {
             "colorbar": {
              "outlinewidth": 0,
              "ticks": ""
             }
            },
            "type": "scattergl"
           }
          ],
          "scattermapbox": [
           {
            "marker": {
             "colorbar": {
              "outlinewidth": 0,
              "ticks": ""
             }
            },
            "type": "scattermapbox"
           }
          ],
          "scatterpolar": [
           {
            "marker": {
             "colorbar": {
              "outlinewidth": 0,
              "ticks": ""
             }
            },
            "type": "scatterpolar"
           }
          ],
          "scatterpolargl": [
           {
            "marker": {
             "colorbar": {
              "outlinewidth": 0,
              "ticks": ""
             }
            },
            "type": "scatterpolargl"
           }
          ],
          "scatterternary": [
           {
            "marker": {
             "colorbar": {
              "outlinewidth": 0,
              "ticks": ""
             }
            },
            "type": "scatterternary"
           }
          ],
          "surface": [
           {
            "colorbar": {
             "outlinewidth": 0,
             "ticks": ""
            },
            "colorscale": [
             [
              0,
              "#0d0887"
             ],
             [
              0.1111111111111111,
              "#46039f"
             ],
             [
              0.2222222222222222,
              "#7201a8"
             ],
             [
              0.3333333333333333,
              "#9c179e"
             ],
             [
              0.4444444444444444,
              "#bd3786"
             ],
             [
              0.5555555555555556,
              "#d8576b"
             ],
             [
              0.6666666666666666,
              "#ed7953"
             ],
             [
              0.7777777777777778,
              "#fb9f3a"
             ],
             [
              0.8888888888888888,
              "#fdca26"
             ],
             [
              1,
              "#f0f921"
             ]
            ],
            "type": "surface"
           }
          ],
          "table": [
           {
            "cells": {
             "fill": {
              "color": "#EBF0F8"
             },
             "line": {
              "color": "white"
             }
            },
            "header": {
             "fill": {
              "color": "#C8D4E3"
             },
             "line": {
              "color": "white"
             }
            },
            "type": "table"
           }
          ]
         },
         "layout": {
          "annotationdefaults": {
           "arrowcolor": "#2a3f5f",
           "arrowhead": 0,
           "arrowwidth": 1
          },
          "autotypenumbers": "strict",
          "coloraxis": {
           "colorbar": {
            "outlinewidth": 0,
            "ticks": ""
           }
          },
          "colorscale": {
           "diverging": [
            [
             0,
             "#8e0152"
            ],
            [
             0.1,
             "#c51b7d"
            ],
            [
             0.2,
             "#de77ae"
            ],
            [
             0.3,
             "#f1b6da"
            ],
            [
             0.4,
             "#fde0ef"
            ],
            [
             0.5,
             "#f7f7f7"
            ],
            [
             0.6,
             "#e6f5d0"
            ],
            [
             0.7,
             "#b8e186"
            ],
            [
             0.8,
             "#7fbc41"
            ],
            [
             0.9,
             "#4d9221"
            ],
            [
             1,
             "#276419"
            ]
           ],
           "sequential": [
            [
             0,
             "#0d0887"
            ],
            [
             0.1111111111111111,
             "#46039f"
            ],
            [
             0.2222222222222222,
             "#7201a8"
            ],
            [
             0.3333333333333333,
             "#9c179e"
            ],
            [
             0.4444444444444444,
             "#bd3786"
            ],
            [
             0.5555555555555556,
             "#d8576b"
            ],
            [
             0.6666666666666666,
             "#ed7953"
            ],
            [
             0.7777777777777778,
             "#fb9f3a"
            ],
            [
             0.8888888888888888,
             "#fdca26"
            ],
            [
             1,
             "#f0f921"
            ]
           ],
           "sequentialminus": [
            [
             0,
             "#0d0887"
            ],
            [
             0.1111111111111111,
             "#46039f"
            ],
            [
             0.2222222222222222,
             "#7201a8"
            ],
            [
             0.3333333333333333,
             "#9c179e"
            ],
            [
             0.4444444444444444,
             "#bd3786"
            ],
            [
             0.5555555555555556,
             "#d8576b"
            ],
            [
             0.6666666666666666,
             "#ed7953"
            ],
            [
             0.7777777777777778,
             "#fb9f3a"
            ],
            [
             0.8888888888888888,
             "#fdca26"
            ],
            [
             1,
             "#f0f921"
            ]
           ]
          },
          "colorway": [
           "#636efa",
           "#EF553B",
           "#00cc96",
           "#ab63fa",
           "#FFA15A",
           "#19d3f3",
           "#FF6692",
           "#B6E880",
           "#FF97FF",
           "#FECB52"
          ],
          "font": {
           "color": "#2a3f5f"
          },
          "geo": {
           "bgcolor": "white",
           "lakecolor": "white",
           "landcolor": "#E5ECF6",
           "showlakes": true,
           "showland": true,
           "subunitcolor": "white"
          },
          "hoverlabel": {
           "align": "left"
          },
          "hovermode": "closest",
          "mapbox": {
           "style": "light"
          },
          "paper_bgcolor": "white",
          "plot_bgcolor": "#E5ECF6",
          "polar": {
           "angularaxis": {
            "gridcolor": "white",
            "linecolor": "white",
            "ticks": ""
           },
           "bgcolor": "#E5ECF6",
           "radialaxis": {
            "gridcolor": "white",
            "linecolor": "white",
            "ticks": ""
           }
          },
          "scene": {
           "xaxis": {
            "backgroundcolor": "#E5ECF6",
            "gridcolor": "white",
            "gridwidth": 2,
            "linecolor": "white",
            "showbackground": true,
            "ticks": "",
            "zerolinecolor": "white"
           },
           "yaxis": {
            "backgroundcolor": "#E5ECF6",
            "gridcolor": "white",
            "gridwidth": 2,
            "linecolor": "white",
            "showbackground": true,
            "ticks": "",
            "zerolinecolor": "white"
           },
           "zaxis": {
            "backgroundcolor": "#E5ECF6",
            "gridcolor": "white",
            "gridwidth": 2,
            "linecolor": "white",
            "showbackground": true,
            "ticks": "",
            "zerolinecolor": "white"
           }
          },
          "shapedefaults": {
           "line": {
            "color": "#2a3f5f"
           }
          },
          "ternary": {
           "aaxis": {
            "gridcolor": "white",
            "linecolor": "white",
            "ticks": ""
           },
           "baxis": {
            "gridcolor": "white",
            "linecolor": "white",
            "ticks": ""
           },
           "bgcolor": "#E5ECF6",
           "caxis": {
            "gridcolor": "white",
            "linecolor": "white",
            "ticks": ""
           }
          },
          "title": {
           "x": 0.05
          },
          "xaxis": {
           "automargin": true,
           "gridcolor": "white",
           "linecolor": "white",
           "ticks": "",
           "title": {
            "standoff": 15
           },
           "zerolinecolor": "white",
           "zerolinewidth": 2
          },
          "yaxis": {
           "automargin": true,
           "gridcolor": "white",
           "linecolor": "white",
           "ticks": "",
           "title": {
            "standoff": 15
           },
           "zerolinecolor": "white",
           "zerolinewidth": 2
          }
         }
        }
       }
      }
     },
     "metadata": {},
     "output_type": "display_data"
    }
   ],
   "source": [
    "go.Figure(data=go.Scatter3d(x=X_1,y=X_2,z=S,mode=\"markers\",marker={\"color\":res, 'coloraxis':'coloraxis'}),)"
   ]
  },
  {
   "cell_type": "code",
   "execution_count": 98,
   "metadata": {},
   "outputs": [
    {
     "data": {
      "text/plain": [
       "[<matplotlib.lines.Line2D at 0x244e8fadbb0>]"
      ]
     },
     "execution_count": 98,
     "metadata": {},
     "output_type": "execute_result"
    },
    {
     "data": {
      "image/png": "[encoded data removed]",
      "text/plain": [
       "<Figure size 432x288 with 1 Axes>"
      ]
     },
     "metadata": {
      "needs_background": "light"
     },
     "output_type": "display_data"
    }
   ],
   "source": [
    "plt.plot(val,BIC)"
   ]
  },
  {
   "cell_type": "code",
   "execution_count": 146,
   "metadata": {},
   "outputs": [],
   "source": [
    "k=3\n",
    "mu_1,mu_2,tau_1,tau_2,lambd,pi = EM(0.1,k,X_1,X_2,S)\n",
    "res = np.zeros(len(X_1))-1\n",
    "proba_2 = np.zeros(len(X_1))-1\n",
    "for i in range(len(X_1)):\n",
    "    temp = proba_point(X_1[i],X_2[i],S[i],mu_1,mu_2,tau_1,tau_2,lambd,pi)\n",
    "    proba_2[i] = np.sum(temp)\n"
   ]
  },
  {
   "cell_type": "code",
   "execution_count": 153,
   "metadata": {},
   "outputs": [
    {
     "data": {
      "text/plain": [
       "17497.45506776536"
      ]
     },
     "execution_count": 153,
     "metadata": {},
     "output_type": "execute_result"
    }
   ],
   "source": [
    "np.max(np.abs(proba_2-proba))"
   ]
  },
  {
   "cell_type": "code",
   "execution_count": 150,
   "metadata": {},
   "outputs": [
    {
     "data": {
      "text/plain": [
       "array([-2.75865260e-04, -3.28885572e-04,  4.57334032e-04, -2.07117719e-07,\n",
       "        2.30691431e-05, -2.86902183e-08,  4.27920980e-06, -2.55850809e-07,\n",
       "        1.13429356e-04,  3.15423245e-05,  1.62384652e-04,  1.49731404e-06,\n",
       "       -1.25070463e-04, -1.56131297e-04, -2.63758448e-05,  8.97597263e-05,\n",
       "       -2.69496302e-08, -6.46976035e-07,  1.30483669e-04, -1.01548661e-04,\n",
       "       -1.84132890e-08, -3.00047775e-04,  2.38975900e-05, -4.86215297e-04,\n",
       "       -1.44064591e-09,  3.17276391e-05, -1.25956675e-04,  1.13893946e-05,\n",
       "       -8.04680095e-08, -2.24427683e-05,  4.85375671e-05, -6.29617018e-04,\n",
       "       -9.12720777e-08, -3.23465792e-04, -1.35580183e-04, -2.26899243e-04,\n",
       "       -1.57869960e-04, -9.28600377e-06, -3.17003381e-05,  1.12380316e-05,\n",
       "        1.96138001e-05,  5.68229661e-07,  4.59602290e-07, -1.49048599e-04,\n",
       "        2.07331943e-04, -2.91194784e-05, -2.83689795e-04,  1.45706560e-05,\n",
       "        5.48465941e-06, -7.28760896e-05, -1.64662899e-04, -1.41326849e-04,\n",
       "       -1.60002062e-08,  1.50811781e-06,  6.80604594e-05, -1.24883746e-07,\n",
       "       -2.79280400e-08,  5.46242957e-05, -2.79619794e-05, -2.77134247e-04,\n",
       "       -2.19259474e-05,  6.88749667e-08, -2.19228851e-04,  7.41695203e-08,\n",
       "       -2.69809299e-07,  4.65067792e-05, -5.19724658e-08, -3.08242007e-07,\n",
       "       -1.90238202e-04,  1.71309444e-07, -1.43490442e-04, -2.20207254e-04,\n",
       "       -2.23237528e-04, -2.33514861e-04, -1.79065491e-04,  6.97524169e-05,\n",
       "       -9.85295017e-05, -1.14783601e-07,  2.29937311e-07,  1.42393361e-07,\n",
       "       -4.98457294e-06, -2.55502153e-07,  4.94197656e-04, -6.83639124e-11,\n",
       "        3.67528857e-04, -3.64737506e-04, -8.50290859e-08, -1.23646450e-05,\n",
       "       -2.45889424e-04, -2.76376134e-08, -1.04603656e-05, -1.25495831e-04,\n",
       "        8.19902655e-07,  2.43198230e-06, -3.38564119e-04, -9.56037999e-05,\n",
       "        1.74974551e+04,  2.13226320e-05, -1.41425006e-04, -6.77690429e-08])"
      ]
     },
     "execution_count": 150,
     "metadata": {},
     "output_type": "execute_result"
    }
   ],
   "source": [
    "proba-proba_2"
   ]
  },
  {
   "cell_type": "code",
   "execution_count": 145,
   "metadata": {},
   "outputs": [
    {
     "data": {
      "text/plain": [
       "1119.1735150256384"
      ]
     },
     "execution_count": 145,
     "metadata": {},
     "output_type": "execute_result"
    }
   ],
   "source": [
    "k=4\n",
    "mu_1,mu_2,tau_1,tau_2,lambd,pi = EM(0.1,k,X_1,X_2,S)\n",
    "res = np.zeros(len(X_1))-1\n",
    "proba = np.zeros(len(X_1))-1\n",
    "for i in range(len(X_1)):\n",
    "    temp = proba_point(X_1[i],X_2[i],S[i],mu_1,mu_2,tau_1,tau_2,lambd,pi)\n",
    "    proba[i] = np.sum(temp)\n",
    "3*k*np.log(len(X_1))- 2*np.sum(np.log(proba))"
   ]
  },
  {
   "cell_type": "code",
   "execution_count": 111,
   "metadata": {},
   "outputs": [
    {
     "data": {
      "text/plain": [
       "1809.8858684857094"
      ]
     },
     "execution_count": 111,
     "metadata": {},
     "output_type": "execute_result"
    }
   ],
   "source": [
    "- 2*np.sum(np.log(proba))"
   ]
  },
  {
   "cell_type": "code",
   "execution_count": 108,
   "metadata": {},
   "outputs": [
    {
     "data": {
      "text/plain": [
       "1134.320139036359"
      ]
     },
     "execution_count": 108,
     "metadata": {},
     "output_type": "execute_result"
    }
   ],
   "source": [
    "3*k*np.log(len(X_1))- 2*np.sum(np.log(proba))"
   ]
  },
  {
   "cell_type": "code",
   "execution_count": 132,
   "metadata": {},
   "outputs": [
    {
     "name": "stdout",
     "output_type": "stream",
     "text": [
      "2.3152485092825376e-43\n",
      "3.3530430755447704e-117\n",
      "0.0\n"
     ]
    },
    {
     "name": "stderr",
     "output_type": "stream",
     "text": [
      "C:\\Users\\VIANEY~1\\AppData\\Local\\Temp/ipykernel_8748/4248319998.py:51: RuntimeWarning:\n",
      "\n",
      "invalid value encountered in double_scalars\n",
      "\n",
      "C:\\Users\\VIANEY~1\\AppData\\Local\\Temp/ipykernel_8748/4248319998.py:52: RuntimeWarning:\n",
      "\n",
      "invalid value encountered in double_scalars\n",
      "\n",
      "C:\\Users\\VIANEY~1\\AppData\\Local\\Temp/ipykernel_8748/4248319998.py:55: RuntimeWarning:\n",
      "\n",
      "invalid value encountered in double_scalars\n",
      "\n"
     ]
    },
    {
     "data": {
      "text/plain": [
       "(array([       nan, 0.75424192, 3.62068384]),\n",
       " array([       nan, 2.03662764, 1.32750716]),\n",
       " array([0.        , 1.18279267, 0.19454261]),\n",
       " array([0.        , 0.22933293, 0.21837568]),\n",
       " array([       nan, 8.00937866, 0.63093231]),\n",
       " array([0.        , 0.59891574, 0.40108426]))"
      ]
     },
     "execution_count": 132,
     "metadata": {},
     "output_type": "execute_result"
    }
   ],
   "source": [
    "EM(0.1,3,X_1,X_2,S)"
   ]
  },
  {
   "cell_type": "code",
   "execution_count": 179,
   "metadata": {},
   "outputs": [
    {
     "data": {
      "text/plain": [
       "(array([100.,  41.,  29.,   1.,   1.]), array([4., 2., 2., 2., 3.]))"
      ]
     },
     "execution_count": 179,
     "metadata": {},
     "output_type": "execute_result"
    }
   ],
   "source": [
    "min_size, zeros_size"
   ]
  },
  {
   "cell_type": "code",
   "execution_count": 177,
   "metadata": {},
   "outputs": [
    {
     "name": "stdout",
     "output_type": "stream",
     "text": [
      "1\n",
      "2\n",
      "3\n",
      "4\n",
      "5\n"
     ]
    },
    {
     "data": {
      "text/plain": [
       "[<matplotlib.lines.Line2D at 0x244e956ec10>]"
      ]
     },
     "execution_count": 177,
     "metadata": {},
     "output_type": "execute_result"
    },
    {
     "data": {
      "image/png": "[encoded data removed]",
      "text/plain": [
       "<Figure size 432x288 with 1 Axes>"
      ]
     },
     "metadata": {
      "needs_background": "light"
     },
     "output_type": "display_data"
    }
   ],
   "source": [
    "X_1,X_2,S = read_files(\"X.txt\",\"S.txt\")\n",
    "val = np.arange(1,6)\n",
    "BIC= np.zeros(len(val))\n",
    "min_size= np.zeros(len(val))\n",
    "max_size= np.zeros(len(val))\n",
    "zeros_size= np.zeros(len(val))\n",
    "ind_val= np.zeros(len(val))\n",
    "for k in val:\n",
    "    print(k)\n",
    "    mu_1,mu_2,tau_1,tau_2,lambd,pi = EM(0.1,k,X_1,X_2,S)\n",
    "    res = np.zeros(len(X_1))-1\n",
    "    proba = np.zeros(len(X_1))-1\n",
    "    for i in range(len(X_1)):\n",
    "        temp = proba_point(X_1[i],X_2[i],S[i],mu_1,mu_2,tau_1,tau_2,lambd,pi)\n",
    "        proba[i] = np.sum(temp)\n",
    "        res[i] = np.argmax(temp)\n",
    "    min_val=len(X_1)\n",
    "    max_val=1\n",
    "    for j in range(k):\n",
    "        count = np.count_nonzero(res==j)\n",
    "        if(count>max_val):\n",
    "            max_val = count\n",
    "        if(count<min_val):\n",
    "            min_val = count\n",
    "            zeros=1\n",
    "        if(count==min_val):\n",
    "            zeros+=1\n",
    "    min_size[k-val[0]]=min_val\n",
    "    max_size[k-val[0]]=max_val\n",
    "    zeros_size[k-val[0]]=zeros\n",
    "    BIC[k-val[0]] = 3*k*np.log(len(X_1))- 2*np.sum(np.log(proba))\n",
    "plt.plot(val,min_size)\n",
    "plt.plot(val,max_size)"
   ]
  },
  {
   "cell_type": "code",
   "execution_count": 109,
   "metadata": {},
   "outputs": [
    {
     "data": {
      "text/plain": [
       "-1092.8736073624661"
      ]
     },
     "execution_count": 109,
     "metadata": {},
     "output_type": "execute_result"
    }
   ],
   "source": [
    "2*np.sum(np.log(proba))"
   ]
  },
  {
   "cell_type": "code",
   "execution_count": 96,
   "metadata": {},
   "outputs": [
    {
     "data": {
      "text/plain": [
       "1189.727443682254"
      ]
     },
     "execution_count": 96,
     "metadata": {},
     "output_type": "execute_result"
    }
   ],
   "source": [
    "3*7*np.log(len(X_1))- 2*np.sum(np.log(proba))"
   ]
  },
  {
   "cell_type": "code",
   "execution_count": 181,
   "metadata": {},
   "outputs": [
    {
     "data": {
      "application/vnd.plotly.v1+json": {
       "config": {
        "plotlyServerURL": "https://plot.ly"
       },
       "data": [
        {
         "marker": {
          "color": [
           1,
           1,
           0,
           3,
           0,
           4,
           1,
           4,
           0,
           1,
           0,
           4,
           1,
           1,
           0,
           0,
           4,
           4,
           0,
           0,
           4,
           0,
           1,
           1,
           4,
           1,
           1,
           1,
           4,
           1,
           0,
           0,
           4,
           1,
           1,
           1,
           0,
           1,
           0,
           0,
           1,
           4,
           4,
           1,
           0,
           0,
           1,
           1,
           0,
           0,
           0,
           0,
           4,
           4,
           1,
           4,
           4,
           1,
           0,
           1,
           0,
           4,
           1,
           4,
           4,
           1,
           4,
           4,
           1,
           2,
           1,
           0,
           1,
           1,
           1,
           0,
           1,
           4,
           4,
           4,
           1,
           4,
           0,
           4,
           0,
           1,
           4,
           0,
           1,
           4,
           1,
           1,
           4,
           0,
           1,
           0,
           1,
           1,
           1,
           4
          ],
          "coloraxis": "coloraxis",
          "symbol": [
           1,
           1,
           0,
           3,
           0,
           4,
           1,
           4,
           0,
           1,
           0,
           4,
           1,
           1,
           0,
           0,
           4,
           4,
           0,
           0,
           4,
           0,
           1,
           1,
           4,
           1,
           1,
           1,
           4,
           1,
           0,
           0,
           4,
           1,
           1,
           1,
           0,
           1,
           0,
           0,
           1,
           4,
           4,
           1,
           0,
           0,
           1,
           1,
           0,
           0,
           0,
           0,
           4,
           4,
           1,
           4,
           4,
           1,
           0,
           1,
           0,
           4,
           1,
           4,
           4,
           1,
           4,
           4,
           1,
           2,
           1,
           0,
           1,
           1,
           1,
           0,
           1,
           4,
           4,
           4,
           1,
           4,
           0,
           4,
           0,
           1,
           4,
           0,
           1,
           4,
           1,
           1,
           4,
           0,
           1,
           0,
           1,
           1,
           1,
           4
          ]
         },
         "mode": "markers",
         "type": "scatter",
         "x": [
          1.2705897595111002,
          1.232786152819342,
          0.013367752176035346,
          -0.861651950829968,
          0.9176152732624041,
          4.334040123799776,
          1.7287667688631254,
          4.4064745954300735,
          -0.10255171997999371,
          1.1954814623291405,
          0.8129426658363049,
          4.976311517117257,
          0.027803941306761448,
          0.8670000825741092,
          0.39261700688898254,
          0.7763947595665742,
          4.456590029482638,
          4.893372500723433,
          -0.6768313946854596,
          0.47982607116646914,
          5.671607851827795,
          -0.033124956181898715,
          1.8063714471281238,
          0.8449160542008298,
          3.8084999097465193,
          -0.16124239758617565,
          1.5102783384586205,
          2.5183153990522316,
          5.130322698524594,
          -0.20277764603771908,
          -1.0607936202802326,
          0.23216214197156781,
          5.398165434822647,
          1.5570005041677097,
          0.05850959538665468,
          1.70894742527448,
          0.018761595194748078,
          2.1980680167050224,
          -0.797375619137129,
          0.327160420673596,
          -0.4128404119602973,
          5.352532953916012,
          4.689811551697283,
          0.6536884833028046,
          -0.47396541479752596,
          -0.06260789550961447,
          0.7443170133351996,
          3.2064206509305504,
          1.4816787554005313,
          -0.7733805717503915,
          0.5744629748437424,
          -0.1777273555629793,
          5.341509349740916,
          4.981063657848886,
          -0.6033292478280006,
          4.490856847296555,
          5.3925932944452155,
          -0.4640720482522591,
          -0.9480403837139417,
          0.9521069061691001,
          1.2041418509721922,
          4.615004191374177,
          0.922086982152557,
          4.8995966711740415,
          4.125665272989014,
          -0.8313121022755774,
          3.674615601986635,
          4.016457120320092,
          0.7289307028651402,
          5.323758729958422,
          1.735628225525482,
          0.25469716266834413,
          1.4984972637942335,
          1.3984325645712934,
          1.1431262299405665,
          1.0018675521175766,
          1.9777049646052878,
          3.792524539447746,
          5.226080355708728,
          5.531727267565511,
          0.3651514204374857,
          5.393369830370042,
          0.12332651683283659,
          5.9710111997328,
          -0.020522968843756723,
          0.7112128637639432,
          5.266038602123919,
          0.8668768900689378,
          1.6272277777248347,
          4.626093450718383,
          2.41418096313428,
          0.6449885678857703,
          4.928228070318161,
          -1.1831611174495442,
          0.6220516323664389,
          0.418018265918203,
          1.2996874937678906,
          1.982228486967167,
          0.600997688053845,
          5.876630059595215
         ],
         "y": [
          1.7257652035050006,
          1.0579021347823874,
          4.728935172043818,
          1.7952503883899071,
          4.474080432997857,
          -0.9928781241940524,
          2.7432591570166602,
          -0.46877028181596525,
          5.136636555002442,
          -0.2936935089641015,
          4.889990949767856,
          0.0621296419764642,
          0.5991240439494587,
          -0.027066068590247294,
          2.908779609946954,
          5.349988430824459,
          -1.0445811779551797,
          0.6592932460020668,
          5.103550498408602,
          6.084755087665347,
          -0.428125887472737,
          4.3236819240106685,
          -0.01688878735418431,
          1.2245245400531257,
          1.2800142905290082,
          -0.6554216562966568,
          1.4553568584711702,
          -0.4695711489917187,
          1.0226740099991802,
          2.0881574998374743,
          5.016202553199254,
          3.9998347040697455,
          1.1792292166101543,
          1.2902080980320154,
          1.0663304305569037,
          0.4751861491064475,
          6.121634020079515,
          2.4066402032170453,
          3.5700933834666357,
          4.489860398333061,
          2.036739243944523,
          0.1392501907268009,
          0.0499389346100807,
          -0.21359283205699198,
          4.619098319281601,
          4.178499489340195,
          1.6840166095132678,
          -0.6184970803117267,
          5.144419298279857,
          4.066477431061233,
          4.261405269605056,
          5.740539919827522,
          0.45851351629645787,
          0.0501386519138093,
          0.9025657715053128,
          -0.7216817718704832,
          0.5556969079961105,
          -0.28718610864477223,
          4.075470586961785,
          0.230852123898037,
          4.218565993317015,
          0.11935382456681165,
          2.0172876624756837,
          -0.022306104493922424,
          -0.3271498711329238,
          -0.5947338526584758,
          0.19456871762132616,
          -0.09128851713450525,
          1.5464646073551185,
          0.3833413371571423,
          0.015253374421231758,
          5.925435917240464,
          1.4749823885312434,
          0.567996132517522,
          -0.15496563142108766,
          5.286696468069845,
          0.6987895870927692,
          0.04770068060087872,
          -0.22729383650830404,
          -0.13655143924996152,
          -0.7916788812743145,
          0.6311593995025745,
          5.129042327041527,
          1.6072157871886406,
          5.093766317747933,
          0.4072422647168763,
          0.7789857945344631,
          5.578847907835627,
          0.22254357879333875,
          -0.3771769834199702,
          1.1761560343454354,
          2.2587183751565743,
          -0.27078145557772954,
          5.647675959042558,
          0.3164364470914761,
          4.393831681877205,
          1.6569733241355027,
          -1.0579701271833146,
          1.085998435691255,
          0.5071880676931332
         ]
        }
       ],
       "layout": {
        "template": {
         "data": {
          "bar": [
           {
            "error_x": {
             "color": "#2a3f5f"
            },
            "error_y": {
             "color": "#2a3f5f"
            },
            "marker": {
             "line": {
              "color": "#E5ECF6",
              "width": 0.5
             },
             "pattern": {
              "fillmode": "overlay",
              "size": 10,
              "solidity": 0.2
             }
            },
            "type": "bar"
           }
          ],
          "barpolar": [
           {
            "marker": {
             "line": {
              "color": "#E5ECF6",
              "width": 0.5
             },
             "pattern": {
              "fillmode": "overlay",
              "size": 10,
              "solidity": 0.2
             }
            },
            "type": "barpolar"
           }
          ],
          "carpet": [
           {
            "aaxis": {
             "endlinecolor": "#2a3f5f",
             "gridcolor": "white",
             "linecolor": "white",
             "minorgridcolor": "white",
             "startlinecolor": "#2a3f5f"
            },
            "baxis": {
             "endlinecolor": "#2a3f5f",
             "gridcolor": "white",
             "linecolor": "white",
             "minorgridcolor": "white",
             "startlinecolor": "#2a3f5f"
            },
            "type": "carpet"
           }
          ],
          "choropleth": [
           {
            "colorbar": {
             "outlinewidth": 0,
             "ticks": ""
            },
            "type": "choropleth"
           }
          ],
          "contour": [
           {
            "colorbar": {
             "outlinewidth": 0,
             "ticks": ""
            },
            "colorscale": [
             [
              0,
              "#0d0887"
             ],
             [
              0.1111111111111111,
              "#46039f"
             ],
             [
              0.2222222222222222,
              "#7201a8"
             ],
             [
              0.3333333333333333,
              "#9c179e"
             ],
             [
              0.4444444444444444,
              "#bd3786"
             ],
             [
              0.5555555555555556,
              "#d8576b"
             ],
             [
              0.6666666666666666,
              "#ed7953"
             ],
             [
              0.7777777777777778,
              "#fb9f3a"
             ],
             [
              0.8888888888888888,
              "#fdca26"
             ],
             [
              1,
              "#f0f921"
             ]
            ],
            "type": "contour"
           }
          ],
          "contourcarpet": [
           {
            "colorbar": {
             "outlinewidth": 0,
             "ticks": ""
            },
            "type": "contourcarpet"
           }
          ],
          "heatmap": [
           {
            "colorbar": {
             "outlinewidth": 0,
             "ticks": ""
            },
            "colorscale": [
             [
              0,
              "#0d0887"
             ],
             [
              0.1111111111111111,
              "#46039f"
             ],
             [
              0.2222222222222222,
              "#7201a8"
             ],
             [
              0.3333333333333333,
              "#9c179e"
             ],
             [
              0.4444444444444444,
              "#bd3786"
             ],
             [
              0.5555555555555556,
              "#d8576b"
             ],
             [
              0.6666666666666666,
              "#ed7953"
             ],
             [
              0.7777777777777778,
              "#fb9f3a"
             ],
             [
              0.8888888888888888,
              "#fdca26"
             ],
             [
              1,
              "#f0f921"
             ]
            ],
            "type": "heatmap"
           }
          ],
          "heatmapgl": [
           {
            "colorbar": {
             "outlinewidth": 0,
             "ticks": ""
            },
            "colorscale": [
             [
              0,
              "#0d0887"
             ],
             [
              0.1111111111111111,
              "#46039f"
             ],
             [
              0.2222222222222222,
              "#7201a8"
             ],
             [
              0.3333333333333333,
              "#9c179e"
             ],
             [
              0.4444444444444444,
              "#bd3786"
             ],
             [
              0.5555555555555556,
              "#d8576b"
             ],
             [
              0.6666666666666666,
              "#ed7953"
             ],
             [
              0.7777777777777778,
              "#fb9f3a"
             ],
             [
              0.8888888888888888,
              "#fdca26"
             ],
             [
              1,
              "#f0f921"
             ]
            ],
            "type": "heatmapgl"
           }
          ],
          "histogram": [
           {
            "marker": {
             "pattern": {
              "fillmode": "overlay",
              "size": 10,
              "solidity": 0.2
             }
            },
            "type": "histogram"
           }
          ],
          "histogram2d": [
           {
            "colorbar": {
             "outlinewidth": 0,
             "ticks": ""
            },
            "colorscale": [
             [
              0,
              "#0d0887"
             ],
             [
              0.1111111111111111,
              "#46039f"
             ],
             [
              0.2222222222222222,
              "#7201a8"
             ],
             [
              0.3333333333333333,
              "#9c179e"
             ],
             [
              0.4444444444444444,
              "#bd3786"
             ],
             [
              0.5555555555555556,
              "#d8576b"
             ],
             [
              0.6666666666666666,
              "#ed7953"
             ],
             [
              0.7777777777777778,
              "#fb9f3a"
             ],
             [
              0.8888888888888888,
              "#fdca26"
             ],
             [
              1,
              "#f0f921"
             ]
            ],
            "type": "histogram2d"
           }
          ],
          "histogram2dcontour": [
           {
            "colorbar": {
             "outlinewidth": 0,
             "ticks": ""
            },
            "colorscale": [
             [
              0,
              "#0d0887"
             ],
             [
              0.1111111111111111,
              "#46039f"
             ],
             [
              0.2222222222222222,
              "#7201a8"
             ],
             [
              0.3333333333333333,
              "#9c179e"
             ],
             [
              0.4444444444444444,
              "#bd3786"
             ],
             [
              0.5555555555555556,
              "#d8576b"
             ],
             [
              0.6666666666666666,
              "#ed7953"
             ],
             [
              0.7777777777777778,
              "#fb9f3a"
             ],
             [
              0.8888888888888888,
              "#fdca26"
             ],
             [
              1,
              "#f0f921"
             ]
            ],
            "type": "histogram2dcontour"
           }
          ],
          "mesh3d": [
           {
            "colorbar": {
             "outlinewidth": 0,
             "ticks": ""
            },
            "type": "mesh3d"
           }
          ],
          "parcoords": [
           {
            "line": {
             "colorbar": {
              "outlinewidth": 0,
              "ticks": ""
             }
            },
            "type": "parcoords"
           }
          ],
          "pie": [
           {
            "automargin": true,
            "type": "pie"
           }
          ],
          "scatter": [
           {
            "fillpattern": {
             "fillmode": "overlay",
             "size": 10,
             "solidity": 0.2
            },
            "type": "scatter"
           }
          ],
          "scatter3d": [
           {
            "line": {
             "colorbar": {
              "outlinewidth": 0,
              "ticks": ""
             }
            },
            "marker": {
             "colorbar": {
              "outlinewidth": 0,
              "ticks": ""
             }
            },
            "type": "scatter3d"
           }
          ],
          "scattercarpet": [
           {
            "marker": {
             "colorbar": {
              "outlinewidth": 0,
              "ticks": ""
             }
            },
            "type": "scattercarpet"
           }
          ],
          "scattergeo": [
           {
            "marker": {
             "colorbar": {
              "outlinewidth": 0,
              "ticks": ""
             }
            },
            "type": "scattergeo"
           }
          ],
          "scattergl": [
           {
            "marker": {
             "colorbar": {
              "outlinewidth": 0,
              "ticks": ""
             }
            },
            "type": "scattergl"
           }
          ],
          "scattermapbox": [
           {
            "marker": {
             "colorbar": {
              "outlinewidth": 0,
              "ticks": ""
             }
            },
            "type": "scattermapbox"
           }
          ],
          "scatterpolar": [
           {
            "marker": {
             "colorbar": {
              "outlinewidth": 0,
              "ticks": ""
             }
            },
            "type": "scatterpolar"
           }
          ],
          "scatterpolargl": [
           {
            "marker": {
             "colorbar": {
              "outlinewidth": 0,
              "ticks": ""
             }
            },
            "type": "scatterpolargl"
           }
          ],
          "scatterternary": [
           {
            "marker": {
             "colorbar": {
              "outlinewidth": 0,
              "ticks": ""
             }
            },
            "type": "scatterternary"
           }
          ],
          "surface": [
           {
            "colorbar": {
             "outlinewidth": 0,
             "ticks": ""
            },
            "colorscale": [
             [
              0,
              "#0d0887"
             ],
             [
              0.1111111111111111,
              "#46039f"
             ],
             [
              0.2222222222222222,
              "#7201a8"
             ],
             [
              0.3333333333333333,
              "#9c179e"
             ],
             [
              0.4444444444444444,
              "#bd3786"
             ],
             [
              0.5555555555555556,
              "#d8576b"
             ],
             [
              0.6666666666666666,
              "#ed7953"
             ],
             [
              0.7777777777777778,
              "#fb9f3a"
             ],
             [
              0.8888888888888888,
              "#fdca26"
             ],
             [
              1,
              "#f0f921"
             ]
            ],
            "type": "surface"
           }
          ],
          "table": [
           {
            "cells": {
             "fill": {
              "color": "#EBF0F8"
             },
             "line": {
              "color": "white"
             }
            },
            "header": {
             "fill": {
              "color": "#C8D4E3"
             },
             "line": {
              "color": "white"
             }
            },
            "type": "table"
           }
          ]
         },
         "layout": {
          "annotationdefaults": {
           "arrowcolor": "#2a3f5f",
           "arrowhead": 0,
           "arrowwidth": 1
          },
          "autotypenumbers": "strict",
          "coloraxis": {
           "colorbar": {
            "outlinewidth": 0,
            "ticks": ""
           }
          },
          "colorscale": {
           "diverging": [
            [
             0,
             "#8e0152"
            ],
            [
             0.1,
             "#c51b7d"
            ],
            [
             0.2,
             "#de77ae"
            ],
            [
             0.3,
             "#f1b6da"
            ],
            [
             0.4,
             "#fde0ef"
            ],
            [
             0.5,
             "#f7f7f7"
            ],
            [
             0.6,
             "#e6f5d0"
            ],
            [
             0.7,
             "#b8e186"
            ],
            [
             0.8,
             "#7fbc41"
            ],
            [
             0.9,
             "#4d9221"
            ],
            [
             1,
             "#276419"
            ]
           ],
           "sequential": [
            [
             0,
             "#0d0887"
            ],
            [
             0.1111111111111111,
             "#46039f"
            ],
            [
             0.2222222222222222,
             "#7201a8"
            ],
            [
             0.3333333333333333,
             "#9c179e"
            ],
            [
             0.4444444444444444,
             "#bd3786"
            ],
            [
             0.5555555555555556,
             "#d8576b"
            ],
            [
             0.6666666666666666,
             "#ed7953"
            ],
            [
             0.7777777777777778,
             "#fb9f3a"
            ],
            [
             0.8888888888888888,
             "#fdca26"
            ],
            [
             1,
             "#f0f921"
            ]
           ],
           "sequentialminus": [
            [
             0,
             "#0d0887"
            ],
            [
             0.1111111111111111,
             "#46039f"
            ],
            [
             0.2222222222222222,
             "#7201a8"
            ],
            [
             0.3333333333333333,
             "#9c179e"
            ],
            [
             0.4444444444444444,
             "#bd3786"
            ],
            [
             0.5555555555555556,
             "#d8576b"
            ],
            [
             0.6666666666666666,
             "#ed7953"
            ],
            [
             0.7777777777777778,
             "#fb9f3a"
            ],
            [
             0.8888888888888888,
             "#fdca26"
            ],
            [
             1,
             "#f0f921"
            ]
           ]
          },
          "colorway": [
           "#636efa",
           "#EF553B",
           "#00cc96",
           "#ab63fa",
           "#FFA15A",
           "#19d3f3",
           "#FF6692",
           "#B6E880",
           "#FF97FF",
           "#FECB52"
          ],
          "font": {
           "color": "#2a3f5f"
          },
          "geo": {
           "bgcolor": "white",
           "lakecolor": "white",
           "landcolor": "#E5ECF6",
           "showlakes": true,
           "showland": true,
           "subunitcolor": "white"
          },
          "hoverlabel": {
           "align": "left"
          },
          "hovermode": "closest",
          "mapbox": {
           "style": "light"
          },
          "paper_bgcolor": "white",
          "plot_bgcolor": "#E5ECF6",
          "polar": {
           "angularaxis": {
            "gridcolor": "white",
            "linecolor": "white",
            "ticks": ""
           },
           "bgcolor": "#E5ECF6",
           "radialaxis": {
            "gridcolor": "white",
            "linecolor": "white",
            "ticks": ""
           }
          },
          "scene": {
           "xaxis": {
            "backgroundcolor": "#E5ECF6",
            "gridcolor": "white",
            "gridwidth": 2,
            "linecolor": "white",
            "showbackground": true,
            "ticks": "",
            "zerolinecolor": "white"
           },
           "yaxis": {
            "backgroundcolor": "#E5ECF6",
            "gridcolor": "white",
            "gridwidth": 2,
            "linecolor": "white",
            "showbackground": true,
            "ticks": "",
            "zerolinecolor": "white"
           },
           "zaxis": {
            "backgroundcolor": "#E5ECF6",
            "gridcolor": "white",
            "gridwidth": 2,
            "linecolor": "white",
            "showbackground": true,
            "ticks": "",
            "zerolinecolor": "white"
           }
          },
          "shapedefaults": {
           "line": {
            "color": "#2a3f5f"
           }
          },
          "ternary": {
           "aaxis": {
            "gridcolor": "white",
            "linecolor": "white",
            "ticks": ""
           },
           "baxis": {
            "gridcolor": "white",
            "linecolor": "white",
            "ticks": ""
           },
           "bgcolor": "#E5ECF6",
           "caxis": {
            "gridcolor": "white",
            "linecolor": "white",
            "ticks": ""
           }
          },
          "title": {
           "x": 0.05
          },
          "xaxis": {
           "automargin": true,
           "gridcolor": "white",
           "linecolor": "white",
           "ticks": "",
           "title": {
            "standoff": 15
           },
           "zerolinecolor": "white",
           "zerolinewidth": 2
          },
          "yaxis": {
           "automargin": true,
           "gridcolor": "white",
           "linecolor": "white",
           "ticks": "",
           "title": {
            "standoff": 15
           },
           "zerolinecolor": "white",
           "zerolinewidth": 2
          }
         }
        }
       }
      }
     },
     "metadata": {},
     "output_type": "display_data"
    }
   ],
   "source": [
    "go.Figure(data=go.Scatter(x=X_1,y=X_2,mode=\"markers\", marker={\"color\":res,'coloraxis':'coloraxis','symbol':res}))"
   ]
  },
  {
   "cell_type": "code",
   "execution_count": 46,
   "metadata": {},
   "outputs": [
    {
     "data": {
      "text/plain": [
       "[<matplotlib.lines.Line2D at 0x244e6b0d7f0>]"
      ]
     },
     "execution_count": 46,
     "metadata": {},
     "output_type": "execute_result"
    },
    {
     "data": {
      "image/png": "[encoded data removed]",
      "text/plain": [
       "<Figure size 432x288 with 1 Axes>"
      ]
     },
     "metadata": {
      "needs_background": "light"
     },
     "output_type": "display_data"
    }
   ],
   "source": [
    "X=np.arange(15)\n",
    "plt.plot(X,scs.poisson(mu=lambd[2]).pmf(X))"
   ]
  },
  {
   "cell_type": "code",
   "execution_count": 33,
   "metadata": {},
   "outputs": [
    {
     "data": {
      "application/vnd.plotly.v1+json": {
       "config": {
        "plotlyServerURL": "https://plot.ly"
       },
       "data": [
        {
         "marker": {
          "color": [
           9,
           8,
           2,
           21,
           3,
           0,
           5,
           0,
           0,
           5,
           4,
           0,
           11,
           9,
           2,
           3,
           0,
           0,
           4,
           1,
           0,
           2,
           5,
           10,
           0,
           12,
           16,
           4,
           1,
           12,
           3,
           2,
           0,
           9,
           10,
           9,
           3,
           9,
           4,
           4,
           5,
           0,
           0,
           13,
           2,
           7,
           13,
           10,
           5,
           2,
           4,
           3,
           0,
           0,
           9,
           0,
           1,
           11,
           2,
           14,
           2,
           1,
           10,
           2,
           0,
           10,
           0,
           0,
           15,
           0,
           10,
           2,
           8,
           15,
           10,
           3,
           8,
           0,
           1,
           0,
           13,
           0,
           2,
           1,
           1,
           10,
           1,
           3,
           13,
           0,
           8,
           11,
           0,
           2,
           11,
           4,
           13,
           5,
           7,
           0
          ],
          "coloraxis": "coloraxis"
         },
         "mode": "markers",
         "type": "scatter",
         "x": [
          1.2705897595111002,
          1.232786152819342,
          0.013367752176035346,
          -0.861651950829968,
          0.9176152732624041,
          4.334040123799776,
          1.7287667688631254,
          4.4064745954300735,
          -0.10255171997999371,
          1.1954814623291405,
          0.8129426658363049,
          4.976311517117257,
          0.027803941306761448,
          0.8670000825741092,
          0.39261700688898254,
          0.7763947595665742,
          4.456590029482638,
          4.893372500723433,
          -0.6768313946854596,
          0.47982607116646914,
          5.671607851827795,
          -0.033124956181898715,
          1.8063714471281238,
          0.8449160542008298,
          3.8084999097465193,
          -0.16124239758617565,
          1.5102783384586205,
          2.5183153990522316,
          5.130322698524594,
          -0.20277764603771908,
          -1.0607936202802326,
          0.23216214197156781,
          5.398165434822647,
          1.5570005041677097,
          0.05850959538665468,
          1.70894742527448,
          0.018761595194748078,
          2.1980680167050224,
          -0.797375619137129,
          0.327160420673596,
          -0.4128404119602973,
          5.352532953916012,
          4.689811551697283,
          0.6536884833028046,
          -0.47396541479752596,
          -0.06260789550961447,
          0.7443170133351996,
          3.2064206509305504,
          1.4816787554005313,
          -0.7733805717503915,
          0.5744629748437424,
          -0.1777273555629793,
          5.341509349740916,
          4.981063657848886,
          -0.6033292478280006,
          4.490856847296555,
          5.3925932944452155,
          -0.4640720482522591,
          -0.9480403837139417,
          0.9521069061691001,
          1.2041418509721922,
          4.615004191374177,
          0.922086982152557,
          4.8995966711740415,
          4.125665272989014,
          -0.8313121022755774,
          3.674615601986635,
          4.016457120320092,
          0.7289307028651402,
          5.323758729958422,
          1.735628225525482,
          0.25469716266834413,
          1.4984972637942335,
          1.3984325645712934,
          1.1431262299405665,
          1.0018675521175766,
          1.9777049646052878,
          3.792524539447746,
          5.226080355708728,
          5.531727267565511,
          0.3651514204374857,
          5.393369830370042,
          0.12332651683283659,
          5.9710111997328,
          -0.020522968843756723,
          0.7112128637639432,
          5.266038602123919,
          0.8668768900689378,
          1.6272277777248347,
          4.626093450718383,
          2.41418096313428,
          0.6449885678857703,
          4.928228070318161,
          -1.1831611174495442,
          0.6220516323664389,
          0.418018265918203,
          1.2996874937678906,
          1.982228486967167,
          0.600997688053845,
          5.876630059595215
         ],
         "y": [
          1.7257652035050006,
          1.0579021347823874,
          4.728935172043818,
          1.7952503883899071,
          4.474080432997857,
          -0.9928781241940524,
          2.7432591570166602,
          -0.46877028181596525,
          5.136636555002442,
          -0.2936935089641015,
          4.889990949767856,
          0.0621296419764642,
          0.5991240439494587,
          -0.027066068590247294,
          2.908779609946954,
          5.349988430824459,
          -1.0445811779551797,
          0.6592932460020668,
          5.103550498408602,
          6.084755087665347,
          -0.428125887472737,
          4.3236819240106685,
          -0.01688878735418431,
          1.2245245400531257,
          1.2800142905290082,
          -0.6554216562966568,
          1.4553568584711702,
          -0.4695711489917187,
          1.0226740099991802,
          2.0881574998374743,
          5.016202553199254,
          3.9998347040697455,
          1.1792292166101543,
          1.2902080980320154,
          1.0663304305569037,
          0.4751861491064475,
          6.121634020079515,
          2.4066402032170453,
          3.5700933834666357,
          4.489860398333061,
          2.036739243944523,
          0.1392501907268009,
          0.0499389346100807,
          -0.21359283205699198,
          4.619098319281601,
          4.178499489340195,
          1.6840166095132678,
          -0.6184970803117267,
          5.144419298279857,
          4.066477431061233,
          4.261405269605056,
          5.740539919827522,
          0.45851351629645787,
          0.0501386519138093,
          0.9025657715053128,
          -0.7216817718704832,
          0.5556969079961105,
          -0.28718610864477223,
          4.075470586961785,
          0.230852123898037,
          4.218565993317015,
          0.11935382456681165,
          2.0172876624756837,
          -0.022306104493922424,
          -0.3271498711329238,
          -0.5947338526584758,
          0.19456871762132616,
          -0.09128851713450525,
          1.5464646073551185,
          0.3833413371571423,
          0.015253374421231758,
          5.925435917240464,
          1.4749823885312434,
          0.567996132517522,
          -0.15496563142108766,
          5.286696468069845,
          0.6987895870927692,
          0.04770068060087872,
          -0.22729383650830404,
          -0.13655143924996152,
          -0.7916788812743145,
          0.6311593995025745,
          5.129042327041527,
          1.6072157871886406,
          5.093766317747933,
          0.4072422647168763,
          0.7789857945344631,
          5.578847907835627,
          0.22254357879333875,
          -0.3771769834199702,
          1.1761560343454354,
          2.2587183751565743,
          -0.27078145557772954,
          5.647675959042558,
          0.3164364470914761,
          4.393831681877205,
          1.6569733241355027,
          -1.0579701271833146,
          1.085998435691255,
          0.5071880676931332
         ]
        }
       ],
       "layout": {
        "template": {
         "data": {
          "bar": [
           {
            "error_x": {
             "color": "#2a3f5f"
            },
            "error_y": {
             "color": "#2a3f5f"
            },
            "marker": {
             "line": {
              "color": "#E5ECF6",
              "width": 0.5
             },
             "pattern": {
              "fillmode": "overlay",
              "size": 10,
              "solidity": 0.2
             }
            },
            "type": "bar"
           }
          ],
          "barpolar": [
           {
            "marker": {
             "line": {
              "color": "#E5ECF6",
              "width": 0.5
             },
             "pattern": {
              "fillmode": "overlay",
              "size": 10,
              "solidity": 0.2
             }
            },
            "type": "barpolar"
           }
          ],
          "carpet": [
           {
            "aaxis": {
             "endlinecolor": "#2a3f5f",
             "gridcolor": "white",
             "linecolor": "white",
             "minorgridcolor": "white",
             "startlinecolor": "#2a3f5f"
            },
            "baxis": {
             "endlinecolor": "#2a3f5f",
             "gridcolor": "white",
             "linecolor": "white",
             "minorgridcolor": "white",
             "startlinecolor": "#2a3f5f"
            },
            "type": "carpet"
           }
          ],
          "choropleth": [
           {
            "colorbar": {
             "outlinewidth": 0,
             "ticks": ""
            },
            "type": "choropleth"
           }
          ],
          "contour": [
           {
            "colorbar": {
             "outlinewidth": 0,
             "ticks": ""
            },
            "colorscale": [
             [
              0,
              "#0d0887"
             ],
             [
              0.1111111111111111,
              "#46039f"
             ],
             [
              0.2222222222222222,
              "#7201a8"
             ],
             [
              0.3333333333333333,
              "#9c179e"
             ],
             [
              0.4444444444444444,
              "#bd3786"
             ],
             [
              0.5555555555555556,
              "#d8576b"
             ],
             [
              0.6666666666666666,
              "#ed7953"
             ],
             [
              0.7777777777777778,
              "#fb9f3a"
             ],
             [
              0.8888888888888888,
              "#fdca26"
             ],
             [
              1,
              "#f0f921"
             ]
            ],
            "type": "contour"
           }
          ],
          "contourcarpet": [
           {
            "colorbar": {
             "outlinewidth": 0,
             "ticks": ""
            },
            "type": "contourcarpet"
           }
          ],
          "heatmap": [
           {
            "colorbar": {
             "outlinewidth": 0,
             "ticks": ""
            },
            "colorscale": [
             [
              0,
              "#0d0887"
             ],
             [
              0.1111111111111111,
              "#46039f"
             ],
             [
              0.2222222222222222,
              "#7201a8"
             ],
             [
              0.3333333333333333,
              "#9c179e"
             ],
             [
              0.4444444444444444,
              "#bd3786"
             ],
             [
              0.5555555555555556,
              "#d8576b"
             ],
             [
              0.6666666666666666,
              "#ed7953"
             ],
             [
              0.7777777777777778,
              "#fb9f3a"
             ],
             [
              0.8888888888888888,
              "#fdca26"
             ],
             [
              1,
              "#f0f921"
             ]
            ],
            "type": "heatmap"
           }
          ],
          "heatmapgl": [
           {
            "colorbar": {
             "outlinewidth": 0,
             "ticks": ""
            },
            "colorscale": [
             [
              0,
              "#0d0887"
             ],
             [
              0.1111111111111111,
              "#46039f"
             ],
             [
              0.2222222222222222,
              "#7201a8"
             ],
             [
              0.3333333333333333,
              "#9c179e"
             ],
             [
              0.4444444444444444,
              "#bd3786"
             ],
             [
              0.5555555555555556,
              "#d8576b"
             ],
             [
              0.6666666666666666,
              "#ed7953"
             ],
             [
              0.7777777777777778,
              "#fb9f3a"
             ],
             [
              0.8888888888888888,
              "#fdca26"
             ],
             [
              1,
              "#f0f921"
             ]
            ],
            "type": "heatmapgl"
           }
          ],
          "histogram": [
           {
            "marker": {
             "pattern": {
              "fillmode": "overlay",
              "size": 10,
              "solidity": 0.2
             }
            },
            "type": "histogram"
           }
          ],
          "histogram2d": [
           {
            "colorbar": {
             "outlinewidth": 0,
             "ticks": ""
            },
            "colorscale": [
             [
              0,
              "#0d0887"
             ],
             [
              0.1111111111111111,
              "#46039f"
             ],
             [
              0.2222222222222222,
              "#7201a8"
             ],
             [
              0.3333333333333333,
              "#9c179e"
             ],
             [
              0.4444444444444444,
              "#bd3786"
             ],
             [
              0.5555555555555556,
              "#d8576b"
             ],
             [
              0.6666666666666666,
              "#ed7953"
             ],
             [
              0.7777777777777778,
              "#fb9f3a"
             ],
             [
              0.8888888888888888,
              "#fdca26"
             ],
             [
              1,
              "#f0f921"
             ]
            ],
            "type": "histogram2d"
           }
          ],
          "histogram2dcontour": [
           {
            "colorbar": {
             "outlinewidth": 0,
             "ticks": ""
            },
            "colorscale": [
             [
              0,
              "#0d0887"
             ],
             [
              0.1111111111111111,
              "#46039f"
             ],
             [
              0.2222222222222222,
              "#7201a8"
             ],
             [
              0.3333333333333333,
              "#9c179e"
             ],
             [
              0.4444444444444444,
              "#bd3786"
             ],
             [
              0.5555555555555556,
              "#d8576b"
             ],
             [
              0.6666666666666666,
              "#ed7953"
             ],
             [
              0.7777777777777778,
              "#fb9f3a"
             ],
             [
              0.8888888888888888,
              "#fdca26"
             ],
             [
              1,
              "#f0f921"
             ]
            ],
            "type": "histogram2dcontour"
           }
          ],
          "mesh3d": [
           {
            "colorbar": {
             "outlinewidth": 0,
             "ticks": ""
            },
            "type": "mesh3d"
           }
          ],
          "parcoords": [
           {
            "line": {
             "colorbar": {
              "outlinewidth": 0,
              "ticks": ""
             }
            },
            "type": "parcoords"
           }
          ],
          "pie": [
           {
            "automargin": true,
            "type": "pie"
           }
          ],
          "scatter": [
           {
            "fillpattern": {
             "fillmode": "overlay",
             "size": 10,
             "solidity": 0.2
            },
            "type": "scatter"
           }
          ],
          "scatter3d": [
           {
            "line": {
             "colorbar": {
              "outlinewidth": 0,
              "ticks": ""
             }
            },
            "marker": {
             "colorbar": {
              "outlinewidth": 0,
              "ticks": ""
             }
            },
            "type": "scatter3d"
           }
          ],
          "scattercarpet": [
           {
            "marker": {
             "colorbar": {
              "outlinewidth": 0,
              "ticks": ""
             }
            },
            "type": "scattercarpet"
           }
          ],
          "scattergeo": [
           {
            "marker": {
             "colorbar": {
              "outlinewidth": 0,
              "ticks": ""
             }
            },
            "type": "scattergeo"
           }
          ],
          "scattergl": [
           {
            "marker": {
             "colorbar": {
              "outlinewidth": 0,
              "ticks": ""
             }
            },
            "type": "scattergl"
           }
          ],
          "scattermapbox": [
           {
            "marker": {
             "colorbar": {
              "outlinewidth": 0,
              "ticks": ""
             }
            },
            "type": "scattermapbox"
           }
          ],
          "scatterpolar": [
           {
            "marker": {
             "colorbar": {
              "outlinewidth": 0,
              "ticks": ""
             }
            },
            "type": "scatterpolar"
           }
          ],
          "scatterpolargl": [
           {
            "marker": {
             "colorbar": {
              "outlinewidth": 0,
              "ticks": ""
             }
            },
            "type": "scatterpolargl"
           }
          ],
          "scatterternary": [
           {
            "marker": {
             "colorbar": {
              "outlinewidth": 0,
              "ticks": ""
             }
            },
            "type": "scatterternary"
           }
          ],
          "surface": [
           {
            "colorbar": {
             "outlinewidth": 0,
             "ticks": ""
            },
            "colorscale": [
             [
              0,
              "#0d0887"
             ],
             [
              0.1111111111111111,
              "#46039f"
             ],
             [
              0.2222222222222222,
              "#7201a8"
             ],
             [
              0.3333333333333333,
              "#9c179e"
             ],
             [
              0.4444444444444444,
              "#bd3786"
             ],
             [
              0.5555555555555556,
              "#d8576b"
             ],
             [
              0.6666666666666666,
              "#ed7953"
             ],
             [
              0.7777777777777778,
              "#fb9f3a"
             ],
             [
              0.8888888888888888,
              "#fdca26"
             ],
             [
              1,
              "#f0f921"
             ]
            ],
            "type": "surface"
           }
          ],
          "table": [
           {
            "cells": {
             "fill": {
              "color": "#EBF0F8"
             },
             "line": {
              "color": "white"
             }
            },
            "header": {
             "fill": {
              "color": "#C8D4E3"
             },
             "line": {
              "color": "white"
             }
            },
            "type": "table"
           }
          ]
         },
         "layout": {
          "annotationdefaults": {
           "arrowcolor": "#2a3f5f",
           "arrowhead": 0,
           "arrowwidth": 1
          },
          "autotypenumbers": "strict",
          "coloraxis": {
           "colorbar": {
            "outlinewidth": 0,
            "ticks": ""
           }
          },
          "colorscale": {
           "diverging": [
            [
             0,
             "#8e0152"
            ],
            [
             0.1,
             "#c51b7d"
            ],
            [
             0.2,
             "#de77ae"
            ],
            [
             0.3,
             "#f1b6da"
            ],
            [
             0.4,
             "#fde0ef"
            ],
            [
             0.5,
             "#f7f7f7"
            ],
            [
             0.6,
             "#e6f5d0"
            ],
            [
             0.7,
             "#b8e186"
            ],
            [
             0.8,
             "#7fbc41"
            ],
            [
             0.9,
             "#4d9221"
            ],
            [
             1,
             "#276419"
            ]
           ],
           "sequential": [
            [
             0,
             "#0d0887"
            ],
            [
             0.1111111111111111,
             "#46039f"
            ],
            [
             0.2222222222222222,
             "#7201a8"
            ],
            [
             0.3333333333333333,
             "#9c179e"
            ],
            [
             0.4444444444444444,
             "#bd3786"
            ],
            [
             0.5555555555555556,
             "#d8576b"
            ],
            [
             0.6666666666666666,
             "#ed7953"
            ],
            [
             0.7777777777777778,
             "#fb9f3a"
            ],
            [
             0.8888888888888888,
             "#fdca26"
            ],
            [
             1,
             "#f0f921"
            ]
           ],
           "sequentialminus": [
            [
             0,
             "#0d0887"
            ],
            [
             0.1111111111111111,
             "#46039f"
            ],
            [
             0.2222222222222222,
             "#7201a8"
            ],
            [
             0.3333333333333333,
             "#9c179e"
            ],
            [
             0.4444444444444444,
             "#bd3786"
            ],
            [
             0.5555555555555556,
             "#d8576b"
            ],
            [
             0.6666666666666666,
             "#ed7953"
            ],
            [
             0.7777777777777778,
             "#fb9f3a"
            ],
            [
             0.8888888888888888,
             "#fdca26"
            ],
            [
             1,
             "#f0f921"
            ]
           ]
          },
          "colorway": [
           "#636efa",
           "#EF553B",
           "#00cc96",
           "#ab63fa",
           "#FFA15A",
           "#19d3f3",
           "#FF6692",
           "#B6E880",
           "#FF97FF",
           "#FECB52"
          ],
          "font": {
           "color": "#2a3f5f"
          },
          "geo": {
           "bgcolor": "white",
           "lakecolor": "white",
           "landcolor": "#E5ECF6",
           "showlakes": true,
           "showland": true,
           "subunitcolor": "white"
          },
          "hoverlabel": {
           "align": "left"
          },
          "hovermode": "closest",
          "mapbox": {
           "style": "light"
          },
          "paper_bgcolor": "white",
          "plot_bgcolor": "#E5ECF6",
          "polar": {
           "angularaxis": {
            "gridcolor": "white",
            "linecolor": "white",
            "ticks": ""
           },
           "bgcolor": "#E5ECF6",
           "radialaxis": {
            "gridcolor": "white",
            "linecolor": "white",
            "ticks": ""
           }
          },
          "scene": {
           "xaxis": {
            "backgroundcolor": "#E5ECF6",
            "gridcolor": "white",
            "gridwidth": 2,
            "linecolor": "white",
            "showbackground": true,
            "ticks": "",
            "zerolinecolor": "white"
           },
           "yaxis": {
            "backgroundcolor": "#E5ECF6",
            "gridcolor": "white",
            "gridwidth": 2,
            "linecolor": "white",
            "showbackground": true,
            "ticks": "",
            "zerolinecolor": "white"
           },
           "zaxis": {
            "backgroundcolor": "#E5ECF6",
            "gridcolor": "white",
            "gridwidth": 2,
            "linecolor": "white",
            "showbackground": true,
            "ticks": "",
            "zerolinecolor": "white"
           }
          },
          "shapedefaults": {
           "line": {
            "color": "#2a3f5f"
           }
          },
          "ternary": {
           "aaxis": {
            "gridcolor": "white",
            "linecolor": "white",
            "ticks": ""
           },
           "baxis": {
            "gridcolor": "white",
            "linecolor": "white",
            "ticks": ""
           },
           "bgcolor": "#E5ECF6",
           "caxis": {
            "gridcolor": "white",
            "linecolor": "white",
            "ticks": ""
           }
          },
          "title": {
           "x": 0.05
          },
          "xaxis": {
           "automargin": true,
           "gridcolor": "white",
           "linecolor": "white",
           "ticks": "",
           "title": {
            "standoff": 15
           },
           "zerolinecolor": "white",
           "zerolinewidth": 2
          },
          "yaxis": {
           "automargin": true,
           "gridcolor": "white",
           "linecolor": "white",
           "ticks": "",
           "title": {
            "standoff": 15
           },
           "zerolinecolor": "white",
           "zerolinewidth": 2
          }
         }
        }
       }
      }
     },
     "metadata": {},
     "output_type": "display_data"
    }
   ],
   "source": [
    "go.Figure(data=go.Scatter(x=X_1,y=X_2,mode=\"markers\", marker={\"color\":S,'coloraxis':'coloraxis'}))"
   ]
  }
 ],
 "metadata": {
  "kernelspec": {
   "display_name": "Python 3.9.7 64-bit",
   "language": "python",
   "name": "python3"
  },
  "language_info": {
   "codemirror_mode": {
    "name": "ipython",
    "version": 3
   },
   "file_extension": ".py",
   "mimetype": "text/x-python",
   "name": "python",
   "nbconvert_exporter": "python",
   "pygments_lexer": "ipython3",
   "version": "3.9.7 (tags/v3.9.7:1016ef3, Aug 30 2021, 20:19:38) [MSC v.1929 64 bit (AMD64)]"
  },
  "orig_nbformat": 4,
  "vscode": {
   "interpreter": {
    "hash": "15f3ceccf70e189784212a630bcb6f34ff17d0b5a012153ba4156d676d1715c3"
   }
  }
 },
 "nbformat": 4,
 "nbformat_minor": 2
}
