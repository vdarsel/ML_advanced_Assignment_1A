{
 "cells": [
  {
   "cell_type": "code",
   "execution_count": 2,
   "metadata": {},
   "outputs": [],
   "source": [
    "from run_file import *\n",
    "from Tree import *\n",
    "from itertools import product\n"
   ]
  },
  {
   "cell_type": "code",
   "execution_count": 3,
   "metadata": {},
   "outputs": [],
   "source": [
    "file=[\"q1A_2_small_tree.pkl\",\"q2_2_medium_tree.pkl\",\"q2_2_large_tree.pkl\"]\n"
   ]
  },
  {
   "cell_type": "code",
   "execution_count": 26,
   "metadata": {},
   "outputs": [
    {
     "name": "stdout",
     "output_type": "stream",
     "text": [
      "Loading tree from  data/test_data/q1A_2_small_tree.pkl ...\n"
     ]
    }
   ],
   "source": [
    "t = Tree()\n",
    "t.load_tree(\"data/test_data/\"+file[0])\n"
   ]
  },
  {
   "cell_type": "code",
   "execution_count": 27,
   "metadata": {},
   "outputs": [
    {
     "name": "stdout",
     "output_type": "stream",
     "text": [
      "There is 5 leaves\n"
     ]
    }
   ],
   "source": [
    "topo= t.get_topology_array() \n",
    "unique = np.unique(topo)\n",
    "print(\"There is\",t.num_nodes, \"leaves\")"
   ]
  },
  {
   "cell_type": "code",
   "execution_count": 28,
   "metadata": {},
   "outputs": [],
   "source": [
    "possible = [np.array(i) for i in product(range(5), repeat=t.num_leaves)]"
   ]
  },
  {
   "cell_type": "code",
   "execution_count": 30,
   "metadata": {},
   "outputs": [
    {
     "data": {
      "text/plain": [
       "5"
      ]
     },
     "execution_count": 30,
     "metadata": {},
     "output_type": "execute_result"
    }
   ],
   "source": [
    "t.num_nodes"
   ]
  },
  {
   "cell_type": "code",
   "execution_count": 34,
   "metadata": {},
   "outputs": [
    {
     "data": {
      "text/plain": [
       "1.0000000000000004"
      ]
     },
     "execution_count": 34,
     "metadata": {},
     "output_type": "execute_result"
    }
   ],
   "source": [
    "res = 0\n",
    "for a in possible:\n",
    "    tab = []\n",
    "    j=0\n",
    "    for i in range(t.num_nodes):\n",
    "        if (np.isnan(t.filtered_samples[0][i])):\n",
    "            tab.append(np.nan)\n",
    "        else:\n",
    "            tab.append(a[j])\n",
    "            j+=1\n",
    "    res+= t.Likelihood(np.array(tab))\n",
    "res"
   ]
  },
  {
   "cell_type": "code",
   "execution_count": null,
   "metadata": {},
   "outputs": [],
   "source": [
    "product([range(5) for a in range(3)])"
   ]
  },
  {
   "cell_type": "code",
   "execution_count": 2,
   "metadata": {},
   "outputs": [
    {
     "ename": "NameError",
     "evalue": "name 'test' is not defined",
     "output_type": "error",
     "traceback": [
      "\u001b[1;31m---------------------------------------------------------------------------\u001b[0m",
      "\u001b[1;31mNameError\u001b[0m                                 Traceback (most recent call last)",
      "\u001b[1;32mC:\\Users\\VIANEY~1\\AppData\\Local\\Temp/ipykernel_7700/1820508342.py\u001b[0m in \u001b[0;36m<module>\u001b[1;34m\u001b[0m\n\u001b[1;32m----> 1\u001b[1;33m \u001b[0mtest\u001b[0m\u001b[1;33m.\u001b[0m\u001b[0mget_topology_array\u001b[0m\u001b[1;33m(\u001b[0m\u001b[1;33m)\u001b[0m\u001b[1;33m\u001b[0m\u001b[1;33m\u001b[0m\u001b[0m\n\u001b[0m",
      "\u001b[1;31mNameError\u001b[0m: name 'test' is not defined"
     ]
    }
   ],
   "source": [
    "test.get_topology_array()"
   ]
  },
  {
   "cell_type": "code",
   "execution_count": 2,
   "metadata": {},
   "outputs": [],
   "source": [
    "\n",
    "\n",
    "def Likelihood_root_node(node: Tree.Node, beta: list[float]):\n",
    "    if node.isLeaf():\n",
    "        return node.cat[beta[0]]\n",
    "    else:\n",
    "        node_likelihood=node.cat\n",
    "        res = 0\n",
    "        for child in node.descendants:\n",
    "            res+=Likelihood_node(child, node_likelihood, beta)\n",
    "        return res\n",
    "\n",
    "\n",
    "def Likelihood_node(node: Tree.Node, parent_likelihood: list[float], beta: list[float]):\n",
    "    if node.isLeaf():\n",
    "        res = 0\n",
    "        val = beta[int (node.name)]\n",
    "        for i in range(len(parent_likelihood)):\n",
    "            res+= parent_likelihood[i]*node.cat[i][val]\n",
    "        return res\n",
    "    else:\n",
    "        node_likelihood = [0.0] * len(parent_likelihood)\n",
    "        for i in range(len(parent_likelihood)):\n",
    "            for j in range(len(par_likelihood)):\n",
    "                node_likelihood[j] += parent_likelihood[i]*node.cat[i][j]\n",
    "        res = 0\n",
    "        for child in node.descendants:\n",
    "            res+=Likelihood_node(child, node_likelihood, beta)\n",
    "        return res\n",
    "    "
   ]
  },
  {
   "cell_type": "code",
   "execution_count": 2,
   "metadata": {},
   "outputs": [
    {
     "name": "stdout",
     "output_type": "stream",
     "text": [
      "Creating random binary tree with fixed number of nodes...\n"
     ]
    }
   ],
   "source": [
    "test = Tree()\n",
    "test.create_random_binary_tree(3,2,num_nodes=3)"
   ]
  },
  {
   "cell_type": "code",
   "execution_count": 3,
   "metadata": {},
   "outputs": [
    {
     "name": "stdout",
     "output_type": "stream",
     "text": [
      "Printing tree...  <Tree.Tree object at 0x0000016AA626A460>\n",
      "\tnum_nodes:  3 \tnum_leaves:  2 \tk:  2 \tnum_samples:  0 \talpha:  [1.0, 1.0] \tNewick:  [&R] (1,2)0;\n",
      "\tNode:  0 \tParent:  None \tNum Children:  2 \tCat:  [0.3938804181844698, 0.6061195818155302]\n",
      "\tNode:  1 \tParent:  0 \tNum Children:  0 \tCat:  [array([0.32467279, 0.67532721]), array([0.49647207, 0.50352793])]\n",
      "\tNode:  2 \tParent:  0 \tNum Children:  0 \tCat:  [array([0.36622895, 0.63377105]), array([0.08332839, 0.91667161])]\n"
     ]
    }
   ],
   "source": [
    "test.print()"
   ]
  },
  {
   "cell_type": "code",
   "execution_count": 5,
   "metadata": {},
   "outputs": [
    {
     "name": "stdout",
     "output_type": "stream",
     "text": [
      "Collecting ipywidgets\n",
      "  Downloading ipywidgets-8.0.2-py3-none-any.whl (134 kB)\n",
      "     -------------------------------------- 134.4/134.4 kB 8.3 MB/s eta 0:00:00\n",
      "Requirement already satisfied: ipython>=6.1.0 in c:\\users\\vianey darsel\\appdata\\local\\programs\\python\\python39\\lib\\site-packages (from ipywidgets) (7.27.0)\n",
      "Requirement already satisfied: traitlets>=4.3.1 in c:\\users\\vianey darsel\\appdata\\local\\programs\\python\\python39\\lib\\site-packages (from ipywidgets) (5.1.0)\n",
      "Collecting jupyterlab-widgets~=3.0\n",
      "  Downloading jupyterlab_widgets-3.0.3-py3-none-any.whl (384 kB)\n",
      "     ------------------------------------- 384.1/384.1 kB 12.1 MB/s eta 0:00:00\n",
      "Requirement already satisfied: ipykernel>=4.5.1 in c:\\users\\vianey darsel\\appdata\\local\\programs\\python\\python39\\lib\\site-packages (from ipywidgets) (6.4.1)\n",
      "Collecting widgetsnbextension~=4.0\n",
      "  Downloading widgetsnbextension-4.0.3-py3-none-any.whl (2.0 MB)\n",
      "     ---------------------------------------- 2.0/2.0 MB 9.3 MB/s eta 0:00:00\n",
      "Requirement already satisfied: debugpy<2.0,>=1.0.0 in c:\\users\\vianey darsel\\appdata\\local\\programs\\python\\python39\\lib\\site-packages (from ipykernel>=4.5.1->ipywidgets) (1.4.3)\n",
      "Requirement already satisfied: jupyter-client<8.0 in c:\\users\\vianey darsel\\appdata\\local\\programs\\python\\python39\\lib\\site-packages (from ipykernel>=4.5.1->ipywidgets) (7.0.2)\n",
      "Requirement already satisfied: ipython-genutils in c:\\users\\vianey darsel\\appdata\\local\\programs\\python\\python39\\lib\\site-packages (from ipykernel>=4.5.1->ipywidgets) (0.2.0)\n",
      "Requirement already satisfied: matplotlib-inline<0.2.0,>=0.1.0 in c:\\users\\vianey darsel\\appdata\\local\\programs\\python\\python39\\lib\\site-packages (from ipykernel>=4.5.1->ipywidgets) (0.1.3)\n",
      "Requirement already satisfied: tornado<7.0,>=4.2 in c:\\users\\vianey darsel\\appdata\\local\\programs\\python\\python39\\lib\\site-packages (from ipykernel>=4.5.1->ipywidgets) (6.1)\n",
      "Requirement already satisfied: backcall in c:\\users\\vianey darsel\\appdata\\local\\programs\\python\\python39\\lib\\site-packages (from ipython>=6.1.0->ipywidgets) (0.2.0)\n",
      "Requirement already satisfied: pygments in c:\\users\\vianey darsel\\appdata\\local\\programs\\python\\python39\\lib\\site-packages (from ipython>=6.1.0->ipywidgets) (2.10.0)\n",
      "Requirement already satisfied: pickleshare in c:\\users\\vianey darsel\\appdata\\local\\programs\\python\\python39\\lib\\site-packages (from ipython>=6.1.0->ipywidgets) (0.7.5)\n",
      "Requirement already satisfied: jedi>=0.16 in c:\\users\\vianey darsel\\appdata\\local\\programs\\python\\python39\\lib\\site-packages (from ipython>=6.1.0->ipywidgets) (0.18.0)\n",
      "Requirement already satisfied: decorator in c:\\users\\vianey darsel\\appdata\\local\\programs\\python\\python39\\lib\\site-packages (from ipython>=6.1.0->ipywidgets) (5.1.0)\n",
      "Requirement already satisfied: colorama in c:\\users\\vianey darsel\\appdata\\local\\programs\\python\\python39\\lib\\site-packages (from ipython>=6.1.0->ipywidgets) (0.4.4)\n",
      "Requirement already satisfied: setuptools>=18.5 in c:\\users\\vianey darsel\\appdata\\local\\programs\\python\\python39\\lib\\site-packages (from ipython>=6.1.0->ipywidgets) (57.4.0)\n",
      "Requirement already satisfied: prompt-toolkit!=3.0.0,!=3.0.1,<3.1.0,>=2.0.0 in c:\\users\\vianey darsel\\appdata\\local\\programs\\python\\python39\\lib\\site-packages (from ipython>=6.1.0->ipywidgets) (3.0.20)\n",
      "Requirement already satisfied: parso<0.9.0,>=0.8.0 in c:\\users\\vianey darsel\\appdata\\local\\programs\\python\\python39\\lib\\site-packages (from jedi>=0.16->ipython>=6.1.0->ipywidgets) (0.8.2)\n",
      "Requirement already satisfied: pyzmq>=13 in c:\\users\\vianey darsel\\appdata\\local\\programs\\python\\python39\\lib\\site-packages (from jupyter-client<8.0->ipykernel>=4.5.1->ipywidgets) (22.2.1)\n",
      "Requirement already satisfied: jupyter-core>=4.6.0 in c:\\users\\vianey darsel\\appdata\\local\\programs\\python\\python39\\lib\\site-packages (from jupyter-client<8.0->ipykernel>=4.5.1->ipywidgets) (4.7.1)\n",
      "Requirement already satisfied: python-dateutil>=2.1 in c:\\users\\vianey darsel\\appdata\\local\\programs\\python\\python39\\lib\\site-packages (from jupyter-client<8.0->ipykernel>=4.5.1->ipywidgets) (2.8.2)\n",
      "Requirement already satisfied: entrypoints in c:\\users\\vianey darsel\\appdata\\local\\programs\\python\\python39\\lib\\site-packages (from jupyter-client<8.0->ipykernel>=4.5.1->ipywidgets) (0.3)\n",
      "Requirement already satisfied: nest-asyncio>=1.5 in c:\\users\\vianey darsel\\appdata\\local\\programs\\python\\python39\\lib\\site-packages (from jupyter-client<8.0->ipykernel>=4.5.1->ipywidgets) (1.5.1)\n",
      "Requirement already satisfied: wcwidth in c:\\users\\vianey darsel\\appdata\\local\\programs\\python\\python39\\lib\\site-packages (from prompt-toolkit!=3.0.0,!=3.0.1,<3.1.0,>=2.0.0->ipython>=6.1.0->ipywidgets) (0.2.5)\n",
      "Requirement already satisfied: pywin32>=1.0 in c:\\users\\vianey darsel\\appdata\\local\\programs\\python\\python39\\lib\\site-packages (from jupyter-core>=4.6.0->jupyter-client<8.0->ipykernel>=4.5.1->ipywidgets) (301)\n",
      "Requirement already satisfied: six>=1.5 in c:\\users\\vianey darsel\\appdata\\local\\programs\\python\\python39\\lib\\site-packages (from python-dateutil>=2.1->jupyter-client<8.0->ipykernel>=4.5.1->ipywidgets) (1.16.0)\n",
      "Installing collected packages: widgetsnbextension, jupyterlab-widgets, ipywidgets\n",
      "Successfully installed ipywidgets-8.0.2 jupyterlab-widgets-3.0.3 widgetsnbextension-4.0.3\n",
      "Note: you may need to restart the kernel to use updated packages.\n"
     ]
    }
   ],
   "source": [
    "pip install ipywidgets"
   ]
  },
  {
   "cell_type": "code",
   "execution_count": 4,
   "metadata": {},
   "outputs": [
    {
     "name": "stdout",
     "output_type": "stream",
     "text": [
      "[0.67532721 0.50352793]\n",
      "[0.36622895 0.08332839]\n",
      "[0.67532721 0.50352793]\n",
      "[0.63377105 0.91667161]\n",
      "[0.32467279 0.49647207]\n",
      "[0.36622895 0.08332839]\n",
      "[0.32467279 0.49647207]\n",
      "[0.63377105 0.91667161]\n"
     ]
    },
    {
     "data": {
      "text/plain": [
       "1.0"
      ]
     },
     "execution_count": 4,
     "metadata": {},
     "output_type": "execute_result"
    }
   ],
   "source": [
    "test.Likelihood([np.nan,1,0])+test.Likelihood([np.nan,1,1])+test.Likelihood([np.nan,0,0])+test.Likelihood([np.nan,0,1])"
   ]
  },
  {
   "cell_type": "code",
   "execution_count": 7,
   "metadata": {},
   "outputs": [
    {
     "data": {
      "text/plain": [
       "0.12315999999999999"
      ]
     },
     "execution_count": 7,
     "metadata": {},
     "output_type": "execute_result"
    }
   ],
   "source": [
    "0.4*0.67*0.37+0.6*0.5*0.08"
   ]
  },
  {
   "cell_type": "code",
   "execution_count": 32,
   "metadata": {},
   "outputs": [
    {
     "name": "stdout",
     "output_type": "stream",
     "text": [
      "Printing tree...  <Tree.Tree object at 0x000001B4601B4310>\n",
      "\tnum_nodes:  3 \tnum_leaves:  2 \tk:  2 \tnum_samples:  0 \talpha:  [1.0, 1.0] \tNewick:  [&R] (1,2)0;\n",
      "\tNode:  0 \tParent:  None \tNum Children:  2 \tCat:  [0.3938804181844698, 0.6061195818155302]\n",
      "\tNode:  1 \tParent:  0 \tNum Children:  0 \tCat:  [array([0.32467279, 0.67532721]), array([0.49647207, 0.50352793])]\n",
      "\tNode:  2 \tParent:  0 \tNum Children:  0 \tCat:  [array([0.36622895, 0.63377105]), array([0.08332839, 0.91667161])]\n"
     ]
    }
   ],
   "source": [
    "test.print()"
   ]
  }
 ],
 "metadata": {
  "kernelspec": {
   "display_name": "Python 3.9.7 64-bit",
   "language": "python",
   "name": "python3"
  },
  "language_info": {
   "codemirror_mode": {
    "name": "ipython",
    "version": 3
   },
   "file_extension": ".py",
   "mimetype": "text/x-python",
   "name": "python",
   "nbconvert_exporter": "python",
   "pygments_lexer": "ipython3",
   "version": "3.9.7"
  },
  "orig_nbformat": 4,
  "vscode": {
   "interpreter": {
    "hash": "15f3ceccf70e189784212a630bcb6f34ff17d0b5a012153ba4156d676d1715c3"
   }
  }
 },
 "nbformat": 4,
 "nbformat_minor": 2
}
