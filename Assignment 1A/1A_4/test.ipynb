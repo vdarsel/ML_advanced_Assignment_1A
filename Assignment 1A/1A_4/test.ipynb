{
 "cells": [
  {
   "cell_type": "code",
   "execution_count": 5,
   "metadata": {},
   "outputs": [],
   "source": [
    "import numpy as np\n",
    "# import scipy.integrate as integrate\n",
    "import scipy.stats as scs\n",
    "from math import *"
   ]
  },
  {
   "cell_type": "code",
   "execution_count": 6,
   "metadata": {},
   "outputs": [],
   "source": [
    "def initiate(k: int):\n",
    "    mu_1 = np.zeros(k)\n",
    "    mu_2 = np.zeros(k)\n",
    "    tau_1 = np.ones(k)\n",
    "    tau_2 = np.ones(k)\n",
    "    lambd =np.ones(k)\n",
    "    pi = np.ones(k)/k\n",
    "    return mu_1,mu_2,tau_1,tau_2,lambd,pi\n",
    "\n",
    "def A_computation(n: int, K: int,X_1: np.ndarray,X_2: np.ndarray, S: np.ndarray, previous_mu_1: np.ndarray,previous_mu_2: np.ndarray,previous_tau_1: np.ndarray,previous_tau_2: np.ndarray,previous_lambda: np.ndarray,previous_pi: np.ndarray):\n",
    "    A= np.zeros(K)\n",
    "    for k in range(K):\n",
    "        p_X_1 = scs.norm(previous_mu_1[k],1/previous_tau_1[k]).pdf(X_1[n])\n",
    "        p_X_2 = scs.norm(previous_mu_2[k],1/previous_tau_2[k]).pdf(X_2[n])\n",
    "        p_S = scs.poisson(previous_lambda[k]).pmf(S[n])\n",
    "        p_Z = previous_pi[k]\n",
    "        A[k]=p_X_1*p_X_2*p_S*p_Z\n",
    "    return A/np.sum(A) #normalize\n",
    "\n",
    "def Compare(previous_mu_1: np.ndarray,previous_mu_2: np.ndarray,previous_tau_1: np.ndarray,previous_tau_2: np.ndarray,previous_lambda: np.ndarray,previous_pi: np.ndarray,mu_1: np.ndarray,mu_2: np.ndarray,tau_1: np.ndarray,tau_2: np.ndarray,lambd: np.ndarray,pi):\n",
    "    res = np.sum(np.power(previous_mu_1-mu_1,2))\n",
    "    res += np.sum(np.power(previous_mu_2-mu_2,2))\n",
    "    res += np.sum(np.power(previous_tau_1-tau_1,2))\n",
    "    res += np.sum(np.power(previous_tau_2-tau_2,2))\n",
    "    res += np.sum(np.power(previous_lambda-lambd,2))\n",
    "    res += np.sum(np.power(previous_pi-pi,2))\n",
    "    return res\n",
    "\n",
    "def EM(threshold: float, K: int, X_1: np.ndarray,X_2: np.ndarray, S: np.ndarray):\n",
    "    N= len(X_1)\n",
    "    mu_1,mu_2,tau_1,tau_2,lambd,pi = initiate(K)\n",
    "    previous_mu_1,previous_mu_2,previous_tau_1,previous_tau_2,previous_lambda,previous_pi = mu_1+1,mu_2,tau_1*3,tau_2*3,lambd,pi*3\n",
    "    loop=0\n",
    "    while(Compare(previous_mu_1,previous_mu_2,previous_tau_1,previous_tau_2,previous_lambda,previous_pi,mu_1,mu_2,tau_1,tau_2,lambd,pi)>threshold):\n",
    "        loop+=1\n",
    "        previous_mu_1,previous_mu_2,previous_tau_1,previous_tau_2,previous_lambda,previous_pi = mu_1.copy(),mu_2.copy(),tau_1.copy(),tau_2.copy(),lambd.copy(),pi.copy()\n",
    "        A = np.zeros((N,K))\n",
    "        for i in range(N):\n",
    "            A[i] = A_computation(i,K,X_1,X_2,S,previous_mu_1,previous_mu_2,previous_tau_1,previous_tau_2,previous_lambda,previous_pi) #expectation\n",
    "        A = A.transpose()\n",
    "        for k in range(K): #maximization\n",
    "            pi[k]=np.sum(A[k])\n",
    "            mu_1[k] = np.sum(A[k]*X_1)/np.sum(A[k])\n",
    "            mu_2[k] = np.sum(A[k]*X_2)/np.sum(A[k])\n",
    "            tau_1[k] = np.sum(A[k])/(np.sum(A[k]*np.power(X_1-mu_1[k],2)))\n",
    "            tau_2[k] = np.sum(A[k])/(np.sum(A[k]*np.power(X_2-mu_2[k],2)))\n",
    "            lambd[k] = np.sum(A[k]*S)/(np.sum(A[k]))\n",
    "        pi = pi/np.sum(pi)\n",
    "        print(loop,\"\\t\", mu_1[0],\"\\t\", mu_2[0],\"\\t\", tau_1[0],\"\\t\", tau_2[0],\"\\t\", lambd[0],\"\\t\",pi[0])\n",
    "        print(Compare(previous_mu_1,previous_mu_2,previous_tau_1,previous_tau_2,previous_lambda,previous_pi,mu_1,mu_2,tau_1,tau_2,lambd,pi))\n",
    "    return mu_1,mu_2,tau_1,tau_2,lambd,pi\n",
    "\n",
    "def read_files(X_file_name: str, S_file_name: str):\n",
    "    X_file =\"data\\\\\"+ X_file_name\n",
    "    S_file =\"data\\\\\"+ S_file_name\n",
    "    with open(X_file) as file:\n",
    "        X = file.readlines()\n",
    "    X_1 = np.zeros(len(X))\n",
    "    X_2 = np.zeros(len(X))\n",
    "    for i,line in enumerate(X):\n",
    "        X_1[i]=float(line.split(\" \")[0])\n",
    "        X_2[i]=float(line.split(\"\\n\")[0].split(\" \")[1])\n",
    "    with open(S_file) as file:\n",
    "        S_temp = file.readlines()\n",
    "    S = np.zeros(len(S_temp))\n",
    "    for i,line in enumerate(S_temp):\n",
    "        S[i]=float(line.split(\"\\n\")[0])\n",
    "    return X_1, X_2, S\n"
   ]
  },
  {
   "cell_type": "code",
   "execution_count": 7,
   "metadata": {},
   "outputs": [
    {
     "name": "stdout",
     "output_type": "stream",
     "text": [
      "1 \t 1.9039266394177017 \t 1.752210583554002 \t 0.22017871906957168 \t 0.21886533341209005 \t 5.050000000000001 \t 0.19999999999999998\n",
      "121.57985587470213\n",
      "2 \t 1.903926639417702 \t 1.752210583554002 \t 0.22017871906957168 \t 0.21886533341209005 \t 5.050000000000001 \t 0.19999999999999998\n",
      "2.465190328815662e-31\n"
     ]
    },
    {
     "data": {
      "text/plain": [
       "(array([1.90392664, 1.90392664, 1.90392664, 1.90392664, 1.90392664]),\n",
       " array([1.75221058, 1.75221058, 1.75221058, 1.75221058, 1.75221058]),\n",
       " array([0.22017872, 0.22017872, 0.22017872, 0.22017872, 0.22017872]),\n",
       " array([0.21886533, 0.21886533, 0.21886533, 0.21886533, 0.21886533]),\n",
       " array([5.05, 5.05, 5.05, 5.05, 5.05]),\n",
       " array([0.2, 0.2, 0.2, 0.2, 0.2]))"
      ]
     },
     "execution_count": 7,
     "metadata": {},
     "output_type": "execute_result"
    }
   ],
   "source": [
    "X_1,X_2,S = read_files(\"X.txt\",\"S.txt\")\n",
    "EM(0.1,5,X_1,X_2,S)"
   ]
  },
  {
   "cell_type": "code",
   "execution_count": 2,
   "metadata": {},
   "outputs": [],
   "source": [
    "import plotly.graph_objects as go\n",
    "import plotly.express as px"
   ]
  },
  {
   "cell_type": "code",
   "execution_count": 8,
   "metadata": {},
   "outputs": [
    {
     "data": {
      "application/vnd.plotly.v1+json": {
       "config": {
        "plotlyServerURL": "https://plot.ly"
       },
       "data": [
        {
         "hovertemplate": "x=%{x}<br>y=%{y}<br>color=%{marker.color}<extra></extra>",
         "legendgroup": "",
         "marker": {
          "color": [
           9,
           8,
           2,
           21,
           3,
           0,
           5,
           0,
           0,
           5,
           4,
           0,
           11,
           9,
           2,
           3,
           0,
           0,
           4,
           1,
           0,
           2,
           5,
           10,
           0,
           12,
           16,
           4,
           1,
           12,
           3,
           2,
           0,
           9,
           10,
           9,
           3,
           9,
           4,
           4,
           5,
           0,
           0,
           13,
           2,
           7,
           13,
           10,
           5,
           2,
           4,
           3,
           0,
           0,
           9,
           0,
           1,
           11,
           2,
           14,
           2,
           1,
           10,
           2,
           0,
           10,
           0,
           0,
           15,
           0,
           10,
           2,
           8,
           15,
           10,
           3,
           8,
           0,
           1,
           0,
           13,
           0,
           2,
           1,
           1,
           10,
           1,
           3,
           13,
           0,
           8,
           11,
           0,
           2,
           11,
           4,
           13,
           5,
           7,
           0
          ],
          "coloraxis": "coloraxis",
          "symbol": "circle"
         },
         "mode": "markers",
         "name": "",
         "orientation": "v",
         "showlegend": false,
         "type": "scatter",
         "x": [
          1.2705897595111002,
          1.232786152819342,
          0.013367752176035346,
          -0.861651950829968,
          0.9176152732624041,
          4.334040123799776,
          1.7287667688631254,
          4.4064745954300735,
          -0.10255171997999371,
          1.1954814623291405,
          0.8129426658363049,
          4.976311517117257,
          0.027803941306761448,
          0.8670000825741092,
          0.39261700688898254,
          0.7763947595665742,
          4.456590029482638,
          4.893372500723433,
          -0.6768313946854596,
          0.47982607116646914,
          5.671607851827795,
          -0.033124956181898715,
          1.8063714471281238,
          0.8449160542008298,
          3.8084999097465193,
          -0.16124239758617565,
          1.5102783384586205,
          2.5183153990522316,
          5.130322698524594,
          -0.20277764603771908,
          -1.0607936202802326,
          0.23216214197156781,
          5.398165434822647,
          1.5570005041677097,
          0.05850959538665468,
          1.70894742527448,
          0.018761595194748078,
          2.1980680167050224,
          -0.797375619137129,
          0.327160420673596,
          -0.4128404119602973,
          5.352532953916012,
          4.689811551697283,
          0.6536884833028046,
          -0.47396541479752596,
          -0.06260789550961447,
          0.7443170133351996,
          3.2064206509305504,
          1.4816787554005313,
          -0.7733805717503915,
          0.5744629748437424,
          -0.1777273555629793,
          5.341509349740916,
          4.981063657848886,
          -0.6033292478280006,
          4.490856847296555,
          5.3925932944452155,
          -0.4640720482522591,
          -0.9480403837139417,
          0.9521069061691001,
          1.2041418509721922,
          4.615004191374177,
          0.922086982152557,
          4.8995966711740415,
          4.125665272989014,
          -0.8313121022755774,
          3.674615601986635,
          4.016457120320092,
          0.7289307028651402,
          5.323758729958422,
          1.735628225525482,
          0.25469716266834413,
          1.4984972637942335,
          1.3984325645712934,
          1.1431262299405665,
          1.0018675521175766,
          1.9777049646052878,
          3.792524539447746,
          5.226080355708728,
          5.531727267565511,
          0.3651514204374857,
          5.393369830370042,
          0.12332651683283659,
          5.9710111997328,
          -0.020522968843756723,
          0.7112128637639432,
          5.266038602123919,
          0.8668768900689378,
          1.6272277777248347,
          4.626093450718383,
          2.41418096313428,
          0.6449885678857703,
          4.928228070318161,
          -1.1831611174495442,
          0.6220516323664389,
          0.418018265918203,
          1.2996874937678906,
          1.982228486967167,
          0.600997688053845,
          5.876630059595215
         ],
         "xaxis": "x",
         "y": [
          1.7257652035050006,
          1.0579021347823874,
          4.728935172043818,
          1.7952503883899071,
          4.474080432997857,
          -0.9928781241940524,
          2.7432591570166602,
          -0.46877028181596525,
          5.136636555002442,
          -0.2936935089641015,
          4.889990949767856,
          0.0621296419764642,
          0.5991240439494587,
          -0.027066068590247294,
          2.908779609946954,
          5.349988430824459,
          -1.0445811779551797,
          0.6592932460020668,
          5.103550498408602,
          6.084755087665347,
          -0.428125887472737,
          4.3236819240106685,
          -0.01688878735418431,
          1.2245245400531257,
          1.2800142905290082,
          -0.6554216562966568,
          1.4553568584711702,
          -0.4695711489917187,
          1.0226740099991802,
          2.0881574998374743,
          5.016202553199254,
          3.9998347040697455,
          1.1792292166101543,
          1.2902080980320154,
          1.0663304305569037,
          0.4751861491064475,
          6.121634020079515,
          2.4066402032170453,
          3.5700933834666357,
          4.489860398333061,
          2.036739243944523,
          0.1392501907268009,
          0.0499389346100807,
          -0.21359283205699198,
          4.619098319281601,
          4.178499489340195,
          1.6840166095132678,
          -0.6184970803117267,
          5.144419298279857,
          4.066477431061233,
          4.261405269605056,
          5.740539919827522,
          0.45851351629645787,
          0.0501386519138093,
          0.9025657715053128,
          -0.7216817718704832,
          0.5556969079961105,
          -0.28718610864477223,
          4.075470586961785,
          0.230852123898037,
          4.218565993317015,
          0.11935382456681165,
          2.0172876624756837,
          -0.022306104493922424,
          -0.3271498711329238,
          -0.5947338526584758,
          0.19456871762132616,
          -0.09128851713450525,
          1.5464646073551185,
          0.3833413371571423,
          0.015253374421231758,
          5.925435917240464,
          1.4749823885312434,
          0.567996132517522,
          -0.15496563142108766,
          5.286696468069845,
          0.6987895870927692,
          0.04770068060087872,
          -0.22729383650830404,
          -0.13655143924996152,
          -0.7916788812743145,
          0.6311593995025745,
          5.129042327041527,
          1.6072157871886406,
          5.093766317747933,
          0.4072422647168763,
          0.7789857945344631,
          5.578847907835627,
          0.22254357879333875,
          -0.3771769834199702,
          1.1761560343454354,
          2.2587183751565743,
          -0.27078145557772954,
          5.647675959042558,
          0.3164364470914761,
          4.393831681877205,
          1.6569733241355027,
          -1.0579701271833146,
          1.085998435691255,
          0.5071880676931332
         ],
         "yaxis": "y"
        }
       ],
       "layout": {
        "coloraxis": {
         "colorbar": {
          "title": {
           "text": "color"
          }
         },
         "colorscale": [
          [
           0,
           "#0d0887"
          ],
          [
           0.1111111111111111,
           "#46039f"
          ],
          [
           0.2222222222222222,
           "#7201a8"
          ],
          [
           0.3333333333333333,
           "#9c179e"
          ],
          [
           0.4444444444444444,
           "#bd3786"
          ],
          [
           0.5555555555555556,
           "#d8576b"
          ],
          [
           0.6666666666666666,
           "#ed7953"
          ],
          [
           0.7777777777777778,
           "#fb9f3a"
          ],
          [
           0.8888888888888888,
           "#fdca26"
          ],
          [
           1,
           "#f0f921"
          ]
         ]
        },
        "legend": {
         "tracegroupgap": 0
        },
        "margin": {
         "t": 60
        },
        "template": {
         "data": {
          "bar": [
           {
            "error_x": {
             "color": "#2a3f5f"
            },
            "error_y": {
             "color": "#2a3f5f"
            },
            "marker": {
             "line": {
              "color": "#E5ECF6",
              "width": 0.5
             },
             "pattern": {
              "fillmode": "overlay",
              "size": 10,
              "solidity": 0.2
             }
            },
            "type": "bar"
           }
          ],
          "barpolar": [
           {
            "marker": {
             "line": {
              "color": "#E5ECF6",
              "width": 0.5
             },
             "pattern": {
              "fillmode": "overlay",
              "size": 10,
              "solidity": 0.2
             }
            },
            "type": "barpolar"
           }
          ],
          "carpet": [
           {
            "aaxis": {
             "endlinecolor": "#2a3f5f",
             "gridcolor": "white",
             "linecolor": "white",
             "minorgridcolor": "white",
             "startlinecolor": "#2a3f5f"
            },
            "baxis": {
             "endlinecolor": "#2a3f5f",
             "gridcolor": "white",
             "linecolor": "white",
             "minorgridcolor": "white",
             "startlinecolor": "#2a3f5f"
            },
            "type": "carpet"
           }
          ],
          "choropleth": [
           {
            "colorbar": {
             "outlinewidth": 0,
             "ticks": ""
            },
            "type": "choropleth"
           }
          ],
          "contour": [
           {
            "colorbar": {
             "outlinewidth": 0,
             "ticks": ""
            },
            "colorscale": [
             [
              0,
              "#0d0887"
             ],
             [
              0.1111111111111111,
              "#46039f"
             ],
             [
              0.2222222222222222,
              "#7201a8"
             ],
             [
              0.3333333333333333,
              "#9c179e"
             ],
             [
              0.4444444444444444,
              "#bd3786"
             ],
             [
              0.5555555555555556,
              "#d8576b"
             ],
             [
              0.6666666666666666,
              "#ed7953"
             ],
             [
              0.7777777777777778,
              "#fb9f3a"
             ],
             [
              0.8888888888888888,
              "#fdca26"
             ],
             [
              1,
              "#f0f921"
             ]
            ],
            "type": "contour"
           }
          ],
          "contourcarpet": [
           {
            "colorbar": {
             "outlinewidth": 0,
             "ticks": ""
            },
            "type": "contourcarpet"
           }
          ],
          "heatmap": [
           {
            "colorbar": {
             "outlinewidth": 0,
             "ticks": ""
            },
            "colorscale": [
             [
              0,
              "#0d0887"
             ],
             [
              0.1111111111111111,
              "#46039f"
             ],
             [
              0.2222222222222222,
              "#7201a8"
             ],
             [
              0.3333333333333333,
              "#9c179e"
             ],
             [
              0.4444444444444444,
              "#bd3786"
             ],
             [
              0.5555555555555556,
              "#d8576b"
             ],
             [
              0.6666666666666666,
              "#ed7953"
             ],
             [
              0.7777777777777778,
              "#fb9f3a"
             ],
             [
              0.8888888888888888,
              "#fdca26"
             ],
             [
              1,
              "#f0f921"
             ]
            ],
            "type": "heatmap"
           }
          ],
          "heatmapgl": [
           {
            "colorbar": {
             "outlinewidth": 0,
             "ticks": ""
            },
            "colorscale": [
             [
              0,
              "#0d0887"
             ],
             [
              0.1111111111111111,
              "#46039f"
             ],
             [
              0.2222222222222222,
              "#7201a8"
             ],
             [
              0.3333333333333333,
              "#9c179e"
             ],
             [
              0.4444444444444444,
              "#bd3786"
             ],
             [
              0.5555555555555556,
              "#d8576b"
             ],
             [
              0.6666666666666666,
              "#ed7953"
             ],
             [
              0.7777777777777778,
              "#fb9f3a"
             ],
             [
              0.8888888888888888,
              "#fdca26"
             ],
             [
              1,
              "#f0f921"
             ]
            ],
            "type": "heatmapgl"
           }
          ],
          "histogram": [
           {
            "marker": {
             "pattern": {
              "fillmode": "overlay",
              "size": 10,
              "solidity": 0.2
             }
            },
            "type": "histogram"
           }
          ],
          "histogram2d": [
           {
            "colorbar": {
             "outlinewidth": 0,
             "ticks": ""
            },
            "colorscale": [
             [
              0,
              "#0d0887"
             ],
             [
              0.1111111111111111,
              "#46039f"
             ],
             [
              0.2222222222222222,
              "#7201a8"
             ],
             [
              0.3333333333333333,
              "#9c179e"
             ],
             [
              0.4444444444444444,
              "#bd3786"
             ],
             [
              0.5555555555555556,
              "#d8576b"
             ],
             [
              0.6666666666666666,
              "#ed7953"
             ],
             [
              0.7777777777777778,
              "#fb9f3a"
             ],
             [
              0.8888888888888888,
              "#fdca26"
             ],
             [
              1,
              "#f0f921"
             ]
            ],
            "type": "histogram2d"
           }
          ],
          "histogram2dcontour": [
           {
            "colorbar": {
             "outlinewidth": 0,
             "ticks": ""
            },
            "colorscale": [
             [
              0,
              "#0d0887"
             ],
             [
              0.1111111111111111,
              "#46039f"
             ],
             [
              0.2222222222222222,
              "#7201a8"
             ],
             [
              0.3333333333333333,
              "#9c179e"
             ],
             [
              0.4444444444444444,
              "#bd3786"
             ],
             [
              0.5555555555555556,
              "#d8576b"
             ],
             [
              0.6666666666666666,
              "#ed7953"
             ],
             [
              0.7777777777777778,
              "#fb9f3a"
             ],
             [
              0.8888888888888888,
              "#fdca26"
             ],
             [
              1,
              "#f0f921"
             ]
            ],
            "type": "histogram2dcontour"
           }
          ],
          "mesh3d": [
           {
            "colorbar": {
             "outlinewidth": 0,
             "ticks": ""
            },
            "type": "mesh3d"
           }
          ],
          "parcoords": [
           {
            "line": {
             "colorbar": {
              "outlinewidth": 0,
              "ticks": ""
             }
            },
            "type": "parcoords"
           }
          ],
          "pie": [
           {
            "automargin": true,
            "type": "pie"
           }
          ],
          "scatter": [
           {
            "fillpattern": {
             "fillmode": "overlay",
             "size": 10,
             "solidity": 0.2
            },
            "type": "scatter"
           }
          ],
          "scatter3d": [
           {
            "line": {
             "colorbar": {
              "outlinewidth": 0,
              "ticks": ""
             }
            },
            "marker": {
             "colorbar": {
              "outlinewidth": 0,
              "ticks": ""
             }
            },
            "type": "scatter3d"
           }
          ],
          "scattercarpet": [
           {
            "marker": {
             "colorbar": {
              "outlinewidth": 0,
              "ticks": ""
             }
            },
            "type": "scattercarpet"
           }
          ],
          "scattergeo": [
           {
            "marker": {
             "colorbar": {
              "outlinewidth": 0,
              "ticks": ""
             }
            },
            "type": "scattergeo"
           }
          ],
          "scattergl": [
           {
            "marker": {
             "colorbar": {
              "outlinewidth": 0,
              "ticks": ""
             }
            },
            "type": "scattergl"
           }
          ],
          "scattermapbox": [
           {
            "marker": {
             "colorbar": {
              "outlinewidth": 0,
              "ticks": ""
             }
            },
            "type": "scattermapbox"
           }
          ],
          "scatterpolar": [
           {
            "marker": {
             "colorbar": {
              "outlinewidth": 0,
              "ticks": ""
             }
            },
            "type": "scatterpolar"
           }
          ],
          "scatterpolargl": [
           {
            "marker": {
             "colorbar": {
              "outlinewidth": 0,
              "ticks": ""
             }
            },
            "type": "scatterpolargl"
           }
          ],
          "scatterternary": [
           {
            "marker": {
             "colorbar": {
              "outlinewidth": 0,
              "ticks": ""
             }
            },
            "type": "scatterternary"
           }
          ],
          "surface": [
           {
            "colorbar": {
             "outlinewidth": 0,
             "ticks": ""
            },
            "colorscale": [
             [
              0,
              "#0d0887"
             ],
             [
              0.1111111111111111,
              "#46039f"
             ],
             [
              0.2222222222222222,
              "#7201a8"
             ],
             [
              0.3333333333333333,
              "#9c179e"
             ],
             [
              0.4444444444444444,
              "#bd3786"
             ],
             [
              0.5555555555555556,
              "#d8576b"
             ],
             [
              0.6666666666666666,
              "#ed7953"
             ],
             [
              0.7777777777777778,
              "#fb9f3a"
             ],
             [
              0.8888888888888888,
              "#fdca26"
             ],
             [
              1,
              "#f0f921"
             ]
            ],
            "type": "surface"
           }
          ],
          "table": [
           {
            "cells": {
             "fill": {
              "color": "#EBF0F8"
             },
             "line": {
              "color": "white"
             }
            },
            "header": {
             "fill": {
              "color": "#C8D4E3"
             },
             "line": {
              "color": "white"
             }
            },
            "type": "table"
           }
          ]
         },
         "layout": {
          "annotationdefaults": {
           "arrowcolor": "#2a3f5f",
           "arrowhead": 0,
           "arrowwidth": 1
          },
          "autotypenumbers": "strict",
          "coloraxis": {
           "colorbar": {
            "outlinewidth": 0,
            "ticks": ""
           }
          },
          "colorscale": {
           "diverging": [
            [
             0,
             "#8e0152"
            ],
            [
             0.1,
             "#c51b7d"
            ],
            [
             0.2,
             "#de77ae"
            ],
            [
             0.3,
             "#f1b6da"
            ],
            [
             0.4,
             "#fde0ef"
            ],
            [
             0.5,
             "#f7f7f7"
            ],
            [
             0.6,
             "#e6f5d0"
            ],
            [
             0.7,
             "#b8e186"
            ],
            [
             0.8,
             "#7fbc41"
            ],
            [
             0.9,
             "#4d9221"
            ],
            [
             1,
             "#276419"
            ]
           ],
           "sequential": [
            [
             0,
             "#0d0887"
            ],
            [
             0.1111111111111111,
             "#46039f"
            ],
            [
             0.2222222222222222,
             "#7201a8"
            ],
            [
             0.3333333333333333,
             "#9c179e"
            ],
            [
             0.4444444444444444,
             "#bd3786"
            ],
            [
             0.5555555555555556,
             "#d8576b"
            ],
            [
             0.6666666666666666,
             "#ed7953"
            ],
            [
             0.7777777777777778,
             "#fb9f3a"
            ],
            [
             0.8888888888888888,
             "#fdca26"
            ],
            [
             1,
             "#f0f921"
            ]
           ],
           "sequentialminus": [
            [
             0,
             "#0d0887"
            ],
            [
             0.1111111111111111,
             "#46039f"
            ],
            [
             0.2222222222222222,
             "#7201a8"
            ],
            [
             0.3333333333333333,
             "#9c179e"
            ],
            [
             0.4444444444444444,
             "#bd3786"
            ],
            [
             0.5555555555555556,
             "#d8576b"
            ],
            [
             0.6666666666666666,
             "#ed7953"
            ],
            [
             0.7777777777777778,
             "#fb9f3a"
            ],
            [
             0.8888888888888888,
             "#fdca26"
            ],
            [
             1,
             "#f0f921"
            ]
           ]
          },
          "colorway": [
           "#636efa",
           "#EF553B",
           "#00cc96",
           "#ab63fa",
           "#FFA15A",
           "#19d3f3",
           "#FF6692",
           "#B6E880",
           "#FF97FF",
           "#FECB52"
          ],
          "font": {
           "color": "#2a3f5f"
          },
          "geo": {
           "bgcolor": "white",
           "lakecolor": "white",
           "landcolor": "#E5ECF6",
           "showlakes": true,
           "showland": true,
           "subunitcolor": "white"
          },
          "hoverlabel": {
           "align": "left"
          },
          "hovermode": "closest",
          "mapbox": {
           "style": "light"
          },
          "paper_bgcolor": "white",
          "plot_bgcolor": "#E5ECF6",
          "polar": {
           "angularaxis": {
            "gridcolor": "white",
            "linecolor": "white",
            "ticks": ""
           },
           "bgcolor": "#E5ECF6",
           "radialaxis": {
            "gridcolor": "white",
            "linecolor": "white",
            "ticks": ""
           }
          },
          "scene": {
           "xaxis": {
            "backgroundcolor": "#E5ECF6",
            "gridcolor": "white",
            "gridwidth": 2,
            "linecolor": "white",
            "showbackground": true,
            "ticks": "",
            "zerolinecolor": "white"
           },
           "yaxis": {
            "backgroundcolor": "#E5ECF6",
            "gridcolor": "white",
            "gridwidth": 2,
            "linecolor": "white",
            "showbackground": true,
            "ticks": "",
            "zerolinecolor": "white"
           },
           "zaxis": {
            "backgroundcolor": "#E5ECF6",
            "gridcolor": "white",
            "gridwidth": 2,
            "linecolor": "white",
            "showbackground": true,
            "ticks": "",
            "zerolinecolor": "white"
           }
          },
          "shapedefaults": {
           "line": {
            "color": "#2a3f5f"
           }
          },
          "ternary": {
           "aaxis": {
            "gridcolor": "white",
            "linecolor": "white",
            "ticks": ""
           },
           "baxis": {
            "gridcolor": "white",
            "linecolor": "white",
            "ticks": ""
           },
           "bgcolor": "#E5ECF6",
           "caxis": {
            "gridcolor": "white",
            "linecolor": "white",
            "ticks": ""
           }
          },
          "title": {
           "x": 0.05
          },
          "xaxis": {
           "automargin": true,
           "gridcolor": "white",
           "linecolor": "white",
           "ticks": "",
           "title": {
            "standoff": 15
           },
           "zerolinecolor": "white",
           "zerolinewidth": 2
          },
          "yaxis": {
           "automargin": true,
           "gridcolor": "white",
           "linecolor": "white",
           "ticks": "",
           "title": {
            "standoff": 15
           },
           "zerolinecolor": "white",
           "zerolinewidth": 2
          }
         }
        },
        "xaxis": {
         "anchor": "y",
         "domain": [
          0,
          1
         ],
         "title": {
          "text": "x"
         }
        },
        "yaxis": {
         "anchor": "x",
         "domain": [
          0,
          1
         ],
         "title": {
          "text": "y"
         }
        }
       }
      }
     },
     "metadata": {},
     "output_type": "display_data"
    }
   ],
   "source": [
    "(px.scatter(x=X_1,y=X_2,color=S))"
   ]
  },
  {
   "cell_type": "code",
   "execution_count": 29,
   "metadata": {},
   "outputs": [
    {
     "name": "stdout",
     "output_type": "stream",
     "text": [
      "(Scatter({\n",
      "    'hovertemplate': 'x=%{x}<br>y=%{y}<br>color=%{marker.color}<extra></extra>',\n",
      "    'legendgroup': '',\n",
      "    'marker': {'color': array([ 9.,  8.,  2., 21.,  3.,  0.,  5.,  0.,  0.,  5.,  4.,  0., 11.,  9.,\n",
      "                                2.,  3.,  0.,  0.,  4.,  1.,  0.,  2.,  5., 10.,  0., 12., 16.,  4.,\n",
      "                                1., 12.,  3.,  2.,  0.,  9., 10.,  9.,  3.,  9.,  4.,  4.,  5.,  0.,\n",
      "                                0., 13.,  2.,  7., 13., 10.,  5.,  2.,  4.,  3.,  0.,  0.,  9.,  0.,\n",
      "                                1., 11.,  2., 14.,  2.,  1., 10.,  2.,  0., 10.,  0.,  0., 15.,  0.,\n",
      "                               10.,  2.,  8., 15., 10.,  3.,  8.,  0.,  1.,  0., 13.,  0.,  2.,  1.,\n",
      "                                1., 10.,  1.,  3., 13.,  0.,  8., 11.,  0.,  2., 11.,  4., 13.,  5.,\n",
      "                                7.,  0.]),\n",
      "               'coloraxis': 'coloraxis',\n",
      "               'symbol': 'circle'},\n",
      "    'mode': 'markers',\n",
      "    'name': '',\n",
      "    'orientation': 'v',\n",
      "    'showlegend': False,\n",
      "    'x': array([ 1.27058976,  1.23278615,  0.01336775, -0.86165195,  0.91761527,\n",
      "                 4.33404012,  1.72876677,  4.4064746 , -0.10255172,  1.19548146,\n",
      "                 0.81294267,  4.97631152,  0.02780394,  0.86700008,  0.39261701,\n",
      "                 0.77639476,  4.45659003,  4.8933725 , -0.67683139,  0.47982607,\n",
      "                 5.67160785, -0.03312496,  1.80637145,  0.84491605,  3.80849991,\n",
      "                -0.1612424 ,  1.51027834,  2.5183154 ,  5.1303227 , -0.20277765,\n",
      "                -1.06079362,  0.23216214,  5.39816543,  1.5570005 ,  0.0585096 ,\n",
      "                 1.70894743,  0.0187616 ,  2.19806802, -0.79737562,  0.32716042,\n",
      "                -0.41284041,  5.35253295,  4.68981155,  0.65368848, -0.47396541,\n",
      "                -0.0626079 ,  0.74431701,  3.20642065,  1.48167876, -0.77338057,\n",
      "                 0.57446297, -0.17772736,  5.34150935,  4.98106366, -0.60332925,\n",
      "                 4.49085685,  5.39259329, -0.46407205, -0.94804038,  0.95210691,\n",
      "                 1.20414185,  4.61500419,  0.92208698,  4.89959667,  4.12566527,\n",
      "                -0.8313121 ,  3.6746156 ,  4.01645712,  0.7289307 ,  5.32375873,\n",
      "                 1.73562823,  0.25469716,  1.49849726,  1.39843256,  1.14312623,\n",
      "                 1.00186755,  1.97770496,  3.79252454,  5.22608036,  5.53172727,\n",
      "                 0.36515142,  5.39336983,  0.12332652,  5.9710112 , -0.02052297,\n",
      "                 0.71121286,  5.2660386 ,  0.86687689,  1.62722778,  4.62609345,\n",
      "                 2.41418096,  0.64498857,  4.92822807, -1.18316112,  0.62205163,\n",
      "                 0.41801827,  1.29968749,  1.98222849,  0.60099769,  5.87663006]),\n",
      "    'xaxis': 'x',\n",
      "    'y': array([ 1.7257652 ,  1.05790213,  4.72893517,  1.79525039,  4.47408043,\n",
      "                -0.99287812,  2.74325916, -0.46877028,  5.13663656, -0.29369351,\n",
      "                 4.88999095,  0.06212964,  0.59912404, -0.02706607,  2.90877961,\n",
      "                 5.34998843, -1.04458118,  0.65929325,  5.1035505 ,  6.08475509,\n",
      "                -0.42812589,  4.32368192, -0.01688879,  1.22452454,  1.28001429,\n",
      "                -0.65542166,  1.45535686, -0.46957115,  1.02267401,  2.0881575 ,\n",
      "                 5.01620255,  3.9998347 ,  1.17922922,  1.2902081 ,  1.06633043,\n",
      "                 0.47518615,  6.12163402,  2.4066402 ,  3.57009338,  4.4898604 ,\n",
      "                 2.03673924,  0.13925019,  0.04993893, -0.21359283,  4.61909832,\n",
      "                 4.17849949,  1.68401661, -0.61849708,  5.1444193 ,  4.06647743,\n",
      "                 4.26140527,  5.74053992,  0.45851352,  0.05013865,  0.90256577,\n",
      "                -0.72168177,  0.55569691, -0.28718611,  4.07547059,  0.23085212,\n",
      "                 4.21856599,  0.11935382,  2.01728766, -0.0223061 , -0.32714987,\n",
      "                -0.59473385,  0.19456872, -0.09128852,  1.54646461,  0.38334134,\n",
      "                 0.01525337,  5.92543592,  1.47498239,  0.56799613, -0.15496563,\n",
      "                 5.28669647,  0.69878959,  0.04770068, -0.22729384, -0.13655144,\n",
      "                -0.79167888,  0.6311594 ,  5.12904233,  1.60721579,  5.09376632,\n",
      "                 0.40724226,  0.77898579,  5.57884791,  0.22254358, -0.37717698,\n",
      "                 1.17615603,  2.25871838, -0.27078146,  5.64767596,  0.31643645,\n",
      "                 4.39383168,  1.65697332, -1.05797013,  1.08599844,  0.50718807]),\n",
      "    'yaxis': 'y'\n",
      "}),)\n"
     ]
    }
   ],
   "source": [
    "print((px.scatter(x=X_1,y=X_2,color=S))[\"data\"])"
   ]
  },
  {
   "cell_type": "code",
   "execution_count": 28,
   "metadata": {},
   "outputs": [
    {
     "name": "stdout",
     "output_type": "stream",
     "text": [
      "Figure({\n",
      "    'data': [{'marker': {'color': array([ 9.,  8.,  2., 21.,  3.,  0.,  5.,  0.,  0.,  5.,  4.,  0., 11.,  9.,\n",
      "                                          2.,  3.,  0.,  0.,  4.,  1.,  0.,  2.,  5., 10.,  0., 12., 16.,  4.,\n",
      "                                          1., 12.,  3.,  2.,  0.,  9., 10.,  9.,  3.,  9.,  4.,  4.,  5.,  0.,\n",
      "                                          0., 13.,  2.,  7., 13., 10.,  5.,  2.,  4.,  3.,  0.,  0.,  9.,  0.,\n",
      "                                          1., 11.,  2., 14.,  2.,  1., 10.,  2.,  0., 10.,  0.,  0., 15.,  0.,\n",
      "                                         10.,  2.,  8., 15., 10.,  3.,  8.,  0.,  1.,  0., 13.,  0.,  2.,  1.,\n",
      "                                          1., 10.,  1.,  3., 13.,  0.,  8., 11.,  0.,  2., 11.,  4., 13.,  5.,\n",
      "                                          7.,  0.]),\n",
      "                         'showscale': True},\n",
      "              'mode': 'markers',\n",
      "              'type': 'scatter',\n",
      "              'x': array([ 1.27058976,  1.23278615,  0.01336775, -0.86165195,  0.91761527,\n",
      "                           4.33404012,  1.72876677,  4.4064746 , -0.10255172,  1.19548146,\n",
      "                           0.81294267,  4.97631152,  0.02780394,  0.86700008,  0.39261701,\n",
      "                           0.77639476,  4.45659003,  4.8933725 , -0.67683139,  0.47982607,\n",
      "                           5.67160785, -0.03312496,  1.80637145,  0.84491605,  3.80849991,\n",
      "                          -0.1612424 ,  1.51027834,  2.5183154 ,  5.1303227 , -0.20277765,\n",
      "                          -1.06079362,  0.23216214,  5.39816543,  1.5570005 ,  0.0585096 ,\n",
      "                           1.70894743,  0.0187616 ,  2.19806802, -0.79737562,  0.32716042,\n",
      "                          -0.41284041,  5.35253295,  4.68981155,  0.65368848, -0.47396541,\n",
      "                          -0.0626079 ,  0.74431701,  3.20642065,  1.48167876, -0.77338057,\n",
      "                           0.57446297, -0.17772736,  5.34150935,  4.98106366, -0.60332925,\n",
      "                           4.49085685,  5.39259329, -0.46407205, -0.94804038,  0.95210691,\n",
      "                           1.20414185,  4.61500419,  0.92208698,  4.89959667,  4.12566527,\n",
      "                          -0.8313121 ,  3.6746156 ,  4.01645712,  0.7289307 ,  5.32375873,\n",
      "                           1.73562823,  0.25469716,  1.49849726,  1.39843256,  1.14312623,\n",
      "                           1.00186755,  1.97770496,  3.79252454,  5.22608036,  5.53172727,\n",
      "                           0.36515142,  5.39336983,  0.12332652,  5.9710112 , -0.02052297,\n",
      "                           0.71121286,  5.2660386 ,  0.86687689,  1.62722778,  4.62609345,\n",
      "                           2.41418096,  0.64498857,  4.92822807, -1.18316112,  0.62205163,\n",
      "                           0.41801827,  1.29968749,  1.98222849,  0.60099769,  5.87663006]),\n",
      "              'y': array([ 1.7257652 ,  1.05790213,  4.72893517,  1.79525039,  4.47408043,\n",
      "                          -0.99287812,  2.74325916, -0.46877028,  5.13663656, -0.29369351,\n",
      "                           4.88999095,  0.06212964,  0.59912404, -0.02706607,  2.90877961,\n",
      "                           5.34998843, -1.04458118,  0.65929325,  5.1035505 ,  6.08475509,\n",
      "                          -0.42812589,  4.32368192, -0.01688879,  1.22452454,  1.28001429,\n",
      "                          -0.65542166,  1.45535686, -0.46957115,  1.02267401,  2.0881575 ,\n",
      "                           5.01620255,  3.9998347 ,  1.17922922,  1.2902081 ,  1.06633043,\n",
      "                           0.47518615,  6.12163402,  2.4066402 ,  3.57009338,  4.4898604 ,\n",
      "                           2.03673924,  0.13925019,  0.04993893, -0.21359283,  4.61909832,\n",
      "                           4.17849949,  1.68401661, -0.61849708,  5.1444193 ,  4.06647743,\n",
      "                           4.26140527,  5.74053992,  0.45851352,  0.05013865,  0.90256577,\n",
      "                          -0.72168177,  0.55569691, -0.28718611,  4.07547059,  0.23085212,\n",
      "                           4.21856599,  0.11935382,  2.01728766, -0.0223061 , -0.32714987,\n",
      "                          -0.59473385,  0.19456872, -0.09128852,  1.54646461,  0.38334134,\n",
      "                           0.01525337,  5.92543592,  1.47498239,  0.56799613, -0.15496563,\n",
      "                           5.28669647,  0.69878959,  0.04770068, -0.22729384, -0.13655144,\n",
      "                          -0.79167888,  0.6311594 ,  5.12904233,  1.60721579,  5.09376632,\n",
      "                           0.40724226,  0.77898579,  5.57884791,  0.22254358, -0.37717698,\n",
      "                           1.17615603,  2.25871838, -0.27078146,  5.64767596,  0.31643645,\n",
      "                           4.39383168,  1.65697332, -1.05797013,  1.08599844,  0.50718807])}],\n",
      "    'layout': {'template': '...'}\n",
      "})\n"
     ]
    }
   ],
   "source": [
    "print(go.Figure(data=go.Scatter(x=X_1,y=X_2,mode=\"markers\", marker_color=S,marker_showscale=True)))"
   ]
  },
  {
   "cell_type": "code",
   "execution_count": 33,
   "metadata": {},
   "outputs": [
    {
     "data": {
      "application/vnd.plotly.v1+json": {
       "config": {
        "plotlyServerURL": "https://plot.ly"
       },
       "data": [
        {
         "marker": {
          "color": [
           9,
           8,
           2,
           21,
           3,
           0,
           5,
           0,
           0,
           5,
           4,
           0,
           11,
           9,
           2,
           3,
           0,
           0,
           4,
           1,
           0,
           2,
           5,
           10,
           0,
           12,
           16,
           4,
           1,
           12,
           3,
           2,
           0,
           9,
           10,
           9,
           3,
           9,
           4,
           4,
           5,
           0,
           0,
           13,
           2,
           7,
           13,
           10,
           5,
           2,
           4,
           3,
           0,
           0,
           9,
           0,
           1,
           11,
           2,
           14,
           2,
           1,
           10,
           2,
           0,
           10,
           0,
           0,
           15,
           0,
           10,
           2,
           8,
           15,
           10,
           3,
           8,
           0,
           1,
           0,
           13,
           0,
           2,
           1,
           1,
           10,
           1,
           3,
           13,
           0,
           8,
           11,
           0,
           2,
           11,
           4,
           13,
           5,
           7,
           0
          ],
          "coloraxis": "coloraxis"
         },
         "mode": "markers",
         "type": "scatter",
         "x": [
          1.2705897595111002,
          1.232786152819342,
          0.013367752176035346,
          -0.861651950829968,
          0.9176152732624041,
          4.334040123799776,
          1.7287667688631254,
          4.4064745954300735,
          -0.10255171997999371,
          1.1954814623291405,
          0.8129426658363049,
          4.976311517117257,
          0.027803941306761448,
          0.8670000825741092,
          0.39261700688898254,
          0.7763947595665742,
          4.456590029482638,
          4.893372500723433,
          -0.6768313946854596,
          0.47982607116646914,
          5.671607851827795,
          -0.033124956181898715,
          1.8063714471281238,
          0.8449160542008298,
          3.8084999097465193,
          -0.16124239758617565,
          1.5102783384586205,
          2.5183153990522316,
          5.130322698524594,
          -0.20277764603771908,
          -1.0607936202802326,
          0.23216214197156781,
          5.398165434822647,
          1.5570005041677097,
          0.05850959538665468,
          1.70894742527448,
          0.018761595194748078,
          2.1980680167050224,
          -0.797375619137129,
          0.327160420673596,
          -0.4128404119602973,
          5.352532953916012,
          4.689811551697283,
          0.6536884833028046,
          -0.47396541479752596,
          -0.06260789550961447,
          0.7443170133351996,
          3.2064206509305504,
          1.4816787554005313,
          -0.7733805717503915,
          0.5744629748437424,
          -0.1777273555629793,
          5.341509349740916,
          4.981063657848886,
          -0.6033292478280006,
          4.490856847296555,
          5.3925932944452155,
          -0.4640720482522591,
          -0.9480403837139417,
          0.9521069061691001,
          1.2041418509721922,
          4.615004191374177,
          0.922086982152557,
          4.8995966711740415,
          4.125665272989014,
          -0.8313121022755774,
          3.674615601986635,
          4.016457120320092,
          0.7289307028651402,
          5.323758729958422,
          1.735628225525482,
          0.25469716266834413,
          1.4984972637942335,
          1.3984325645712934,
          1.1431262299405665,
          1.0018675521175766,
          1.9777049646052878,
          3.792524539447746,
          5.226080355708728,
          5.531727267565511,
          0.3651514204374857,
          5.393369830370042,
          0.12332651683283659,
          5.9710111997328,
          -0.020522968843756723,
          0.7112128637639432,
          5.266038602123919,
          0.8668768900689378,
          1.6272277777248347,
          4.626093450718383,
          2.41418096313428,
          0.6449885678857703,
          4.928228070318161,
          -1.1831611174495442,
          0.6220516323664389,
          0.418018265918203,
          1.2996874937678906,
          1.982228486967167,
          0.600997688053845,
          5.876630059595215
         ],
         "y": [
          1.7257652035050006,
          1.0579021347823874,
          4.728935172043818,
          1.7952503883899071,
          4.474080432997857,
          -0.9928781241940524,
          2.7432591570166602,
          -0.46877028181596525,
          5.136636555002442,
          -0.2936935089641015,
          4.889990949767856,
          0.0621296419764642,
          0.5991240439494587,
          -0.027066068590247294,
          2.908779609946954,
          5.349988430824459,
          -1.0445811779551797,
          0.6592932460020668,
          5.103550498408602,
          6.084755087665347,
          -0.428125887472737,
          4.3236819240106685,
          -0.01688878735418431,
          1.2245245400531257,
          1.2800142905290082,
          -0.6554216562966568,
          1.4553568584711702,
          -0.4695711489917187,
          1.0226740099991802,
          2.0881574998374743,
          5.016202553199254,
          3.9998347040697455,
          1.1792292166101543,
          1.2902080980320154,
          1.0663304305569037,
          0.4751861491064475,
          6.121634020079515,
          2.4066402032170453,
          3.5700933834666357,
          4.489860398333061,
          2.036739243944523,
          0.1392501907268009,
          0.0499389346100807,
          -0.21359283205699198,
          4.619098319281601,
          4.178499489340195,
          1.6840166095132678,
          -0.6184970803117267,
          5.144419298279857,
          4.066477431061233,
          4.261405269605056,
          5.740539919827522,
          0.45851351629645787,
          0.0501386519138093,
          0.9025657715053128,
          -0.7216817718704832,
          0.5556969079961105,
          -0.28718610864477223,
          4.075470586961785,
          0.230852123898037,
          4.218565993317015,
          0.11935382456681165,
          2.0172876624756837,
          -0.022306104493922424,
          -0.3271498711329238,
          -0.5947338526584758,
          0.19456871762132616,
          -0.09128851713450525,
          1.5464646073551185,
          0.3833413371571423,
          0.015253374421231758,
          5.925435917240464,
          1.4749823885312434,
          0.567996132517522,
          -0.15496563142108766,
          5.286696468069845,
          0.6987895870927692,
          0.04770068060087872,
          -0.22729383650830404,
          -0.13655143924996152,
          -0.7916788812743145,
          0.6311593995025745,
          5.129042327041527,
          1.6072157871886406,
          5.093766317747933,
          0.4072422647168763,
          0.7789857945344631,
          5.578847907835627,
          0.22254357879333875,
          -0.3771769834199702,
          1.1761560343454354,
          2.2587183751565743,
          -0.27078145557772954,
          5.647675959042558,
          0.3164364470914761,
          4.393831681877205,
          1.6569733241355027,
          -1.0579701271833146,
          1.085998435691255,
          0.5071880676931332
         ]
        }
       ],
       "layout": {
        "template": {
         "data": {
          "bar": [
           {
            "error_x": {
             "color": "#2a3f5f"
            },
            "error_y": {
             "color": "#2a3f5f"
            },
            "marker": {
             "line": {
              "color": "#E5ECF6",
              "width": 0.5
             },
             "pattern": {
              "fillmode": "overlay",
              "size": 10,
              "solidity": 0.2
             }
            },
            "type": "bar"
           }
          ],
          "barpolar": [
           {
            "marker": {
             "line": {
              "color": "#E5ECF6",
              "width": 0.5
             },
             "pattern": {
              "fillmode": "overlay",
              "size": 10,
              "solidity": 0.2
             }
            },
            "type": "barpolar"
           }
          ],
          "carpet": [
           {
            "aaxis": {
             "endlinecolor": "#2a3f5f",
             "gridcolor": "white",
             "linecolor": "white",
             "minorgridcolor": "white",
             "startlinecolor": "#2a3f5f"
            },
            "baxis": {
             "endlinecolor": "#2a3f5f",
             "gridcolor": "white",
             "linecolor": "white",
             "minorgridcolor": "white",
             "startlinecolor": "#2a3f5f"
            },
            "type": "carpet"
           }
          ],
          "choropleth": [
           {
            "colorbar": {
             "outlinewidth": 0,
             "ticks": ""
            },
            "type": "choropleth"
           }
          ],
          "contour": [
           {
            "colorbar": {
             "outlinewidth": 0,
             "ticks": ""
            },
            "colorscale": [
             [
              0,
              "#0d0887"
             ],
             [
              0.1111111111111111,
              "#46039f"
             ],
             [
              0.2222222222222222,
              "#7201a8"
             ],
             [
              0.3333333333333333,
              "#9c179e"
             ],
             [
              0.4444444444444444,
              "#bd3786"
             ],
             [
              0.5555555555555556,
              "#d8576b"
             ],
             [
              0.6666666666666666,
              "#ed7953"
             ],
             [
              0.7777777777777778,
              "#fb9f3a"
             ],
             [
              0.8888888888888888,
              "#fdca26"
             ],
             [
              1,
              "#f0f921"
             ]
            ],
            "type": "contour"
           }
          ],
          "contourcarpet": [
           {
            "colorbar": {
             "outlinewidth": 0,
             "ticks": ""
            },
            "type": "contourcarpet"
           }
          ],
          "heatmap": [
           {
            "colorbar": {
             "outlinewidth": 0,
             "ticks": ""
            },
            "colorscale": [
             [
              0,
              "#0d0887"
             ],
             [
              0.1111111111111111,
              "#46039f"
             ],
             [
              0.2222222222222222,
              "#7201a8"
             ],
             [
              0.3333333333333333,
              "#9c179e"
             ],
             [
              0.4444444444444444,
              "#bd3786"
             ],
             [
              0.5555555555555556,
              "#d8576b"
             ],
             [
              0.6666666666666666,
              "#ed7953"
             ],
             [
              0.7777777777777778,
              "#fb9f3a"
             ],
             [
              0.8888888888888888,
              "#fdca26"
             ],
             [
              1,
              "#f0f921"
             ]
            ],
            "type": "heatmap"
           }
          ],
          "heatmapgl": [
           {
            "colorbar": {
             "outlinewidth": 0,
             "ticks": ""
            },
            "colorscale": [
             [
              0,
              "#0d0887"
             ],
             [
              0.1111111111111111,
              "#46039f"
             ],
             [
              0.2222222222222222,
              "#7201a8"
             ],
             [
              0.3333333333333333,
              "#9c179e"
             ],
             [
              0.4444444444444444,
              "#bd3786"
             ],
             [
              0.5555555555555556,
              "#d8576b"
             ],
             [
              0.6666666666666666,
              "#ed7953"
             ],
             [
              0.7777777777777778,
              "#fb9f3a"
             ],
             [
              0.8888888888888888,
              "#fdca26"
             ],
             [
              1,
              "#f0f921"
             ]
            ],
            "type": "heatmapgl"
           }
          ],
          "histogram": [
           {
            "marker": {
             "pattern": {
              "fillmode": "overlay",
              "size": 10,
              "solidity": 0.2
             }
            },
            "type": "histogram"
           }
          ],
          "histogram2d": [
           {
            "colorbar": {
             "outlinewidth": 0,
             "ticks": ""
            },
            "colorscale": [
             [
              0,
              "#0d0887"
             ],
             [
              0.1111111111111111,
              "#46039f"
             ],
             [
              0.2222222222222222,
              "#7201a8"
             ],
             [
              0.3333333333333333,
              "#9c179e"
             ],
             [
              0.4444444444444444,
              "#bd3786"
             ],
             [
              0.5555555555555556,
              "#d8576b"
             ],
             [
              0.6666666666666666,
              "#ed7953"
             ],
             [
              0.7777777777777778,
              "#fb9f3a"
             ],
             [
              0.8888888888888888,
              "#fdca26"
             ],
             [
              1,
              "#f0f921"
             ]
            ],
            "type": "histogram2d"
           }
          ],
          "histogram2dcontour": [
           {
            "colorbar": {
             "outlinewidth": 0,
             "ticks": ""
            },
            "colorscale": [
             [
              0,
              "#0d0887"
             ],
             [
              0.1111111111111111,
              "#46039f"
             ],
             [
              0.2222222222222222,
              "#7201a8"
             ],
             [
              0.3333333333333333,
              "#9c179e"
             ],
             [
              0.4444444444444444,
              "#bd3786"
             ],
             [
              0.5555555555555556,
              "#d8576b"
             ],
             [
              0.6666666666666666,
              "#ed7953"
             ],
             [
              0.7777777777777778,
              "#fb9f3a"
             ],
             [
              0.8888888888888888,
              "#fdca26"
             ],
             [
              1,
              "#f0f921"
             ]
            ],
            "type": "histogram2dcontour"
           }
          ],
          "mesh3d": [
           {
            "colorbar": {
             "outlinewidth": 0,
             "ticks": ""
            },
            "type": "mesh3d"
           }
          ],
          "parcoords": [
           {
            "line": {
             "colorbar": {
              "outlinewidth": 0,
              "ticks": ""
             }
            },
            "type": "parcoords"
           }
          ],
          "pie": [
           {
            "automargin": true,
            "type": "pie"
           }
          ],
          "scatter": [
           {
            "fillpattern": {
             "fillmode": "overlay",
             "size": 10,
             "solidity": 0.2
            },
            "type": "scatter"
           }
          ],
          "scatter3d": [
           {
            "line": {
             "colorbar": {
              "outlinewidth": 0,
              "ticks": ""
             }
            },
            "marker": {
             "colorbar": {
              "outlinewidth": 0,
              "ticks": ""
             }
            },
            "type": "scatter3d"
           }
          ],
          "scattercarpet": [
           {
            "marker": {
             "colorbar": {
              "outlinewidth": 0,
              "ticks": ""
             }
            },
            "type": "scattercarpet"
           }
          ],
          "scattergeo": [
           {
            "marker": {
             "colorbar": {
              "outlinewidth": 0,
              "ticks": ""
             }
            },
            "type": "scattergeo"
           }
          ],
          "scattergl": [
           {
            "marker": {
             "colorbar": {
              "outlinewidth": 0,
              "ticks": ""
             }
            },
            "type": "scattergl"
           }
          ],
          "scattermapbox": [
           {
            "marker": {
             "colorbar": {
              "outlinewidth": 0,
              "ticks": ""
             }
            },
            "type": "scattermapbox"
           }
          ],
          "scatterpolar": [
           {
            "marker": {
             "colorbar": {
              "outlinewidth": 0,
              "ticks": ""
             }
            },
            "type": "scatterpolar"
           }
          ],
          "scatterpolargl": [
           {
            "marker": {
             "colorbar": {
              "outlinewidth": 0,
              "ticks": ""
             }
            },
            "type": "scatterpolargl"
           }
          ],
          "scatterternary": [
           {
            "marker": {
             "colorbar": {
              "outlinewidth": 0,
              "ticks": ""
             }
            },
            "type": "scatterternary"
           }
          ],
          "surface": [
           {
            "colorbar": {
             "outlinewidth": 0,
             "ticks": ""
            },
            "colorscale": [
             [
              0,
              "#0d0887"
             ],
             [
              0.1111111111111111,
              "#46039f"
             ],
             [
              0.2222222222222222,
              "#7201a8"
             ],
             [
              0.3333333333333333,
              "#9c179e"
             ],
             [
              0.4444444444444444,
              "#bd3786"
             ],
             [
              0.5555555555555556,
              "#d8576b"
             ],
             [
              0.6666666666666666,
              "#ed7953"
             ],
             [
              0.7777777777777778,
              "#fb9f3a"
             ],
             [
              0.8888888888888888,
              "#fdca26"
             ],
             [
              1,
              "#f0f921"
             ]
            ],
            "type": "surface"
           }
          ],
          "table": [
           {
            "cells": {
             "fill": {
              "color": "#EBF0F8"
             },
             "line": {
              "color": "white"
             }
            },
            "header": {
             "fill": {
              "color": "#C8D4E3"
             },
             "line": {
              "color": "white"
             }
            },
            "type": "table"
           }
          ]
         },
         "layout": {
          "annotationdefaults": {
           "arrowcolor": "#2a3f5f",
           "arrowhead": 0,
           "arrowwidth": 1
          },
          "autotypenumbers": "strict",
          "coloraxis": {
           "colorbar": {
            "outlinewidth": 0,
            "ticks": ""
           }
          },
          "colorscale": {
           "diverging": [
            [
             0,
             "#8e0152"
            ],
            [
             0.1,
             "#c51b7d"
            ],
            [
             0.2,
             "#de77ae"
            ],
            [
             0.3,
             "#f1b6da"
            ],
            [
             0.4,
             "#fde0ef"
            ],
            [
             0.5,
             "#f7f7f7"
            ],
            [
             0.6,
             "#e6f5d0"
            ],
            [
             0.7,
             "#b8e186"
            ],
            [
             0.8,
             "#7fbc41"
            ],
            [
             0.9,
             "#4d9221"
            ],
            [
             1,
             "#276419"
            ]
           ],
           "sequential": [
            [
             0,
             "#0d0887"
            ],
            [
             0.1111111111111111,
             "#46039f"
            ],
            [
             0.2222222222222222,
             "#7201a8"
            ],
            [
             0.3333333333333333,
             "#9c179e"
            ],
            [
             0.4444444444444444,
             "#bd3786"
            ],
            [
             0.5555555555555556,
             "#d8576b"
            ],
            [
             0.6666666666666666,
             "#ed7953"
            ],
            [
             0.7777777777777778,
             "#fb9f3a"
            ],
            [
             0.8888888888888888,
             "#fdca26"
            ],
            [
             1,
             "#f0f921"
            ]
           ],
           "sequentialminus": [
            [
             0,
             "#0d0887"
            ],
            [
             0.1111111111111111,
             "#46039f"
            ],
            [
             0.2222222222222222,
             "#7201a8"
            ],
            [
             0.3333333333333333,
             "#9c179e"
            ],
            [
             0.4444444444444444,
             "#bd3786"
            ],
            [
             0.5555555555555556,
             "#d8576b"
            ],
            [
             0.6666666666666666,
             "#ed7953"
            ],
            [
             0.7777777777777778,
             "#fb9f3a"
            ],
            [
             0.8888888888888888,
             "#fdca26"
            ],
            [
             1,
             "#f0f921"
            ]
           ]
          },
          "colorway": [
           "#636efa",
           "#EF553B",
           "#00cc96",
           "#ab63fa",
           "#FFA15A",
           "#19d3f3",
           "#FF6692",
           "#B6E880",
           "#FF97FF",
           "#FECB52"
          ],
          "font": {
           "color": "#2a3f5f"
          },
          "geo": {
           "bgcolor": "white",
           "lakecolor": "white",
           "landcolor": "#E5ECF6",
           "showlakes": true,
           "showland": true,
           "subunitcolor": "white"
          },
          "hoverlabel": {
           "align": "left"
          },
          "hovermode": "closest",
          "mapbox": {
           "style": "light"
          },
          "paper_bgcolor": "white",
          "plot_bgcolor": "#E5ECF6",
          "polar": {
           "angularaxis": {
            "gridcolor": "white",
            "linecolor": "white",
            "ticks": ""
           },
           "bgcolor": "#E5ECF6",
           "radialaxis": {
            "gridcolor": "white",
            "linecolor": "white",
            "ticks": ""
           }
          },
          "scene": {
           "xaxis": {
            "backgroundcolor": "#E5ECF6",
            "gridcolor": "white",
            "gridwidth": 2,
            "linecolor": "white",
            "showbackground": true,
            "ticks": "",
            "zerolinecolor": "white"
           },
           "yaxis": {
            "backgroundcolor": "#E5ECF6",
            "gridcolor": "white",
            "gridwidth": 2,
            "linecolor": "white",
            "showbackground": true,
            "ticks": "",
            "zerolinecolor": "white"
           },
           "zaxis": {
            "backgroundcolor": "#E5ECF6",
            "gridcolor": "white",
            "gridwidth": 2,
            "linecolor": "white",
            "showbackground": true,
            "ticks": "",
            "zerolinecolor": "white"
           }
          },
          "shapedefaults": {
           "line": {
            "color": "#2a3f5f"
           }
          },
          "ternary": {
           "aaxis": {
            "gridcolor": "white",
            "linecolor": "white",
            "ticks": ""
           },
           "baxis": {
            "gridcolor": "white",
            "linecolor": "white",
            "ticks": ""
           },
           "bgcolor": "#E5ECF6",
           "caxis": {
            "gridcolor": "white",
            "linecolor": "white",
            "ticks": ""
           }
          },
          "title": {
           "x": 0.05
          },
          "xaxis": {
           "automargin": true,
           "gridcolor": "white",
           "linecolor": "white",
           "ticks": "",
           "title": {
            "standoff": 15
           },
           "zerolinecolor": "white",
           "zerolinewidth": 2
          },
          "yaxis": {
           "automargin": true,
           "gridcolor": "white",
           "linecolor": "white",
           "ticks": "",
           "title": {
            "standoff": 15
           },
           "zerolinecolor": "white",
           "zerolinewidth": 2
          }
         }
        }
       }
      }
     },
     "metadata": {},
     "output_type": "display_data"
    }
   ],
   "source": [
    "go.Figure(data=go.Scatter(x=X_1,y=X_2,mode=\"markers\", marker={\"color\":S,'coloraxis':'coloraxis'}))"
   ]
  }
 ],
 "metadata": {
  "kernelspec": {
   "display_name": "Python 3.9.7 64-bit",
   "language": "python",
   "name": "python3"
  },
  "language_info": {
   "codemirror_mode": {
    "name": "ipython",
    "version": 3
   },
   "file_extension": ".py",
   "mimetype": "text/x-python",
   "name": "python",
   "nbconvert_exporter": "python",
   "pygments_lexer": "ipython3",
   "version": "3.9.7"
  },
  "orig_nbformat": 4,
  "vscode": {
   "interpreter": {
    "hash": "15f3ceccf70e189784212a630bcb6f34ff17d0b5a012153ba4156d676d1715c3"
   }
  }
 },
 "nbformat": 4,
 "nbformat_minor": 2
}
